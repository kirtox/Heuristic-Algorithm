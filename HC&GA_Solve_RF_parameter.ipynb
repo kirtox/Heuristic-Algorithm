{
 "cells": [
  {
   "cell_type": "code",
   "execution_count": 1,
   "metadata": {
    "colab": {
     "base_uri": "https://localhost:8080/",
     "height": 34
    },
    "colab_type": "code",
    "executionInfo": {
     "elapsed": 5104,
     "status": "ok",
     "timestamp": 1574768459958,
     "user": {
      "displayName": "吳韋成",
      "photoUrl": "",
      "userId": "04906925710104432369"
     },
     "user_tz": -480
    },
    "id": "RPxOIhkCwE61",
    "outputId": "53f46b89-bc79-444b-cc3d-67bc2746eb15"
   },
   "outputs": [
    {
     "name": "stdout",
     "output_type": "stream",
     "text": [
      "Mounted at /content/drive\n"
     ]
    }
   ],
   "source": [
    "from google.colab import drive\n",
    "drive.mount('/content/drive', force_remount=True)"
   ]
  },
  {
   "cell_type": "code",
   "execution_count": 2,
   "metadata": {
    "colab": {
     "base_uri": "https://localhost:8080/",
     "height": 34
    },
    "colab_type": "code",
    "executionInfo": {
     "elapsed": 8154,
     "status": "ok",
     "timestamp": 1574768463083,
     "user": {
      "displayName": "吳韋成",
      "photoUrl": "",
      "userId": "04906925710104432369"
     },
     "user_tz": -480
    },
    "id": "DCdoTJJ-wHfY",
    "outputId": "ccb8aceb-5bf4-4d8e-9832-302d4f1d38e6"
   },
   "outputs": [
    {
     "name": "stdout",
     "output_type": "stream",
     "text": [
      "gender_submission.csv  test.csv  train.csv  y_test15.csv\n"
     ]
    }
   ],
   "source": [
    "!ls /content/drive/My\\ Drive/colab/titanic"
   ]
  },
  {
   "cell_type": "code",
   "execution_count": 3,
   "metadata": {
    "colab": {
     "base_uri": "https://localhost:8080/",
     "height": 107
    },
    "colab_type": "code",
    "executionInfo": {
     "elapsed": 11656,
     "status": "ok",
     "timestamp": 1574768466675,
     "user": {
      "displayName": "吳韋成",
      "photoUrl": "",
      "userId": "04906925710104432369"
     },
     "user_tz": -480
    },
    "id": "FuN-7YedxHaB",
    "outputId": "a05f233d-50b3-4f90-da9d-bedca5c9ee8f"
   },
   "outputs": [
    {
     "name": "stdout",
     "output_type": "stream",
     "text": [
      "Requirement already up-to-date: scikit-learn in /usr/local/lib/python3.6/dist-packages (0.21.3)\n",
      "Requirement already satisfied, skipping upgrade: numpy>=1.11.0 in /usr/local/lib/python3.6/dist-packages (from scikit-learn) (1.17.4)\n",
      "Requirement already satisfied, skipping upgrade: scipy>=0.17.0 in /usr/local/lib/python3.6/dist-packages (from scikit-learn) (1.3.2)\n",
      "Requirement already satisfied, skipping upgrade: joblib>=0.11 in /usr/local/lib/python3.6/dist-packages (from scikit-learn) (0.14.0)\n"
     ]
    }
   ],
   "source": [
    "!pip install -U scikit-learn"
   ]
  },
  {
   "cell_type": "code",
   "execution_count": null,
   "metadata": {
    "colab": {},
    "colab_type": "code",
    "id": "byajrBxdwMiO"
   },
   "outputs": [],
   "source": [
    "import os\n",
    "import random\n",
    "import math\n",
    "import time\n",
    "import pandas as pd\n",
    "import numpy as np\n",
    "import seaborn as sns\n",
    "import matplotlib.pyplot as plt\n",
    "%matplotlib inline"
   ]
  },
  {
   "cell_type": "code",
   "execution_count": null,
   "metadata": {
    "colab": {},
    "colab_type": "code",
    "id": "c-gqiR-bwdHA"
   },
   "outputs": [],
   "source": [
    "train = pd.read_csv('/content/drive/My Drive/colab/titanic/train.csv')\n",
    "test = pd.read_csv('/content/drive/My Drive/colab/titanic/test.csv')"
   ]
  },
  {
   "cell_type": "code",
   "execution_count": 6,
   "metadata": {
    "colab": {
     "base_uri": "https://localhost:8080/",
     "height": 318
    },
    "colab_type": "code",
    "executionInfo": {
     "elapsed": 11915,
     "status": "ok",
     "timestamp": 1574768467001,
     "user": {
      "displayName": "吳韋成",
      "photoUrl": "",
      "userId": "04906925710104432369"
     },
     "user_tz": -480
    },
    "id": "8kRpJCdAyh3h",
    "outputId": "227943a7-19ad-4ed5-f59d-9a0d05aa56c1"
   },
   "outputs": [
    {
     "name": "stdout",
     "output_type": "stream",
     "text": [
      "<class 'pandas.core.frame.DataFrame'>\n",
      "RangeIndex: 891 entries, 0 to 890\n",
      "Data columns (total 12 columns):\n",
      "PassengerId    891 non-null int64\n",
      "Survived       891 non-null int64\n",
      "Pclass         891 non-null int64\n",
      "Name           891 non-null object\n",
      "Sex            891 non-null object\n",
      "Age            714 non-null float64\n",
      "SibSp          891 non-null int64\n",
      "Parch          891 non-null int64\n",
      "Ticket         891 non-null object\n",
      "Fare           891 non-null float64\n",
      "Cabin          204 non-null object\n",
      "Embarked       889 non-null object\n",
      "dtypes: float64(2), int64(5), object(5)\n",
      "memory usage: 83.7+ KB\n"
     ]
    }
   ],
   "source": [
    "train.info()"
   ]
  },
  {
   "cell_type": "code",
   "execution_count": 7,
   "metadata": {
    "colab": {
     "base_uri": "https://localhost:8080/",
     "height": 264
    },
    "colab_type": "code",
    "executionInfo": {
     "elapsed": 12280,
     "status": "ok",
     "timestamp": 1574768467388,
     "user": {
      "displayName": "吳韋成",
      "photoUrl": "",
      "userId": "04906925710104432369"
     },
     "user_tz": -480
    },
    "id": "3hrp-nMDypka",
    "outputId": "16a38363-e929-45fb-e073-d6a41925b9b8"
   },
   "outputs": [
    {
     "data": {
      "text/html": [
       "<div>\n",
       "<style scoped>\n",
       "    .dataframe tbody tr th:only-of-type {\n",
       "        vertical-align: middle;\n",
       "    }\n",
       "\n",
       "    .dataframe tbody tr th {\n",
       "        vertical-align: top;\n",
       "    }\n",
       "\n",
       "    .dataframe thead th {\n",
       "        text-align: right;\n",
       "    }\n",
       "</style>\n",
       "<table border=\"1\" class=\"dataframe\">\n",
       "  <thead>\n",
       "    <tr style=\"text-align: right;\">\n",
       "      <th></th>\n",
       "      <th>PassengerId</th>\n",
       "      <th>Survived</th>\n",
       "      <th>Pclass</th>\n",
       "      <th>Name</th>\n",
       "      <th>Sex</th>\n",
       "      <th>Age</th>\n",
       "      <th>SibSp</th>\n",
       "      <th>Parch</th>\n",
       "      <th>Ticket</th>\n",
       "      <th>Fare</th>\n",
       "      <th>Cabin</th>\n",
       "      <th>Embarked</th>\n",
       "    </tr>\n",
       "  </thead>\n",
       "  <tbody>\n",
       "    <tr>\n",
       "      <th>0</th>\n",
       "      <td>1</td>\n",
       "      <td>0</td>\n",
       "      <td>3</td>\n",
       "      <td>Braund, Mr. Owen Harris</td>\n",
       "      <td>male</td>\n",
       "      <td>22.0</td>\n",
       "      <td>1</td>\n",
       "      <td>0</td>\n",
       "      <td>A/5 21171</td>\n",
       "      <td>7.2500</td>\n",
       "      <td>NaN</td>\n",
       "      <td>S</td>\n",
       "    </tr>\n",
       "    <tr>\n",
       "      <th>1</th>\n",
       "      <td>2</td>\n",
       "      <td>1</td>\n",
       "      <td>1</td>\n",
       "      <td>Cumings, Mrs. John Bradley (Florence Briggs Th...</td>\n",
       "      <td>female</td>\n",
       "      <td>38.0</td>\n",
       "      <td>1</td>\n",
       "      <td>0</td>\n",
       "      <td>PC 17599</td>\n",
       "      <td>71.2833</td>\n",
       "      <td>C85</td>\n",
       "      <td>C</td>\n",
       "    </tr>\n",
       "    <tr>\n",
       "      <th>2</th>\n",
       "      <td>3</td>\n",
       "      <td>1</td>\n",
       "      <td>3</td>\n",
       "      <td>Heikkinen, Miss. Laina</td>\n",
       "      <td>female</td>\n",
       "      <td>26.0</td>\n",
       "      <td>0</td>\n",
       "      <td>0</td>\n",
       "      <td>STON/O2. 3101282</td>\n",
       "      <td>7.9250</td>\n",
       "      <td>NaN</td>\n",
       "      <td>S</td>\n",
       "    </tr>\n",
       "    <tr>\n",
       "      <th>3</th>\n",
       "      <td>4</td>\n",
       "      <td>1</td>\n",
       "      <td>1</td>\n",
       "      <td>Futrelle, Mrs. Jacques Heath (Lily May Peel)</td>\n",
       "      <td>female</td>\n",
       "      <td>35.0</td>\n",
       "      <td>1</td>\n",
       "      <td>0</td>\n",
       "      <td>113803</td>\n",
       "      <td>53.1000</td>\n",
       "      <td>C123</td>\n",
       "      <td>S</td>\n",
       "    </tr>\n",
       "    <tr>\n",
       "      <th>4</th>\n",
       "      <td>5</td>\n",
       "      <td>0</td>\n",
       "      <td>3</td>\n",
       "      <td>Allen, Mr. William Henry</td>\n",
       "      <td>male</td>\n",
       "      <td>35.0</td>\n",
       "      <td>0</td>\n",
       "      <td>0</td>\n",
       "      <td>373450</td>\n",
       "      <td>8.0500</td>\n",
       "      <td>NaN</td>\n",
       "      <td>S</td>\n",
       "    </tr>\n",
       "  </tbody>\n",
       "</table>\n",
       "</div>"
      ],
      "text/plain": [
       "   PassengerId  Survived  Pclass  ...     Fare Cabin  Embarked\n",
       "0            1         0       3  ...   7.2500   NaN         S\n",
       "1            2         1       1  ...  71.2833   C85         C\n",
       "2            3         1       3  ...   7.9250   NaN         S\n",
       "3            4         1       1  ...  53.1000  C123         S\n",
       "4            5         0       3  ...   8.0500   NaN         S\n",
       "\n",
       "[5 rows x 12 columns]"
      ]
     },
     "execution_count": 7,
     "metadata": {
      "tags": []
     },
     "output_type": "execute_result"
    }
   ],
   "source": [
    "train.head()"
   ]
  },
  {
   "cell_type": "markdown",
   "metadata": {
    "colab_type": "text",
    "id": "n9a_f8n4yzf_"
   },
   "source": [
    "# Survived"
   ]
  },
  {
   "cell_type": "code",
   "execution_count": 8,
   "metadata": {
    "colab": {
     "base_uri": "https://localhost:8080/",
     "height": 70
    },
    "colab_type": "code",
    "executionInfo": {
     "elapsed": 12258,
     "status": "ok",
     "timestamp": 1574768467389,
     "user": {
      "displayName": "吳韋成",
      "photoUrl": "",
      "userId": "04906925710104432369"
     },
     "user_tz": -480
    },
    "id": "I1TWI4G2ys7e",
    "outputId": "bae810fd-ed84-4504-c331-8197c23b07d2"
   },
   "outputs": [
    {
     "data": {
      "text/plain": [
       "0    0.616162\n",
       "1    0.383838\n",
       "Name: Survived, dtype: float64"
      ]
     },
     "execution_count": 8,
     "metadata": {
      "tags": []
     },
     "output_type": "execute_result"
    }
   ],
   "source": [
    "train['Survived'].value_counts(normalize=True)"
   ]
  },
  {
   "cell_type": "code",
   "execution_count": 9,
   "metadata": {
    "colab": {
     "base_uri": "https://localhost:8080/",
     "height": 296
    },
    "colab_type": "code",
    "executionInfo": {
     "elapsed": 12238,
     "status": "ok",
     "timestamp": 1574768467390,
     "user": {
      "displayName": "吳韋成",
      "photoUrl": "",
      "userId": "04906925710104432369"
     },
     "user_tz": -480
    },
    "id": "0z1OrkiUy_iS",
    "outputId": "76681bcc-fef9-428c-d685-276d209aed99"
   },
   "outputs": [
    {
     "data": {
      "text/plain": [
       "<matplotlib.axes._subplots.AxesSubplot at 0x7fd116e5a278>"
      ]
     },
     "execution_count": 9,
     "metadata": {
      "tags": []
     },
     "output_type": "execute_result"
    },
    {
     "data": {
      "image/png": "[encoded data removed]",
      "text/plain": [
       "<Figure size 432x288 with 1 Axes>"
      ]
     },
     "metadata": {
      "tags": []
     },
     "output_type": "display_data"
    }
   ],
   "source": [
    "sns.countplot(train['Survived'])"
   ]
  },
  {
   "cell_type": "markdown",
   "metadata": {
    "colab_type": "text",
    "id": "5ew1WgrNzSDy"
   },
   "source": [
    "# Pclass"
   ]
  },
  {
   "cell_type": "code",
   "execution_count": 10,
   "metadata": {
    "colab": {
     "base_uri": "https://localhost:8080/",
     "height": 105
    },
    "colab_type": "code",
    "executionInfo": {
     "elapsed": 12220,
     "status": "ok",
     "timestamp": 1574768467391,
     "user": {
      "displayName": "吳韋成",
      "photoUrl": "",
      "userId": "04906925710104432369"
     },
     "user_tz": -480
    },
    "id": "8nKCaZJjzMsO",
    "outputId": "f62f8acd-bf08-4fda-d236-ba7485f5457b"
   },
   "outputs": [
    {
     "data": {
      "text/plain": [
       "Pclass\n",
       "1    0.629630\n",
       "2    0.472826\n",
       "3    0.242363\n",
       "Name: Survived, dtype: float64"
      ]
     },
     "execution_count": 10,
     "metadata": {
      "tags": []
     },
     "output_type": "execute_result"
    }
   ],
   "source": [
    "train['Survived'].groupby(train['Pclass']).mean()"
   ]
  },
  {
   "cell_type": "code",
   "execution_count": 11,
   "metadata": {
    "colab": {
     "base_uri": "https://localhost:8080/",
     "height": 296
    },
    "colab_type": "code",
    "executionInfo": {
     "elapsed": 12809,
     "status": "ok",
     "timestamp": 1574768468010,
     "user": {
      "displayName": "吳韋成",
      "photoUrl": "",
      "userId": "04906925710104432369"
     },
     "user_tz": -480
    },
    "id": "pVsnfzHmzU8V",
    "outputId": "98120873-c7c1-42bd-da4f-ceab9d25ee87"
   },
   "outputs": [
    {
     "data": {
      "text/plain": [
       "<matplotlib.axes._subplots.AxesSubplot at 0x7fd115b4a2b0>"
      ]
     },
     "execution_count": 11,
     "metadata": {
      "tags": []
     },
     "output_type": "execute_result"
    },
    {
     "data": {
      "image/png": "[encoded data removed]",
      "text/plain": [
       "<Figure size 432x288 with 1 Axes>"
      ]
     },
     "metadata": {
      "tags": []
     },
     "output_type": "display_data"
    }
   ],
   "source": [
    "sns.countplot(train['Pclass'], hue=train['Survived'])"
   ]
  },
  {
   "cell_type": "markdown",
   "metadata": {
    "colab_type": "text",
    "id": "bn_mGxCrzkGJ"
   },
   "source": [
    "# Name\n"
   ]
  },
  {
   "cell_type": "code",
   "execution_count": 12,
   "metadata": {
    "colab": {
     "base_uri": "https://localhost:8080/",
     "height": 123
    },
    "colab_type": "code",
    "executionInfo": {
     "elapsed": 12797,
     "status": "ok",
     "timestamp": 1574768468010,
     "user": {
      "displayName": "吳韋成",
      "photoUrl": "",
      "userId": "04906925710104432369"
     },
     "user_tz": -480
    },
    "id": "rLOtpgdXzist",
    "outputId": "17e3c79f-691f-4cc2-fd05-3e67c0cc9cb8"
   },
   "outputs": [
    {
     "data": {
      "text/plain": [
       "0                              Braund, Mr. Owen Harris\n",
       "1    Cumings, Mrs. John Bradley (Florence Briggs Th...\n",
       "2                               Heikkinen, Miss. Laina\n",
       "3         Futrelle, Mrs. Jacques Heath (Lily May Peel)\n",
       "4                             Allen, Mr. William Henry\n",
       "Name: Name, dtype: object"
      ]
     },
     "execution_count": 12,
     "metadata": {
      "tags": []
     },
     "output_type": "execute_result"
    }
   ],
   "source": [
    "train['Name'].head()"
   ]
  },
  {
   "cell_type": "code",
   "execution_count": 13,
   "metadata": {
    "colab": {
     "base_uri": "https://localhost:8080/",
     "height": 336
    },
    "colab_type": "code",
    "executionInfo": {
     "elapsed": 12787,
     "status": "ok",
     "timestamp": 1574768468012,
     "user": {
      "displayName": "吳韋成",
      "photoUrl": "",
      "userId": "04906925710104432369"
     },
     "user_tz": -480
    },
    "id": "oDQu7s-Szmic",
    "outputId": "29722975-1e7f-4e74-bb76-a783ff7521a7"
   },
   "outputs": [
    {
     "data": {
      "text/plain": [
       "Mr.          517\n",
       "Miss.        182\n",
       "Mrs.         125\n",
       "Master.       40\n",
       "Dr.            7\n",
       "Rev.           6\n",
       "Col.           2\n",
       "Mlle.          2\n",
       "Major.         2\n",
       "Sir.           1\n",
       "Mme.           1\n",
       "Ms.            1\n",
       "Don.           1\n",
       "the            1\n",
       "Capt.          1\n",
       "Lady.          1\n",
       "Jonkheer.      1\n",
       "Name: Name_Title, dtype: int64"
      ]
     },
     "execution_count": 13,
     "metadata": {
      "tags": []
     },
     "output_type": "execute_result"
    }
   ],
   "source": [
    "train['Name_Title'] = train['Name'].apply(lambda x: x.split(',')[1]).apply(lambda x: x.split()[0])\n",
    "train['Name_Title'].value_counts()"
   ]
  },
  {
   "cell_type": "code",
   "execution_count": 14,
   "metadata": {
    "colab": {
     "base_uri": "https://localhost:8080/",
     "height": 354
    },
    "colab_type": "code",
    "executionInfo": {
     "elapsed": 12775,
     "status": "ok",
     "timestamp": 1574768468012,
     "user": {
      "displayName": "吳韋成",
      "photoUrl": "",
      "userId": "04906925710104432369"
     },
     "user_tz": -480
    },
    "id": "8QNE9TJlzqnL",
    "outputId": "3db3be29-f458-4310-f39a-f643b330f9c7"
   },
   "outputs": [
    {
     "data": {
      "text/plain": [
       "Name_Title\n",
       "Capt.        0.000000\n",
       "Col.         0.500000\n",
       "Don.         0.000000\n",
       "Dr.          0.428571\n",
       "Jonkheer.    0.000000\n",
       "Lady.        1.000000\n",
       "Major.       0.500000\n",
       "Master.      0.575000\n",
       "Miss.        0.697802\n",
       "Mlle.        1.000000\n",
       "Mme.         1.000000\n",
       "Mr.          0.156673\n",
       "Mrs.         0.792000\n",
       "Ms.          1.000000\n",
       "Rev.         0.000000\n",
       "Sir.         1.000000\n",
       "the          1.000000\n",
       "Name: Survived, dtype: float64"
      ]
     },
     "execution_count": 14,
     "metadata": {
      "tags": []
     },
     "output_type": "execute_result"
    }
   ],
   "source": [
    "train['Survived'].groupby(train['Name_Title']).mean()"
   ]
  },
  {
   "cell_type": "code",
   "execution_count": 15,
   "metadata": {
    "colab": {
     "base_uri": "https://localhost:8080/",
     "height": 141
    },
    "colab_type": "code",
    "executionInfo": {
     "elapsed": 12765,
     "status": "ok",
     "timestamp": 1574768468014,
     "user": {
      "displayName": "吳韋成",
      "photoUrl": "",
      "userId": "04906925710104432369"
     },
     "user_tz": -480
    },
    "id": "UnUHY8bFz1gO",
    "outputId": "614a9abb-9d87-4044-fdf4-4fdfc46a182d"
   },
   "outputs": [
    {
     "data": {
      "text/plain": [
       "Name_Len\n",
       "(11.999, 19.0]    0.220588\n",
       "(19.0, 23.0]      0.301282\n",
       "(23.0, 27.0]      0.319797\n",
       "(27.0, 32.0]      0.442424\n",
       "(32.0, 82.0]      0.674556\n",
       "Name: Survived, dtype: float64"
      ]
     },
     "execution_count": 15,
     "metadata": {
      "tags": []
     },
     "output_type": "execute_result"
    }
   ],
   "source": [
    "train['Name_Len'] = train['Name'].apply(lambda x: len(x))\n",
    "train['Survived'].groupby(pd.qcut(train['Name_Len'],5)).mean()"
   ]
  },
  {
   "cell_type": "code",
   "execution_count": 16,
   "metadata": {
    "colab": {
     "base_uri": "https://localhost:8080/",
     "height": 123
    },
    "colab_type": "code",
    "executionInfo": {
     "elapsed": 12752,
     "status": "ok",
     "timestamp": 1574768468015,
     "user": {
      "displayName": "吳韋成",
      "photoUrl": "",
      "userId": "04906925710104432369"
     },
     "user_tz": -480
    },
    "id": "QJMWPowd0GFw",
    "outputId": "d6900a6f-5678-44ff-9794-b158908ca4b0"
   },
   "outputs": [
    {
     "data": {
      "text/plain": [
       "(11.999, 19.0]    204\n",
       "(23.0, 27.0]      197\n",
       "(32.0, 82.0]      169\n",
       "(27.0, 32.0]      165\n",
       "(19.0, 23.0]      156\n",
       "Name: Name_Len, dtype: int64"
      ]
     },
     "execution_count": 16,
     "metadata": {
      "tags": []
     },
     "output_type": "execute_result"
    }
   ],
   "source": [
    "pd.qcut(train['Name_Len'],5).value_counts()"
   ]
  },
  {
   "cell_type": "markdown",
   "metadata": {
    "colab_type": "text",
    "id": "g00pnZn80izs"
   },
   "source": [
    "# Sex"
   ]
  },
  {
   "cell_type": "code",
   "execution_count": 17,
   "metadata": {
    "colab": {
     "base_uri": "https://localhost:8080/",
     "height": 0
    },
    "colab_type": "code",
    "executionInfo": {
     "elapsed": 12740,
     "status": "ok",
     "timestamp": 1574768468016,
     "user": {
      "displayName": "吳韋成",
      "photoUrl": "",
      "userId": "04906925710104432369"
     },
     "user_tz": -480
    },
    "id": "olicowpy0g-g",
    "outputId": "0675cdf7-7b6a-4711-a912-f3e8a3ace12a"
   },
   "outputs": [
    {
     "data": {
      "text/plain": [
       "male      0.647587\n",
       "female    0.352413\n",
       "Name: Sex, dtype: float64"
      ]
     },
     "execution_count": 17,
     "metadata": {
      "tags": []
     },
     "output_type": "execute_result"
    }
   ],
   "source": [
    "train['Sex'].value_counts(normalize=True)"
   ]
  },
  {
   "cell_type": "code",
   "execution_count": 18,
   "metadata": {
    "colab": {
     "base_uri": "https://localhost:8080/",
     "height": 0
    },
    "colab_type": "code",
    "executionInfo": {
     "elapsed": 12732,
     "status": "ok",
     "timestamp": 1574768468017,
     "user": {
      "displayName": "吳韋成",
      "photoUrl": "",
      "userId": "04906925710104432369"
     },
     "user_tz": -480
    },
    "id": "7baP0Hdx0lca",
    "outputId": "b841ac9d-902d-4d24-9a69-845035419d38"
   },
   "outputs": [
    {
     "data": {
      "text/plain": [
       "Sex\n",
       "female    0.742038\n",
       "male      0.188908\n",
       "Name: Survived, dtype: float64"
      ]
     },
     "execution_count": 18,
     "metadata": {
      "tags": []
     },
     "output_type": "execute_result"
    }
   ],
   "source": [
    "train['Survived'].groupby(train['Sex']).mean()"
   ]
  },
  {
   "cell_type": "markdown",
   "metadata": {
    "colab_type": "text",
    "id": "Xxa0-jO70qcr"
   },
   "source": [
    "# Age"
   ]
  },
  {
   "cell_type": "code",
   "execution_count": 19,
   "metadata": {
    "colab": {
     "base_uri": "https://localhost:8080/",
     "height": 0
    },
    "colab_type": "code",
    "executionInfo": {
     "elapsed": 12725,
     "status": "ok",
     "timestamp": 1574768468017,
     "user": {
      "displayName": "吳韋成",
      "photoUrl": "",
      "userId": "04906925710104432369"
     },
     "user_tz": -480
    },
    "id": "I0PSZzeL0nua",
    "outputId": "65dab1c9-ea85-432c-b82e-43b637f5d01a"
   },
   "outputs": [
    {
     "data": {
      "text/plain": [
       "Age\n",
       "False    0.406162\n",
       "True     0.293785\n",
       "Name: Survived, dtype: float64"
      ]
     },
     "execution_count": 19,
     "metadata": {
      "tags": []
     },
     "output_type": "execute_result"
    }
   ],
   "source": [
    "train['Survived'].groupby(train['Age'].isnull()).mean()"
   ]
  },
  {
   "cell_type": "code",
   "execution_count": 20,
   "metadata": {
    "colab": {
     "base_uri": "https://localhost:8080/",
     "height": 0
    },
    "colab_type": "code",
    "executionInfo": {
     "elapsed": 12717,
     "status": "ok",
     "timestamp": 1574768468018,
     "user": {
      "displayName": "吳韋成",
      "photoUrl": "",
      "userId": "04906925710104432369"
     },
     "user_tz": -480
    },
    "id": "b5kSeVCH0suB",
    "outputId": "2647beab-e6eb-4c07-f71f-503a696873fa"
   },
   "outputs": [
    {
     "data": {
      "text/plain": [
       "Age\n",
       "(0.419, 19.0]    0.481707\n",
       "(19.0, 25.0]     0.328467\n",
       "(25.0, 31.8]     0.393701\n",
       "(31.8, 41.0]     0.437500\n",
       "(41.0, 80.0]     0.373239\n",
       "Name: Survived, dtype: float64"
      ]
     },
     "execution_count": 20,
     "metadata": {
      "tags": []
     },
     "output_type": "execute_result"
    }
   ],
   "source": [
    "train['Survived'].groupby(pd.qcut(train['Age'],5)).mean()"
   ]
  },
  {
   "cell_type": "code",
   "execution_count": 21,
   "metadata": {
    "colab": {
     "base_uri": "https://localhost:8080/",
     "height": 0
    },
    "colab_type": "code",
    "executionInfo": {
     "elapsed": 13143,
     "status": "ok",
     "timestamp": 1574768468451,
     "user": {
      "displayName": "吳韋成",
      "photoUrl": "",
      "userId": "04906925710104432369"
     },
     "user_tz": -480
    },
    "id": "HJKYV1Kv0u9A",
    "outputId": "b4270a3b-775b-43d4-9323-e6055df9bc3e"
   },
   "outputs": [
    {
     "data": {
      "text/plain": [
       "(0.419, 19.0]    164\n",
       "(31.8, 41.0]     144\n",
       "(41.0, 80.0]     142\n",
       "(19.0, 25.0]     137\n",
       "(25.0, 31.8]     127\n",
       "Name: Age, dtype: int64"
      ]
     },
     "execution_count": 21,
     "metadata": {
      "tags": []
     },
     "output_type": "execute_result"
    }
   ],
   "source": [
    "pd.qcut(train['Age'],5).value_counts()"
   ]
  },
  {
   "cell_type": "markdown",
   "metadata": {
    "colab_type": "text",
    "id": "wHIXumn0PwpC"
   },
   "source": [
    "# SibSp"
   ]
  },
  {
   "cell_type": "code",
   "execution_count": 22,
   "metadata": {
    "colab": {
     "base_uri": "https://localhost:8080/",
     "height": 0
    },
    "colab_type": "code",
    "executionInfo": {
     "elapsed": 13136,
     "status": "ok",
     "timestamp": 1574768468452,
     "user": {
      "displayName": "吳韋成",
      "photoUrl": "",
      "userId": "04906925710104432369"
     },
     "user_tz": -480
    },
    "id": "VWpqfj3X0ynC",
    "outputId": "c666f2e7-4310-4d82-ff0a-1ef583d3f82a"
   },
   "outputs": [
    {
     "data": {
      "text/plain": [
       "SibSp\n",
       "0    0.345395\n",
       "1    0.535885\n",
       "2    0.464286\n",
       "3    0.250000\n",
       "4    0.166667\n",
       "5    0.000000\n",
       "8    0.000000\n",
       "Name: Survived, dtype: float64"
      ]
     },
     "execution_count": 22,
     "metadata": {
      "tags": []
     },
     "output_type": "execute_result"
    }
   ],
   "source": [
    "train['Survived'].groupby(train['SibSp']).mean()"
   ]
  },
  {
   "cell_type": "code",
   "execution_count": 23,
   "metadata": {
    "colab": {
     "base_uri": "https://localhost:8080/",
     "height": 0
    },
    "colab_type": "code",
    "executionInfo": {
     "elapsed": 13130,
     "status": "ok",
     "timestamp": 1574768468453,
     "user": {
      "displayName": "吳韋成",
      "photoUrl": "",
      "userId": "04906925710104432369"
     },
     "user_tz": -480
    },
    "id": "yie4BdEfP8Zb",
    "outputId": "fe7dacb9-4af8-4148-e4b6-573645caaa38"
   },
   "outputs": [
    {
     "data": {
      "text/plain": [
       "0    608\n",
       "1    209\n",
       "2     28\n",
       "4     18\n",
       "3     16\n",
       "8      7\n",
       "5      5\n",
       "Name: SibSp, dtype: int64"
      ]
     },
     "execution_count": 23,
     "metadata": {
      "tags": []
     },
     "output_type": "execute_result"
    }
   ],
   "source": [
    "train['SibSp'].value_counts()"
   ]
  },
  {
   "cell_type": "markdown",
   "metadata": {
    "colab_type": "text",
    "id": "zmQQ6-vdQA-a"
   },
   "source": [
    "# Parch"
   ]
  },
  {
   "cell_type": "code",
   "execution_count": 24,
   "metadata": {
    "colab": {
     "base_uri": "https://localhost:8080/",
     "height": 0
    },
    "colab_type": "code",
    "executionInfo": {
     "elapsed": 13121,
     "status": "ok",
     "timestamp": 1574768468454,
     "user": {
      "displayName": "吳韋成",
      "photoUrl": "",
      "userId": "04906925710104432369"
     },
     "user_tz": -480
    },
    "id": "2UBrFpeVP-tk",
    "outputId": "2ba77d02-85b8-4330-eb3d-7352ed69d99e"
   },
   "outputs": [
    {
     "data": {
      "text/plain": [
       "Parch\n",
       "0    0.343658\n",
       "1    0.550847\n",
       "2    0.500000\n",
       "3    0.600000\n",
       "4    0.000000\n",
       "5    0.200000\n",
       "6    0.000000\n",
       "Name: Survived, dtype: float64"
      ]
     },
     "execution_count": 24,
     "metadata": {
      "tags": []
     },
     "output_type": "execute_result"
    }
   ],
   "source": [
    "train['Survived'].groupby(train['Parch']).mean()"
   ]
  },
  {
   "cell_type": "code",
   "execution_count": 25,
   "metadata": {
    "colab": {
     "base_uri": "https://localhost:8080/",
     "height": 0
    },
    "colab_type": "code",
    "executionInfo": {
     "elapsed": 13113,
     "status": "ok",
     "timestamp": 1574768468454,
     "user": {
      "displayName": "吳韋成",
      "photoUrl": "",
      "userId": "04906925710104432369"
     },
     "user_tz": -480
    },
    "id": "2iEKtjkdQD50",
    "outputId": "d5aba607-5da3-43d8-ebf4-5104e58c0f92"
   },
   "outputs": [
    {
     "data": {
      "text/plain": [
       "0    678\n",
       "1    118\n",
       "2     80\n",
       "5      5\n",
       "3      5\n",
       "4      4\n",
       "6      1\n",
       "Name: Parch, dtype: int64"
      ]
     },
     "execution_count": 25,
     "metadata": {
      "tags": []
     },
     "output_type": "execute_result"
    }
   ],
   "source": [
    "train['Parch'].value_counts()"
   ]
  },
  {
   "cell_type": "markdown",
   "metadata": {
    "colab_type": "text",
    "id": "OOZZUg-NQIL_"
   },
   "source": [
    "# Ticket"
   ]
  },
  {
   "cell_type": "code",
   "execution_count": 26,
   "metadata": {
    "colab": {
     "base_uri": "https://localhost:8080/",
     "height": 0
    },
    "colab_type": "code",
    "executionInfo": {
     "elapsed": 13107,
     "status": "ok",
     "timestamp": 1574768468455,
     "user": {
      "displayName": "吳韋成",
      "photoUrl": "",
      "userId": "04906925710104432369"
     },
     "user_tz": -480
    },
    "id": "wruzhsccQFvz",
    "outputId": "19758b3a-dce4-4f39-ea58-6d61ffb427c1"
   },
   "outputs": [
    {
     "data": {
      "text/plain": [
       "0           A/5 21171\n",
       "1            PC 17599\n",
       "2    STON/O2. 3101282\n",
       "3              113803\n",
       "4              373450\n",
       "5              330877\n",
       "6               17463\n",
       "7              349909\n",
       "8              347742\n",
       "9              237736\n",
       "Name: Ticket, dtype: object"
      ]
     },
     "execution_count": 26,
     "metadata": {
      "tags": []
     },
     "output_type": "execute_result"
    }
   ],
   "source": [
    "train['Ticket'].head(n=10)"
   ]
  },
  {
   "cell_type": "code",
   "execution_count": null,
   "metadata": {
    "colab": {},
    "colab_type": "code",
    "id": "GL-8AD5KQKan"
   },
   "outputs": [],
   "source": [
    "train['Ticket_Len'] = train['Ticket'].apply(lambda x: len(x))"
   ]
  },
  {
   "cell_type": "code",
   "execution_count": 28,
   "metadata": {
    "colab": {
     "base_uri": "https://localhost:8080/",
     "height": 0
    },
    "colab_type": "code",
    "executionInfo": {
     "elapsed": 13093,
     "status": "ok",
     "timestamp": 1574768468455,
     "user": {
      "displayName": "吳韋成",
      "photoUrl": "",
      "userId": "04906925710104432369"
     },
     "user_tz": -480
    },
    "id": "u259E4p7QMBL",
    "outputId": "6023f0e8-1ac5-42ca-eebd-bfdc3c8030a5"
   },
   "outputs": [
    {
     "data": {
      "text/plain": [
       "6     419\n",
       "5     131\n",
       "4     101\n",
       "8      76\n",
       "10     41\n",
       "7      27\n",
       "9      26\n",
       "17     14\n",
       "16     11\n",
       "13     10\n",
       "12     10\n",
       "15      9\n",
       "11      8\n",
       "18      6\n",
       "3       2\n",
       "Name: Ticket_Len, dtype: int64"
      ]
     },
     "execution_count": 28,
     "metadata": {
      "tags": []
     },
     "output_type": "execute_result"
    }
   ],
   "source": [
    "train['Ticket_Len'].value_counts()"
   ]
  },
  {
   "cell_type": "code",
   "execution_count": null,
   "metadata": {
    "colab": {},
    "colab_type": "code",
    "id": "aG6Uz6JAQNOw"
   },
   "outputs": [],
   "source": [
    "train['Ticket_Lett'] = train['Ticket'].apply(lambda x: str(x)[0])"
   ]
  },
  {
   "cell_type": "code",
   "execution_count": 30,
   "metadata": {
    "colab": {
     "base_uri": "https://localhost:8080/",
     "height": 0
    },
    "colab_type": "code",
    "executionInfo": {
     "elapsed": 13079,
     "status": "ok",
     "timestamp": 1574768468456,
     "user": {
      "displayName": "吳韋成",
      "photoUrl": "",
      "userId": "04906925710104432369"
     },
     "user_tz": -480
    },
    "id": "NNuE-b9GQZUF",
    "outputId": "9e1a0bc1-c48b-496f-9230-10dd5f8f2e83"
   },
   "outputs": [
    {
     "data": {
      "text/plain": [
       "3    301\n",
       "2    183\n",
       "1    146\n",
       "P     65\n",
       "S     65\n",
       "C     47\n",
       "A     29\n",
       "W     13\n",
       "4     10\n",
       "7      9\n",
       "F      7\n",
       "6      6\n",
       "L      4\n",
       "5      3\n",
       "8      2\n",
       "9      1\n",
       "Name: Ticket_Lett, dtype: int64"
      ]
     },
     "execution_count": 30,
     "metadata": {
      "tags": []
     },
     "output_type": "execute_result"
    }
   ],
   "source": [
    "train['Ticket_Lett'].value_counts()"
   ]
  },
  {
   "cell_type": "code",
   "execution_count": 31,
   "metadata": {
    "colab": {
     "base_uri": "https://localhost:8080/",
     "height": 0
    },
    "colab_type": "code",
    "executionInfo": {
     "elapsed": 13071,
     "status": "ok",
     "timestamp": 1574768468457,
     "user": {
      "displayName": "吳韋成",
      "photoUrl": "",
      "userId": "04906925710104432369"
     },
     "user_tz": -480
    },
    "id": "j-fRYfvkQbUM",
    "outputId": "dfb75f55-ef10-467d-cf0c-08b7823a5499"
   },
   "outputs": [
    {
     "data": {
      "text/plain": [
       "Ticket_Lett\n",
       "1    0.630137\n",
       "2    0.464481\n",
       "3    0.239203\n",
       "4    0.200000\n",
       "5    0.000000\n",
       "6    0.166667\n",
       "7    0.111111\n",
       "8    0.000000\n",
       "9    1.000000\n",
       "A    0.068966\n",
       "C    0.340426\n",
       "F    0.571429\n",
       "L    0.250000\n",
       "P    0.646154\n",
       "S    0.323077\n",
       "W    0.153846\n",
       "Name: Survived, dtype: float64"
      ]
     },
     "execution_count": 31,
     "metadata": {
      "tags": []
     },
     "output_type": "execute_result"
    }
   ],
   "source": [
    "train.groupby(['Ticket_Lett'])['Survived'].mean()"
   ]
  },
  {
   "cell_type": "markdown",
   "metadata": {
    "colab_type": "text",
    "id": "ntMUdi5nQe8_"
   },
   "source": [
    "# Fare"
   ]
  },
  {
   "cell_type": "code",
   "execution_count": 32,
   "metadata": {
    "colab": {
     "base_uri": "https://localhost:8080/",
     "height": 87
    },
    "colab_type": "code",
    "executionInfo": {
     "elapsed": 13046,
     "status": "ok",
     "timestamp": 1574768468457,
     "user": {
      "displayName": "吳韋成",
      "photoUrl": "",
      "userId": "04906925710104432369"
     },
     "user_tz": -480
    },
    "id": "LlRWOORFQdE2",
    "outputId": "5351b8d4-3fea-4480-8b4e-f23b1bfe1194"
   },
   "outputs": [
    {
     "data": {
      "text/plain": [
       "(-0.001, 8.662]    308\n",
       "(26.0, 512.329]    295\n",
       "(8.662, 26.0]      288\n",
       "Name: Fare, dtype: int64"
      ]
     },
     "execution_count": 32,
     "metadata": {
      "tags": []
     },
     "output_type": "execute_result"
    }
   ],
   "source": [
    "pd.qcut(train['Fare'], 3).value_counts()"
   ]
  },
  {
   "cell_type": "code",
   "execution_count": 33,
   "metadata": {
    "colab": {
     "base_uri": "https://localhost:8080/",
     "height": 105
    },
    "colab_type": "code",
    "executionInfo": {
     "elapsed": 13012,
     "status": "ok",
     "timestamp": 1574768468458,
     "user": {
      "displayName": "吳韋成",
      "photoUrl": "",
      "userId": "04906925710104432369"
     },
     "user_tz": -480
    },
    "id": "DzpECTFgQkEf",
    "outputId": "6fd55fbd-f3de-4b9a-ff22-392c6368b60b"
   },
   "outputs": [
    {
     "data": {
      "text/plain": [
       "Fare\n",
       "(-0.001, 8.662]    0.198052\n",
       "(8.662, 26.0]      0.402778\n",
       "(26.0, 512.329]    0.559322\n",
       "Name: Survived, dtype: float64"
      ]
     },
     "execution_count": 33,
     "metadata": {
      "tags": []
     },
     "output_type": "execute_result"
    }
   ],
   "source": [
    "train['Survived'].groupby(pd.qcut(train['Fare'], 3)).mean()"
   ]
  },
  {
   "cell_type": "code",
   "execution_count": 34,
   "metadata": {
    "colab": {
     "base_uri": "https://localhost:8080/",
     "height": 227
    },
    "colab_type": "code",
    "executionInfo": {
     "elapsed": 12984,
     "status": "ok",
     "timestamp": 1574768468459,
     "user": {
      "displayName": "吳韋成",
      "photoUrl": "",
      "userId": "04906925710104432369"
     },
     "user_tz": -480
    },
    "id": "XAfYw5ArQllv",
    "outputId": "efcd7a60-3414-4b5a-b883-cae796ffb730"
   },
   "outputs": [
    {
     "data": {
      "text/html": [
       "<div>\n",
       "<style scoped>\n",
       "    .dataframe tbody tr th:only-of-type {\n",
       "        vertical-align: middle;\n",
       "    }\n",
       "\n",
       "    .dataframe tbody tr th {\n",
       "        vertical-align: top;\n",
       "    }\n",
       "\n",
       "    .dataframe thead th {\n",
       "        text-align: right;\n",
       "    }\n",
       "</style>\n",
       "<table border=\"1\" class=\"dataframe\">\n",
       "  <thead>\n",
       "    <tr style=\"text-align: right;\">\n",
       "      <th>Pclass</th>\n",
       "      <th>1</th>\n",
       "      <th>2</th>\n",
       "      <th>3</th>\n",
       "    </tr>\n",
       "    <tr>\n",
       "      <th>Fare</th>\n",
       "      <th></th>\n",
       "      <th></th>\n",
       "      <th></th>\n",
       "    </tr>\n",
       "  </thead>\n",
       "  <tbody>\n",
       "    <tr>\n",
       "      <th>(-0.001, 7.854]</th>\n",
       "      <td>6</td>\n",
       "      <td>6</td>\n",
       "      <td>167</td>\n",
       "    </tr>\n",
       "    <tr>\n",
       "      <th>(7.854, 10.5]</th>\n",
       "      <td>0</td>\n",
       "      <td>24</td>\n",
       "      <td>160</td>\n",
       "    </tr>\n",
       "    <tr>\n",
       "      <th>(10.5, 21.679]</th>\n",
       "      <td>0</td>\n",
       "      <td>80</td>\n",
       "      <td>92</td>\n",
       "    </tr>\n",
       "    <tr>\n",
       "      <th>(21.679, 39.688]</th>\n",
       "      <td>64</td>\n",
       "      <td>64</td>\n",
       "      <td>52</td>\n",
       "    </tr>\n",
       "    <tr>\n",
       "      <th>(39.688, 512.329]</th>\n",
       "      <td>146</td>\n",
       "      <td>10</td>\n",
       "      <td>20</td>\n",
       "    </tr>\n",
       "  </tbody>\n",
       "</table>\n",
       "</div>"
      ],
      "text/plain": [
       "Pclass               1   2    3\n",
       "Fare                           \n",
       "(-0.001, 7.854]      6   6  167\n",
       "(7.854, 10.5]        0  24  160\n",
       "(10.5, 21.679]       0  80   92\n",
       "(21.679, 39.688]    64  64   52\n",
       "(39.688, 512.329]  146  10   20"
      ]
     },
     "execution_count": 34,
     "metadata": {
      "tags": []
     },
     "output_type": "execute_result"
    }
   ],
   "source": [
    "pd.crosstab(pd.qcut(train['Fare'], 5), columns=train['Pclass'])"
   ]
  },
  {
   "cell_type": "markdown",
   "metadata": {
    "colab_type": "text",
    "id": "ykryML-_Qo-_"
   },
   "source": [
    "# Cabin"
   ]
  },
  {
   "cell_type": "code",
   "execution_count": null,
   "metadata": {
    "colab": {},
    "colab_type": "code",
    "id": "tepnWhXeQnRA"
   },
   "outputs": [],
   "source": [
    "train['Cabin_Letter'] = train['Cabin'].apply(lambda x: str(x)[0])"
   ]
  },
  {
   "cell_type": "code",
   "execution_count": 36,
   "metadata": {
    "colab": {
     "base_uri": "https://localhost:8080/",
     "height": 0
    },
    "colab_type": "code",
    "executionInfo": {
     "elapsed": 12936,
     "status": "ok",
     "timestamp": 1574768468460,
     "user": {
      "displayName": "吳韋成",
      "photoUrl": "",
      "userId": "04906925710104432369"
     },
     "user_tz": -480
    },
    "id": "N63Vz_FwQrqf",
    "outputId": "31ad60d7-4c3c-4535-c1a6-96459126f57c"
   },
   "outputs": [
    {
     "data": {
      "text/plain": [
       "n    687\n",
       "C     59\n",
       "B     47\n",
       "D     33\n",
       "E     32\n",
       "A     15\n",
       "F     13\n",
       "G      4\n",
       "T      1\n",
       "Name: Cabin_Letter, dtype: int64"
      ]
     },
     "execution_count": 36,
     "metadata": {
      "tags": []
     },
     "output_type": "execute_result"
    }
   ],
   "source": [
    "train['Cabin_Letter'].value_counts()"
   ]
  },
  {
   "cell_type": "code",
   "execution_count": 37,
   "metadata": {
    "colab": {
     "base_uri": "https://localhost:8080/",
     "height": 0
    },
    "colab_type": "code",
    "executionInfo": {
     "elapsed": 12917,
     "status": "ok",
     "timestamp": 1574768468460,
     "user": {
      "displayName": "吳韋成",
      "photoUrl": "",
      "userId": "04906925710104432369"
     },
     "user_tz": -480
    },
    "id": "M8tlSVjEQtgJ",
    "outputId": "6260527a-ad34-4a36-83b2-0ead0a5b3f71"
   },
   "outputs": [
    {
     "data": {
      "text/plain": [
       "Cabin_Letter\n",
       "A    0.466667\n",
       "B    0.744681\n",
       "C    0.593220\n",
       "D    0.757576\n",
       "E    0.750000\n",
       "F    0.615385\n",
       "G    0.500000\n",
       "T    0.000000\n",
       "n    0.299854\n",
       "Name: Survived, dtype: float64"
      ]
     },
     "execution_count": 37,
     "metadata": {
      "tags": []
     },
     "output_type": "execute_result"
    }
   ],
   "source": [
    "train['Survived'].groupby(train['Cabin_Letter']).mean()"
   ]
  },
  {
   "cell_type": "code",
   "execution_count": null,
   "metadata": {
    "colab": {},
    "colab_type": "code",
    "id": "71Dt1elqQu5O"
   },
   "outputs": [],
   "source": [
    "train['Cabin_num'] = train['Cabin'].apply(lambda x: str(x).split(' ')[-1][1:])\n",
    "train['Cabin_num'].replace('an', np.NaN, inplace = True)\n",
    "train['Cabin_num'] = train['Cabin_num'].apply(lambda x: int(x) if not pd.isnull(x) and x != '' else np.NaN)"
   ]
  },
  {
   "cell_type": "code",
   "execution_count": 39,
   "metadata": {
    "colab": {
     "base_uri": "https://localhost:8080/",
     "height": 0
    },
    "colab_type": "code",
    "executionInfo": {
     "elapsed": 12876,
     "status": "ok",
     "timestamp": 1574768468463,
     "user": {
      "displayName": "吳韋成",
      "photoUrl": "",
      "userId": "04906925710104432369"
     },
     "user_tz": -480
    },
    "id": "2gWRmeQlQxKP",
    "outputId": "58bfd8a2-4e3c-40b4-b12f-ec44e031e269"
   },
   "outputs": [
    {
     "data": {
      "text/plain": [
       "(65.667, 148.0]     67\n",
       "(1.999, 28.667]     67\n",
       "(28.667, 65.667]    66\n",
       "Name: Cabin_num, dtype: int64"
      ]
     },
     "execution_count": 39,
     "metadata": {
      "tags": []
     },
     "output_type": "execute_result"
    }
   ],
   "source": [
    "pd.qcut(train['Cabin_num'],3).value_counts()"
   ]
  },
  {
   "cell_type": "code",
   "execution_count": 40,
   "metadata": {
    "colab": {
     "base_uri": "https://localhost:8080/",
     "height": 0
    },
    "colab_type": "code",
    "executionInfo": {
     "elapsed": 12846,
     "status": "ok",
     "timestamp": 1574768468464,
     "user": {
      "displayName": "吳韋成",
      "photoUrl": "",
      "userId": "04906925710104432369"
     },
     "user_tz": -480
    },
    "id": "oF_fkewvQyuQ",
    "outputId": "a564d8a2-d0a8-4092-a534-89bb22d5a40d"
   },
   "outputs": [
    {
     "data": {
      "text/plain": [
       "Cabin_num\n",
       "(1.999, 28.667]     0.716418\n",
       "(28.667, 65.667]    0.651515\n",
       "(65.667, 148.0]     0.641791\n",
       "Name: Survived, dtype: float64"
      ]
     },
     "execution_count": 40,
     "metadata": {
      "tags": []
     },
     "output_type": "execute_result"
    }
   ],
   "source": [
    "train['Survived'].groupby(pd.qcut(train['Cabin_num'], 3)).mean()"
   ]
  },
  {
   "cell_type": "code",
   "execution_count": 41,
   "metadata": {
    "colab": {
     "base_uri": "https://localhost:8080/",
     "height": 0
    },
    "colab_type": "code",
    "executionInfo": {
     "elapsed": 12820,
     "status": "ok",
     "timestamp": 1574768468464,
     "user": {
      "displayName": "吳韋成",
      "photoUrl": "",
      "userId": "04906925710104432369"
     },
     "user_tz": -480
    },
    "id": "kWobrSXQQ0G3",
    "outputId": "6bb67f84-ccf5-44c1-fb65-e908cbf9bb7b"
   },
   "outputs": [
    {
     "data": {
      "text/plain": [
       "-0.06384595922789371"
      ]
     },
     "execution_count": 41,
     "metadata": {
      "tags": []
     },
     "output_type": "execute_result"
    }
   ],
   "source": [
    "train['Survived'].corr(train['Cabin_num'])"
   ]
  },
  {
   "cell_type": "markdown",
   "metadata": {
    "colab_type": "text",
    "id": "MCtYVZPRRVL9"
   },
   "source": [
    "# Embarked"
   ]
  },
  {
   "cell_type": "code",
   "execution_count": 42,
   "metadata": {
    "colab": {
     "base_uri": "https://localhost:8080/",
     "height": 87
    },
    "colab_type": "code",
    "executionInfo": {
     "elapsed": 12797,
     "status": "ok",
     "timestamp": 1574768468465,
     "user": {
      "displayName": "吳韋成",
      "photoUrl": "",
      "userId": "04906925710104432369"
     },
     "user_tz": -480
    },
    "id": "4duYREvgQ1lv",
    "outputId": "9a175ede-c129-4e68-b1f5-46ccc9fca452"
   },
   "outputs": [
    {
     "data": {
      "text/plain": [
       "S    644\n",
       "C    168\n",
       "Q     77\n",
       "Name: Embarked, dtype: int64"
      ]
     },
     "execution_count": 42,
     "metadata": {
      "tags": []
     },
     "output_type": "execute_result"
    }
   ],
   "source": [
    "train['Embarked'].value_counts()"
   ]
  },
  {
   "cell_type": "code",
   "execution_count": 43,
   "metadata": {
    "colab": {
     "base_uri": "https://localhost:8080/",
     "height": 87
    },
    "colab_type": "code",
    "executionInfo": {
     "elapsed": 12746,
     "status": "ok",
     "timestamp": 1574768468466,
     "user": {
      "displayName": "吳韋成",
      "photoUrl": "",
      "userId": "04906925710104432369"
     },
     "user_tz": -480
    },
    "id": "K1Ejaa8MRX64",
    "outputId": "6163c947-bf7e-4052-a6dd-23d63bd205b1"
   },
   "outputs": [
    {
     "data": {
      "text/plain": [
       "S    0.724409\n",
       "C    0.188976\n",
       "Q    0.086614\n",
       "Name: Embarked, dtype: float64"
      ]
     },
     "execution_count": 43,
     "metadata": {
      "tags": []
     },
     "output_type": "execute_result"
    }
   ],
   "source": [
    "train['Embarked'].value_counts(normalize=True)"
   ]
  },
  {
   "cell_type": "code",
   "execution_count": 44,
   "metadata": {
    "colab": {
     "base_uri": "https://localhost:8080/",
     "height": 105
    },
    "colab_type": "code",
    "executionInfo": {
     "elapsed": 12701,
     "status": "ok",
     "timestamp": 1574768468467,
     "user": {
      "displayName": "吳韋成",
      "photoUrl": "",
      "userId": "04906925710104432369"
     },
     "user_tz": -480
    },
    "id": "xHpDmEEkRac0",
    "outputId": "3722a34d-a381-401e-a782-d1360d534c0d"
   },
   "outputs": [
    {
     "data": {
      "text/plain": [
       "Embarked\n",
       "C    0.553571\n",
       "Q    0.389610\n",
       "S    0.336957\n",
       "Name: Survived, dtype: float64"
      ]
     },
     "execution_count": 44,
     "metadata": {
      "tags": []
     },
     "output_type": "execute_result"
    }
   ],
   "source": [
    "train['Survived'].groupby(train['Embarked']).mean()"
   ]
  },
  {
   "cell_type": "code",
   "execution_count": 45,
   "metadata": {
    "colab": {
     "base_uri": "https://localhost:8080/",
     "height": 296
    },
    "colab_type": "code",
    "executionInfo": {
     "elapsed": 13026,
     "status": "ok",
     "timestamp": 1574768468865,
     "user": {
      "displayName": "吳韋成",
      "photoUrl": "",
      "userId": "04906925710104432369"
     },
     "user_tz": -480
    },
    "id": "c-mgtZqtRb7V",
    "outputId": "b6704c16-0345-43d4-ef66-82f4abf22375"
   },
   "outputs": [
    {
     "data": {
      "text/plain": [
       "<matplotlib.axes._subplots.AxesSubplot at 0x7fd1156424a8>"
      ]
     },
     "execution_count": 45,
     "metadata": {
      "tags": []
     },
     "output_type": "execute_result"
    },
    {
     "data": {
      "image/png": "[encoded data removed]",
      "text/plain": [
       "<Figure size 432x288 with 1 Axes>"
      ]
     },
     "metadata": {
      "tags": []
     },
     "output_type": "display_data"
    }
   ],
   "source": [
    "sns.countplot(train['Embarked'], hue=train['Pclass'])"
   ]
  },
  {
   "cell_type": "markdown",
   "metadata": {
    "colab_type": "text",
    "id": "_DD7A7KVRgpI"
   },
   "source": [
    "# Feature Engineering"
   ]
  },
  {
   "cell_type": "code",
   "execution_count": null,
   "metadata": {
    "colab": {},
    "colab_type": "code",
    "id": "URKW7YFTRdiB"
   },
   "outputs": [],
   "source": [
    "def names(train, test):\n",
    "    for i in [train, test]:\n",
    "        i['Name_Len'] = i['Name'].apply(lambda x: len(x))\n",
    "        i['Name_Title'] = i['Name'].apply(lambda x: x.split(',')[1]).apply(lambda x: x.split()[0])\n",
    "        del i['Name']\n",
    "    return train, test"
   ]
  },
  {
   "cell_type": "code",
   "execution_count": null,
   "metadata": {
    "colab": {},
    "colab_type": "code",
    "id": "7WI06FvURivy"
   },
   "outputs": [],
   "source": [
    "def age_impute(train, test):\n",
    "    for i in [train, test]:\n",
    "        i['Age_Null_Flag'] = i['Age'].apply(lambda x: 1 if pd.isnull(x) else 0)\n",
    "        data = train.groupby(['Name_Title', 'Pclass'])['Age']\n",
    "        i['Age'] = data.transform(lambda x: x.fillna(x.mean()))\n",
    "    return train, test"
   ]
  },
  {
   "cell_type": "code",
   "execution_count": null,
   "metadata": {
    "colab": {},
    "colab_type": "code",
    "id": "G_KkejLMRlac"
   },
   "outputs": [],
   "source": [
    "def fam_size(train, test):\n",
    "    for i in [train, test]:\n",
    "        i['Fam_Size'] = np.where((i['SibSp']+i['Parch']) == 0 , 'Solo',\n",
    "                           np.where((i['SibSp']+i['Parch']) <= 3,'Nuclear', 'Big'))\n",
    "        del i['SibSp']\n",
    "        del i['Parch']\n",
    "    return train, test"
   ]
  },
  {
   "cell_type": "code",
   "execution_count": null,
   "metadata": {
    "colab": {},
    "colab_type": "code",
    "id": "gEalWiP6Rm37"
   },
   "outputs": [],
   "source": [
    "def ticket_grouped(train, test):\n",
    "    for i in [train, test]:\n",
    "        i['Ticket_Lett'] = i['Ticket'].apply(lambda x: str(x)[0])\n",
    "        i['Ticket_Lett'] = i['Ticket_Lett'].apply(lambda x: str(x))\n",
    "        i['Ticket_Lett'] = np.where((i['Ticket_Lett']).isin(['1', '2', '3', 'S', 'P', 'C', 'A']), i['Ticket_Lett'],\n",
    "                                   np.where((i['Ticket_Lett']).isin(['W', '4', '7', '6', 'L', '5', '8']),\n",
    "                                            'Low_ticket', 'Other_ticket'))\n",
    "        i['Ticket_Len'] = i['Ticket'].apply(lambda x: len(x))\n",
    "        del i['Ticket']\n",
    "    return train, test"
   ]
  },
  {
   "cell_type": "code",
   "execution_count": null,
   "metadata": {
    "colab": {},
    "colab_type": "code",
    "id": "ctQFdsKNRoZ5"
   },
   "outputs": [],
   "source": [
    "def cabin(train, test):\n",
    "    for i in [train, test]:\n",
    "        i['Cabin_Letter'] = i['Cabin'].apply(lambda x: str(x)[0])\n",
    "        del i['Cabin']\n",
    "    return train, test"
   ]
  },
  {
   "cell_type": "code",
   "execution_count": null,
   "metadata": {
    "colab": {},
    "colab_type": "code",
    "id": "o1EaQ09aRp2F"
   },
   "outputs": [],
   "source": [
    "def cabin_num(train, test):\n",
    "    for i in [train, test]:\n",
    "        i['Cabin_num1'] = i['Cabin'].apply(lambda x: str(x).split(' ')[-1][1:])\n",
    "        i['Cabin_num1'].replace('an', np.NaN, inplace = True)\n",
    "        i['Cabin_num1'] = i['Cabin_num1'].apply(lambda x: int(x) if not pd.isnull(x) and x != '' else np.NaN)\n",
    "        i['Cabin_num'] = pd.qcut(train['Cabin_num1'],3)\n",
    "    train = pd.concat((train, pd.get_dummies(train['Cabin_num'], prefix = 'Cabin_num')), axis = 1)\n",
    "    test = pd.concat((test, pd.get_dummies(test['Cabin_num'], prefix = 'Cabin_num')), axis = 1)\n",
    "    del train['Cabin_num']\n",
    "    del test['Cabin_num']\n",
    "    del train['Cabin_num1']\n",
    "    del test['Cabin_num1']\n",
    "    return train, test"
   ]
  },
  {
   "cell_type": "code",
   "execution_count": null,
   "metadata": {
    "colab": {},
    "colab_type": "code",
    "id": "3htSxczfRrjt"
   },
   "outputs": [],
   "source": [
    "def embarked_impute(train, test):\n",
    "    for i in [train, test]:\n",
    "        i['Embarked'] = i['Embarked'].fillna('S')\n",
    "    return train, test"
   ]
  },
  {
   "cell_type": "code",
   "execution_count": null,
   "metadata": {
    "colab": {},
    "colab_type": "code",
    "id": "FNlPIgAiRtO7"
   },
   "outputs": [],
   "source": [
    "test['Fare'].fillna(train['Fare'].mean(), inplace = True)"
   ]
  },
  {
   "cell_type": "code",
   "execution_count": null,
   "metadata": {
    "colab": {},
    "colab_type": "code",
    "id": "bUZzpmNbRufH"
   },
   "outputs": [],
   "source": [
    "def dummies(train, test, columns = ['Pclass', 'Sex', 'Embarked', 'Ticket_Lett', 'Cabin_Letter', 'Name_Title', 'Fam_Size']):\n",
    "    for column in columns:\n",
    "        train[column] = train[column].apply(lambda x: str(x))\n",
    "        test[column] = test[column].apply(lambda x: str(x))\n",
    "        good_cols = [column+'_'+i for i in train[column].unique() if i in test[column].unique()]\n",
    "        train = pd.concat((train, pd.get_dummies(train[column], prefix = column)[good_cols]), axis = 1)\n",
    "        test = pd.concat((test, pd.get_dummies(test[column], prefix = column)[good_cols]), axis = 1)\n",
    "        del train[column]\n",
    "        del test[column]\n",
    "    return train, test"
   ]
  },
  {
   "cell_type": "code",
   "execution_count": null,
   "metadata": {
    "colab": {},
    "colab_type": "code",
    "id": "qMjHDJxIRwHi"
   },
   "outputs": [],
   "source": [
    "def drop(train, test, bye = ['PassengerId']):\n",
    "    for i in [train, test]:\n",
    "        for z in bye:\n",
    "            del i[z]\n",
    "    return train, test"
   ]
  },
  {
   "cell_type": "code",
   "execution_count": null,
   "metadata": {
    "colab": {},
    "colab_type": "code",
    "id": "XMNqD2hoRxlP"
   },
   "outputs": [],
   "source": [
    "train = pd.read_csv('/content/drive/My Drive/colab/titanic/train.csv')\n",
    "test = pd.read_csv('/content/drive/My Drive/colab/titanic/test.csv')\n",
    "train, test = names(train, test)\n",
    "train, test = age_impute(train, test)\n",
    "train, test = cabin_num(train, test)\n",
    "train, test = cabin(train, test)\n",
    "train, test = embarked_impute(train, test)\n",
    "train, test = fam_size(train, test)\n",
    "test['Fare'].fillna(train['Fare'].mean(), inplace = True)\n",
    "train, test = ticket_grouped(train, test)\n",
    "train, test = dummies(train, test, columns = ['Pclass', 'Sex', 'Embarked', 'Ticket_Lett',\n",
    "                                                                     'Cabin_Letter', 'Name_Title', 'Fam_Size'])\n",
    "train, test = drop(train, test)"
   ]
  },
  {
   "cell_type": "code",
   "execution_count": 57,
   "metadata": {
    "colab": {
     "base_uri": "https://localhost:8080/",
     "height": 34
    },
    "colab_type": "code",
    "executionInfo": {
     "elapsed": 13215,
     "status": "ok",
     "timestamp": 1574768469205,
     "user": {
      "displayName": "吳韋成",
      "photoUrl": "",
      "userId": "04906925710104432369"
     },
     "user_tz": -480
    },
    "id": "oLZNkdhQSCIu",
    "outputId": "9214e843-f973-49a2-dfeb-13a2ed8d29e9"
   },
   "outputs": [
    {
     "name": "stdout",
     "output_type": "stream",
     "text": [
      "45\n"
     ]
    }
   ],
   "source": [
    "print(len(train.columns))"
   ]
  },
  {
   "cell_type": "markdown",
   "metadata": {
    "colab_type": "text",
    "id": "0um5zv9j9Zvh"
   },
   "source": [
    "# Import RandomForestClassifier"
   ]
  },
  {
   "cell_type": "code",
   "execution_count": null,
   "metadata": {
    "colab": {},
    "colab_type": "code",
    "id": "RJSqwVkg9fuF"
   },
   "outputs": [],
   "source": [
    "from sklearn.ensemble import RandomForestClassifier"
   ]
  },
  {
   "cell_type": "code",
   "execution_count": null,
   "metadata": {
    "colab": {},
    "colab_type": "code",
    "id": "upSzMaHdFrBw"
   },
   "outputs": [],
   "source": [
    "import time"
   ]
  },
  {
   "cell_type": "markdown",
   "metadata": {
    "colab_type": "text",
    "id": "60BrhKfQ9EEH"
   },
   "source": [
    "# Hill Climbing Algorithm"
   ]
  },
  {
   "cell_type": "markdown",
   "metadata": {
    "colab_type": "text",
    "id": "ilYWEis50LkW"
   },
   "source": [
    "<h3> Find better n_estimators"
   ]
  },
  {
   "cell_type": "code",
   "execution_count": null,
   "metadata": {
    "colab": {},
    "colab_type": "code",
    "id": "y-1H6Ow19K2J"
   },
   "outputs": [],
   "source": [
    "def parameterByHC():\n",
    "  best_oob = 0\n",
    "  n_esti = 100\n",
    "  rf = RandomForestClassifier(criterion='gini', \n",
    "                              n_estimators = 100,\n",
    "                              min_samples_split=2,\n",
    "                              min_samples_leaf=1,\n",
    "                              max_features='auto',\n",
    "                              oob_score=True,\n",
    "                              random_state=1,\n",
    "                              n_jobs=-1)\n",
    "  rf.fit(train.iloc[:, 1:], train.iloc[:, 0])\n",
    "  best_oob = rf.oob_score_\n",
    "  print(\"default: \" + str(best_oob))\n",
    "  \n",
    "  for i in range(101,1001):\n",
    "    rf = RandomForestClassifier(criterion='gini', \n",
    "                              n_estimators = i,\n",
    "                              min_samples_split=2,\n",
    "                              min_samples_leaf=1,\n",
    "                              max_features='auto',\n",
    "                              oob_score=True,\n",
    "                              random_state=1,\n",
    "                              n_jobs=-1)\n",
    "    rf.fit(train.iloc[:, 1:], train.iloc[:, 0])\n",
    "    oob = rf.oob_score_\n",
    "    if best_oob > oob:\n",
    "      continue\n",
    "    best_oob = oob\n",
    "    n_esti = i\n",
    "\n",
    "  return best_oob, n_esti"
   ]
  },
  {
   "cell_type": "code",
   "execution_count": 63,
   "metadata": {
    "colab": {
     "base_uri": "https://localhost:8080/",
     "height": 34
    },
    "colab_type": "code",
    "executionInfo": {
     "elapsed": 1356893,
     "status": "ok",
     "timestamp": 1574771050091,
     "user": {
      "displayName": "吳韋成",
      "photoUrl": "",
      "userId": "04906925710104432369"
     },
     "user_tz": -480
    },
    "id": "l1NhMJQ9oPW2",
    "outputId": "77e9cd14-2970-4dda-8d10-fa17e71809fc"
   },
   "outputs": [
    {
     "name": "stdout",
     "output_type": "stream",
     "text": [
      "default: 0.8260381593714927\n"
     ]
    }
   ],
   "source": [
    "bestoob_in_Nesti, n_esti = parameterByHC()"
   ]
  },
  {
   "cell_type": "code",
   "execution_count": 64,
   "metadata": {
    "colab": {
     "base_uri": "https://localhost:8080/",
     "height": 34
    },
    "colab_type": "code",
    "executionInfo": {
     "elapsed": 1356845,
     "status": "ok",
     "timestamp": 1574771050093,
     "user": {
      "displayName": "吳韋成",
      "photoUrl": "",
      "userId": "04906925710104432369"
     },
     "user_tz": -480
    },
    "id": "aZb7FC2Zohjx",
    "outputId": "0cf582b1-5481-401c-d350-3cc29cd5af80"
   },
   "outputs": [
    {
     "name": "stdout",
     "output_type": "stream",
     "text": [
      "0.8395061728395061 : 683\n"
     ]
    }
   ],
   "source": [
    "print(str(bestoob_in_Nesti) + \" : \" + str(n_esti))"
   ]
  },
  {
   "cell_type": "markdown",
   "metadata": {
    "colab_type": "text",
    "id": "dY8eExw00JQ5"
   },
   "source": [
    "<h3> Find better min_samples_split & min_samples_leaf"
   ]
  },
  {
   "cell_type": "code",
   "execution_count": null,
   "metadata": {
    "colab": {},
    "colab_type": "code",
    "id": "NCKJOzSG0JAi"
   },
   "outputs": [],
   "source": [
    "def twoParameterByHC(n_esti):\n",
    "  best_split = 0\n",
    "  best_leaf = 0\n",
    "  flag = 0\n",
    "  rdn1 = random.randint(2,101)\n",
    "  rdn2 = random.randint(1,101)\n",
    "  rf = RandomForestClassifier(criterion='gini', \n",
    "                              n_estimators = n_esti,\n",
    "                              min_samples_split = rdn1,\n",
    "                              min_samples_leaf = rdn2,\n",
    "                              max_features='auto',\n",
    "                              oob_score=True,\n",
    "                              random_state=1,\n",
    "                              n_jobs=-1)\n",
    "  rf.fit(train.iloc[:, 1:], train.iloc[:, 0])\n",
    "  best_oob = rf.oob_score_\n",
    "  best_split = rdn1\n",
    "  best_leaf = rdn2\n",
    "  print('Origin' + ' : ' + str(best_oob) + ', best_split ' + str(rdn1) + ' , ' +  'best_leaf ' + str(rdn2) + '\\n')\n",
    "\n",
    "  for i in range(10):      #iteration\n",
    "    print('Round' + str(i))\n",
    "    rdn1 = random.randint(2,101)\n",
    "    rdn2 = random.randint(1,101)\n",
    "    if i == 5:\n",
    "      rdn1 = 2\n",
    "      rdn2 = 1\n",
    "    print('rdn1 ' + str(rdn1) + ' , ' + 'rdn2 ' + str(rdn2) + '\\n')\n",
    "    rf = RandomForestClassifier(criterion='gini', \n",
    "                              n_estimators = n_esti,\n",
    "                              min_samples_split = rdn1,\n",
    "                              min_samples_leaf = rdn2,\n",
    "                              max_features='auto',\n",
    "                              oob_score=True,\n",
    "                              random_state=1,\n",
    "                              n_jobs=-1)\n",
    "    rf.fit(train.iloc[:, 1:], train.iloc[:, 0])\n",
    "    oob = rf.oob_score_\n",
    "    if best_oob < oob:\n",
    "      best_oob = oob\n",
    "      best_split = rdn1\n",
    "      best_leaf = rdn2\n",
    "    print('best_oob: ' + str(best_oob))\n",
    "\n",
    "    while(True):\n",
    "      if flag == 10:\n",
    "        break\n",
    "      rdn1 += 1\n",
    "      rf = RandomForestClassifier(criterion='gini', \n",
    "                              n_estimators = n_esti,\n",
    "                              min_samples_split = rdn1,\n",
    "                              min_samples_leaf = rdn2,\n",
    "                              max_features='auto',\n",
    "                              oob_score=True,\n",
    "                              random_state=1,\n",
    "                              n_jobs=-1)\n",
    "      rf.fit(train.iloc[:, 1:], train.iloc[:, 0])\n",
    "      oob = rf.oob_score_\n",
    "      if best_oob > oob:\n",
    "        flag += 1\n",
    "        continue\n",
    "      best_oob = oob\n",
    "      best_split = rdn1\n",
    "    print('After while1 => ' + 'best_oob: ' + str(best_oob) + ', best_split: ' + str(best_split) + ', best_leaf: ' + str(best_leaf))\n",
    "    flag = 0\n",
    "\n",
    "    while(True):\n",
    "      if flag == 10:\n",
    "        break\n",
    "      rdn2 += 1\n",
    "      rf = RandomForestClassifier(criterion='gini', \n",
    "                              n_estimators = n_esti,\n",
    "                              min_samples_split = best_split,\n",
    "                              min_samples_leaf = rdn2,\n",
    "                              max_features='auto',\n",
    "                              oob_score=True,\n",
    "                              random_state=1,\n",
    "                              n_jobs=-1)\n",
    "      rf.fit(train.iloc[:, 1:], train.iloc[:, 0])\n",
    "      oob = rf.oob_score_\n",
    "      if best_oob > oob:\n",
    "        flag += 1\n",
    "        continue\n",
    "      best_oob = oob\n",
    "      best_leaf = rdn2\n",
    "    print('After while2 => ' + 'best_oob: ' + str(best_oob) + ', best_split: ' + str(best_split) + ', best_leaf: ' + str(best_leaf))\n",
    "    print('\\n')\n",
    "  return best_split, best_leaf, best_oob"
   ]
  },
  {
   "cell_type": "code",
   "execution_count": 75,
   "metadata": {
    "colab": {
     "base_uri": "https://localhost:8080/",
     "height": 1000
    },
    "colab_type": "code",
    "executionInfo": {
     "elapsed": 379244,
     "status": "ok",
     "timestamp": 1574772868733,
     "user": {
      "displayName": "吳韋成",
      "photoUrl": "",
      "userId": "04906925710104432369"
     },
     "user_tz": -480
    },
    "id": "2Y9A3SMw06m1",
    "outputId": "d54519a9-f72c-4da5-f0a3-222a443f3ade"
   },
   "outputs": [
    {
     "name": "stdout",
     "output_type": "stream",
     "text": [
      "Origin : 0.7822671156004489, best_split 19 , best_leaf 91\n",
      "\n",
      "Round0\n",
      "rdn1 18 , rdn2 59\n",
      "\n",
      "best_oob: 0.7878787878787878\n",
      "After while1 => best_oob: 0.7878787878787878, best_split: 135, best_leaf: 59\n",
      "After while2 => best_oob: 0.7890011223344556, best_split: 135, best_leaf: 69\n",
      "\n",
      "\n",
      "Round1\n",
      "rdn1 87 , rdn2 27\n",
      "\n",
      "best_oob: 0.7890011223344556\n",
      "After while1 => best_oob: 0.7890011223344556, best_split: 135, best_leaf: 69\n",
      "After while2 => best_oob: 0.7890011223344556, best_split: 135, best_leaf: 69\n",
      "\n",
      "\n",
      "Round2\n",
      "rdn1 14 , rdn2 22\n",
      "\n",
      "best_oob: 0.8080808080808081\n",
      "After while1 => best_oob: 0.8080808080808081, best_split: 14, best_leaf: 22\n",
      "After while2 => best_oob: 0.8080808080808081, best_split: 14, best_leaf: 22\n",
      "\n",
      "\n",
      "Round3\n",
      "rdn1 2 , rdn2 25\n",
      "\n",
      "best_oob: 0.8080808080808081\n",
      "After while1 => best_oob: 0.8080808080808081, best_split: 14, best_leaf: 22\n",
      "After while2 => best_oob: 0.8080808080808081, best_split: 14, best_leaf: 22\n",
      "\n",
      "\n",
      "Round4\n",
      "rdn1 35 , rdn2 95\n",
      "\n",
      "best_oob: 0.8080808080808081\n",
      "After while1 => best_oob: 0.8080808080808081, best_split: 14, best_leaf: 22\n",
      "After while2 => best_oob: 0.8080808080808081, best_split: 14, best_leaf: 22\n",
      "\n",
      "\n",
      "Round5\n",
      "rdn1 2 , rdn2 1\n",
      "\n",
      "best_oob: 0.8395061728395061\n",
      "After while1 => best_oob: 0.8395061728395061, best_split: 2, best_leaf: 1\n",
      "After while2 => best_oob: 0.8395061728395061, best_split: 2, best_leaf: 1\n",
      "\n",
      "\n",
      "Round6\n",
      "rdn1 71 , rdn2 89\n",
      "\n",
      "best_oob: 0.8395061728395061\n",
      "After while1 => best_oob: 0.8395061728395061, best_split: 2, best_leaf: 1\n",
      "After while2 => best_oob: 0.8395061728395061, best_split: 2, best_leaf: 1\n",
      "\n",
      "\n",
      "Round7\n",
      "rdn1 21 , rdn2 41\n",
      "\n",
      "best_oob: 0.8395061728395061\n",
      "After while1 => best_oob: 0.8395061728395061, best_split: 2, best_leaf: 1\n",
      "After while2 => best_oob: 0.8395061728395061, best_split: 2, best_leaf: 1\n",
      "\n",
      "\n",
      "Round8\n",
      "rdn1 69 , rdn2 81\n",
      "\n",
      "best_oob: 0.8395061728395061\n",
      "After while1 => best_oob: 0.8395061728395061, best_split: 2, best_leaf: 1\n",
      "After while2 => best_oob: 0.8395061728395061, best_split: 2, best_leaf: 1\n",
      "\n",
      "\n",
      "Round9\n",
      "rdn1 67 , rdn2 91\n",
      "\n",
      "best_oob: 0.8395061728395061\n",
      "After while1 => best_oob: 0.8395061728395061, best_split: 2, best_leaf: 1\n",
      "After while2 => best_oob: 0.8395061728395061, best_split: 2, best_leaf: 1\n",
      "\n",
      "\n"
     ]
    }
   ],
   "source": [
    "HCstart = time.time()\n",
    "HCbest_split, HCbest_leaf, HCbest_oobb = twoParameterByHC(n_esti)\n",
    "HCend = time.time()"
   ]
  },
  {
   "cell_type": "code",
   "execution_count": 76,
   "metadata": {
    "colab": {
     "base_uri": "https://localhost:8080/",
     "height": 52
    },
    "colab_type": "code",
    "executionInfo": {
     "elapsed": 378666,
     "status": "ok",
     "timestamp": 1574772868734,
     "user": {
      "displayName": "吳韋成",
      "photoUrl": "",
      "userId": "04906925710104432369"
     },
     "user_tz": -480
    },
    "id": "Dpbzm5hR33ga",
    "outputId": "aa019257-c845-4c13-b5eb-01789c79120a"
   },
   "outputs": [
    {
     "name": "stdout",
     "output_type": "stream",
     "text": [
      "0.8395061728395061 :  min_samples_split -> 2 , min_samples_leaf -> 1\n",
      "Period: 378.2757008075714 sec\n"
     ]
    }
   ],
   "source": [
    "print(str(HCbest_oobb) + \" : \" + \" min_samples_split -> \" + str(HCbest_split) + \" ,\" + \" min_samples_leaf -> \" + str(HCbest_leaf))\n",
    "print('Period: ' + str(HCend-HCstart) + ' sec')"
   ]
  },
  {
   "cell_type": "markdown",
   "metadata": {
    "colab_type": "text",
    "id": "n-MH-qOb9dC9"
   },
   "source": [
    "# Genetic Algorithm\n",
    "\n"
   ]
  },
  {
   "cell_type": "code",
   "execution_count": null,
   "metadata": {
    "colab": {},
    "colab_type": "code",
    "id": "Xoj0tnEWUW8n"
   },
   "outputs": [],
   "source": [
    "def ran(domain, leng): # generate two numbers  that in range to  swap  (ex: if answer is [4,7] means city 4 and city 7 seq. order swap)\n",
    "    num = []\n",
    "    ok_flag=0\n",
    "    First = random.randint(1,domain)%leng\n",
    "    num.append(First)\n",
    "    Second = random.randint(1,domain)%leng\n",
    "    \n",
    "    while(ok_flag==0):\n",
    "        if Second in num:\n",
    "            Second=random.randint(1,domain)%leng\n",
    "        else:\n",
    "            num.append(Second)\n",
    "            ok_flag=1\n",
    "    \n",
    "    return num"
   ]
  },
  {
   "cell_type": "code",
   "execution_count": null,
   "metadata": {
    "colab": {},
    "colab_type": "code",
    "id": "BhUnawT23fFS"
   },
   "outputs": [],
   "source": [
    "def twoParameterByGA(n_esti):\n",
    "  parent = []\n",
    "  child = []\n",
    "  best_oob = 0\n",
    "  best_split = 0\n",
    "  best_leaf = 0\n",
    "  mu_flag = 0\n",
    "  m_rate = 0.087\n",
    "\n",
    "  # iteration\n",
    "  for i in range(10):\n",
    "    print('Round ' + str(i))\n",
    "    # parents rdn1, rdn2\n",
    "    parent1 = []\n",
    "    parent1.append(random.randint(2,101))\n",
    "    parent1.append(random.randint(1,101))\n",
    "    # parent1 = [6, 8]\n",
    "    \n",
    "    rf = RandomForestClassifier(criterion='gini', \n",
    "                                n_estimators = n_esti,\n",
    "                                min_samples_split = parent1[0],\n",
    "                                min_samples_leaf = parent1[1],\n",
    "                                max_features='auto',\n",
    "                                oob_score=True,\n",
    "                                random_state=1,\n",
    "                                n_jobs=-1)\n",
    "    rf.fit(train.iloc[:, 1:], train.iloc[:, 0])\n",
    "    parent1.append(round(rf.oob_score_, 4))\n",
    "    print('parent1[0]: ' + str(parent1[0]) + ' , ' + 'parent1[1]: ' + str(parent1[1]) + ', oob: ' + str(parent1[2]))\n",
    "\n",
    "    if best_oob < parent1[2]:\n",
    "        best_oob = parent1[2]\n",
    "        best_split = parent1[0]\n",
    "        best_leaf = parent1[1]\n",
    "\n",
    "    print('parent1'  + ' => ' + '  oob : ' + str(best_oob) + ', best_split: ' + str(best_split) + ', ' + ' best_leaf: ' + str(best_leaf))\n",
    "    parent.append(parent1)\n",
    "    print('\\n')\n",
    "\n",
    "    # children \n",
    "    parent2 = []\n",
    "    parent2.append(random.randint(2,101))\n",
    "    parent2.append(random.randint(1,101))\n",
    "    # parent2 = [8, 10]\n",
    "    rf = RandomForestClassifier(criterion='gini', \n",
    "                              n_estimators = n_esti,\n",
    "                              min_samples_split = parent2[0],\n",
    "                              min_samples_leaf = parent2[1],\n",
    "                              max_features='auto',\n",
    "                              oob_score=True,\n",
    "                              random_state=1,\n",
    "                              n_jobs=-1)\n",
    "    rf.fit(train.iloc[:, 1:], train.iloc[:, 0])\n",
    "    parent2.append(round(rf.oob_score_, 4))\n",
    "    print('parent2[0]: ' + str(parent2[0]) + ' , ' + 'parent2[1]: ' + str(parent2[1]) + ', oob: ' + str(parent2[2]))\n",
    "    if best_oob < parent2[2]:\n",
    "      best_oob = parent2[2]\n",
    "      best_split = parent2[0]\n",
    "      best_leaf = parent2[1]\n",
    "    print('parent2' + ' => ' + '  oob : ' + str(best_oob) + ', best_split: ' + str(best_split) + ', ' + ' best_leaf: ' + str(best_leaf))\n",
    "    parent.append(parent2)\n",
    "\n",
    "    print(parent)\n",
    "    \n",
    "\n",
    "    # find index to crossover\n",
    "    list_cross = []\n",
    "    #print(len(parent))\n",
    "    for j in range(int(len(parent)/2)):\n",
    "      index = ran(100, len(parent))\n",
    "      #print(index[0],index[1])\n",
    "        \n",
    "      list_tmp = []\n",
    "      list_tmp.append( [parent[index[0]][0], parent[index[1]][1]] )\n",
    "      child.append(list_tmp)\n",
    "\n",
    "      list_tmp = []\n",
    "      list_tmp.append([ parent[index[1]][0], parent[index[0]][1] ])\n",
    "      child.append(list_tmp)\n",
    "    print('\\nchild:')\n",
    "    print(child)\n",
    "    print('\\n\\n')\n",
    " \n",
    "  # crossover\n",
    "  for k in range(len(child)):\n",
    "    #print(str(child[k][0][0]),str(child[k][0][1]))\n",
    "    rf = RandomForestClassifier(criterion='gini', \n",
    "                            n_estimators = n_esti,\n",
    "                            min_samples_split = child[k][0][0],\n",
    "                            min_samples_leaf = child[k][0][1],\n",
    "                            max_features='auto',\n",
    "                            oob_score=True,\n",
    "                            random_state=1,\n",
    "                            n_jobs=-1)\n",
    "    rf.fit(train.iloc[:, 1:], train.iloc[:, 0])\n",
    "    child[k][0].append(round(rf.oob_score_, 4))\n",
    "  print(child)\n",
    "\n",
    "\n",
    "  # Mutation\n",
    "  for x in range(len(child)):\n",
    "    if random.random() < m_rate:\n",
    "      mu_flag = 1\n",
    "      print('\\nMutation :D')\n",
    "      new = random.randint(2,101)\n",
    "      child[x][0][1] = new\n",
    "      rf = RandomForestClassifier(criterion='gini', \n",
    "                            n_estimators = n_esti,\n",
    "                            min_samples_split = child[x][0][0],\n",
    "                            min_samples_leaf = child[x][0][1],\n",
    "                            max_features='auto',\n",
    "                            oob_score=True,\n",
    "                            random_state=1,\n",
    "                            n_jobs=-1)\n",
    "      rf.fit(train.iloc[:, 1:], train.iloc[:, 0])\n",
    "      child[x][0][2] = round(rf.oob_score_, 4)\n",
    "  if mu_flag == 1:\n",
    "    print(child)\n",
    "  best_oob = child[0][0][2]\n",
    "  best_split = child[0][0][0]\n",
    "  best_leaf = child[0][0][1]\n",
    "\n",
    "  for xx in range(len(child)):\n",
    "    if child[xx][0][2] > best_oob:\n",
    "      best_oob = child[xx][0][2]\n",
    "      best_split = child[xx][0][0]\n",
    "      best_leaf = child[xx][0][1]\n",
    "  \n",
    "  return best_split, best_leaf, best_oob"
   ]
  },
  {
   "cell_type": "code",
   "execution_count": 79,
   "metadata": {
    "colab": {
     "base_uri": "https://localhost:8080/",
     "height": 1000
    },
    "colab_type": "code",
    "executionInfo": {
     "elapsed": 220552,
     "status": "ok",
     "timestamp": 1574773089319,
     "user": {
      "displayName": "吳韋成",
      "photoUrl": "",
      "userId": "04906925710104432369"
     },
     "user_tz": -480
    },
    "id": "MqHzVh0BG2ZG",
    "outputId": "b566ac27-6739-4b5d-b2b7-c081e92f3787"
   },
   "outputs": [
    {
     "name": "stdout",
     "output_type": "stream",
     "text": [
      "Round 0\n",
      "parent1[0]: 83 , parent1[1]: 11, oob: 0.8159\n",
      "parent1 =>   oob : 0.8159, best_split: 83,  best_leaf: 11\n",
      "\n",
      "\n",
      "parent2[0]: 83 , parent2[1]: 15, oob: 0.8103\n",
      "parent2 =>   oob : 0.8159, best_split: 83,  best_leaf: 11\n",
      "[[83, 11, 0.8159], [83, 15, 0.8103]]\n",
      "\n",
      "child:\n",
      "[[[83, 15]], [[83, 11]]]\n",
      "\n",
      "\n",
      "\n",
      "Round 1\n",
      "parent1[0]: 2 , parent1[1]: 29, oob: 0.7924\n",
      "parent1 =>   oob : 0.8159, best_split: 83,  best_leaf: 11\n",
      "\n",
      "\n",
      "parent2[0]: 75 , parent2[1]: 59, oob: 0.7879\n",
      "parent2 =>   oob : 0.8159, best_split: 83,  best_leaf: 11\n",
      "[[83, 11, 0.8159], [83, 15, 0.8103], [2, 29, 0.7924], [75, 59, 0.7879]]\n",
      "\n",
      "child:\n",
      "[[[83, 15]], [[83, 11]], [[2, 15]], [[83, 29]], [[83, 29]], [[2, 15]]]\n",
      "\n",
      "\n",
      "\n",
      "Round 2\n",
      "parent1[0]: 87 , parent1[1]: 20, oob: 0.8036\n",
      "parent1 =>   oob : 0.8159, best_split: 83,  best_leaf: 11\n",
      "\n",
      "\n",
      "parent2[0]: 28 , parent2[1]: 1, oob: 0.8328\n",
      "parent2 =>   oob : 0.8328, best_split: 28,  best_leaf: 1\n",
      "[[83, 11, 0.8159], [83, 15, 0.8103], [2, 29, 0.7924], [75, 59, 0.7879], [87, 20, 0.8036], [28, 1, 0.8328]]\n",
      "\n",
      "child:\n",
      "[[[83, 15]], [[83, 11]], [[2, 15]], [[83, 29]], [[83, 29]], [[2, 15]], [[83, 15]], [[83, 11]], [[28, 15]], [[83, 1]], [[28, 20]], [[87, 1]]]\n",
      "\n",
      "\n",
      "\n",
      "Round 3\n",
      "parent1[0]: 14 , parent1[1]: 37, oob: 0.7879\n",
      "parent1 =>   oob : 0.8328, best_split: 28,  best_leaf: 1\n",
      "\n",
      "\n",
      "parent2[0]: 13 , parent2[1]: 66, oob: 0.7879\n",
      "parent2 =>   oob : 0.8328, best_split: 28,  best_leaf: 1\n",
      "[[83, 11, 0.8159], [83, 15, 0.8103], [2, 29, 0.7924], [75, 59, 0.7879], [87, 20, 0.8036], [28, 1, 0.8328], [14, 37, 0.7879], [13, 66, 0.7879]]\n",
      "\n",
      "child:\n",
      "[[[83, 15]], [[83, 11]], [[2, 15]], [[83, 29]], [[83, 29]], [[2, 15]], [[83, 15]], [[83, 11]], [[28, 15]], [[83, 1]], [[28, 20]], [[87, 1]], [[28, 29]], [[2, 1]], [[83, 1]], [[28, 11]], [[28, 59]], [[75, 1]], [[13, 59]], [[75, 66]]]\n",
      "\n",
      "\n",
      "\n",
      "Round 4\n",
      "parent1[0]: 86 , parent1[1]: 1, oob: 0.8227\n",
      "parent1 =>   oob : 0.8328, best_split: 28,  best_leaf: 1\n",
      "\n",
      "\n",
      "parent2[0]: 47 , parent2[1]: 32, oob: 0.7868\n",
      "parent2 =>   oob : 0.8328, best_split: 28,  best_leaf: 1\n",
      "[[83, 11, 0.8159], [83, 15, 0.8103], [2, 29, 0.7924], [75, 59, 0.7879], [87, 20, 0.8036], [28, 1, 0.8328], [14, 37, 0.7879], [13, 66, 0.7879], [86, 1, 0.8227], [47, 32, 0.7868]]\n",
      "\n",
      "child:\n",
      "[[[83, 15]], [[83, 11]], [[2, 15]], [[83, 29]], [[83, 29]], [[2, 15]], [[83, 15]], [[83, 11]], [[28, 15]], [[83, 1]], [[28, 20]], [[87, 1]], [[28, 29]], [[2, 1]], [[83, 1]], [[28, 11]], [[28, 59]], [[75, 1]], [[13, 59]], [[75, 66]], [[87, 1]], [[86, 20]], [[14, 1]], [[28, 37]], [[14, 20]], [[87, 37]], [[75, 29]], [[2, 59]], [[75, 20]], [[87, 59]]]\n",
      "\n",
      "\n",
      "\n",
      "Round 5\n",
      "parent1[0]: 45 , parent1[1]: 78, oob: 0.7868\n",
      "parent1 =>   oob : 0.8328, best_split: 28,  best_leaf: 1\n",
      "\n",
      "\n",
      "parent2[0]: 7 , parent2[1]: 53, oob: 0.7879\n",
      "parent2 =>   oob : 0.8328, best_split: 28,  best_leaf: 1\n",
      "[[83, 11, 0.8159], [83, 15, 0.8103], [2, 29, 0.7924], [75, 59, 0.7879], [87, 20, 0.8036], [28, 1, 0.8328], [14, 37, 0.7879], [13, 66, 0.7879], [86, 1, 0.8227], [47, 32, 0.7868], [45, 78, 0.7868], [7, 53, 0.7879]]\n",
      "\n",
      "child:\n",
      "[[[83, 15]], [[83, 11]], [[2, 15]], [[83, 29]], [[83, 29]], [[2, 15]], [[83, 15]], [[83, 11]], [[28, 15]], [[83, 1]], [[28, 20]], [[87, 1]], [[28, 29]], [[2, 1]], [[83, 1]], [[28, 11]], [[28, 59]], [[75, 1]], [[13, 59]], [[75, 66]], [[87, 1]], [[86, 20]], [[14, 1]], [[28, 37]], [[14, 20]], [[87, 37]], [[75, 29]], [[2, 59]], [[75, 20]], [[87, 59]], [[14, 11]], [[83, 37]], [[28, 59]], [[75, 1]], [[28, 15]], [[83, 1]], [[83, 53]], [[7, 15]], [[47, 78]], [[45, 32]], [[83, 37]], [[14, 11]]]\n",
      "\n",
      "\n",
      "\n",
      "Round 6\n",
      "parent1[0]: 100 , parent1[1]: 27, oob: 0.7879\n",
      "parent1 =>   oob : 0.8328, best_split: 28,  best_leaf: 1\n",
      "\n",
      "\n",
      "parent2[0]: 90 , parent2[1]: 101, oob: 0.78\n",
      "parent2 =>   oob : 0.8328, best_split: 28,  best_leaf: 1\n",
      "[[83, 11, 0.8159], [83, 15, 0.8103], [2, 29, 0.7924], [75, 59, 0.7879], [87, 20, 0.8036], [28, 1, 0.8328], [14, 37, 0.7879], [13, 66, 0.7879], [86, 1, 0.8227], [47, 32, 0.7868], [45, 78, 0.7868], [7, 53, 0.7879], [100, 27, 0.7879], [90, 101, 0.78]]\n",
      "\n",
      "child:\n",
      "[[[83, 15]], [[83, 11]], [[2, 15]], [[83, 29]], [[83, 29]], [[2, 15]], [[83, 15]], [[83, 11]], [[28, 15]], [[83, 1]], [[28, 20]], [[87, 1]], [[28, 29]], [[2, 1]], [[83, 1]], [[28, 11]], [[28, 59]], [[75, 1]], [[13, 59]], [[75, 66]], [[87, 1]], [[86, 20]], [[14, 1]], [[28, 37]], [[14, 20]], [[87, 37]], [[75, 29]], [[2, 59]], [[75, 20]], [[87, 59]], [[14, 11]], [[83, 37]], [[28, 59]], [[75, 1]], [[28, 15]], [[83, 1]], [[83, 53]], [[7, 15]], [[47, 78]], [[45, 32]], [[83, 37]], [[14, 11]], [[47, 1]], [[28, 32]], [[75, 1]], [[28, 59]], [[87, 101]], [[90, 20]], [[14, 20]], [[87, 37]], [[75, 20]], [[87, 59]], [[83, 1]], [[28, 15]], [[83, 20]], [[87, 11]]]\n",
      "\n",
      "\n",
      "\n",
      "Round 7\n",
      "parent1[0]: 21 , parent1[1]: 27, oob: 0.7946\n",
      "parent1 =>   oob : 0.8328, best_split: 28,  best_leaf: 1\n",
      "\n",
      "\n",
      "parent2[0]: 85 , parent2[1]: 54, oob: 0.7879\n",
      "parent2 =>   oob : 0.8328, best_split: 28,  best_leaf: 1\n",
      "[[83, 11, 0.8159], [83, 15, 0.8103], [2, 29, 0.7924], [75, 59, 0.7879], [87, 20, 0.8036], [28, 1, 0.8328], [14, 37, 0.7879], [13, 66, 0.7879], [86, 1, 0.8227], [47, 32, 0.7868], [45, 78, 0.7868], [7, 53, 0.7879], [100, 27, 0.7879], [90, 101, 0.78], [21, 27, 0.7946], [85, 54, 0.7879]]\n",
      "\n",
      "child:\n",
      "[[[83, 15]], [[83, 11]], [[2, 15]], [[83, 29]], [[83, 29]], [[2, 15]], [[83, 15]], [[83, 11]], [[28, 15]], [[83, 1]], [[28, 20]], [[87, 1]], [[28, 29]], [[2, 1]], [[83, 1]], [[28, 11]], [[28, 59]], [[75, 1]], [[13, 59]], [[75, 66]], [[87, 1]], [[86, 20]], [[14, 1]], [[28, 37]], [[14, 20]], [[87, 37]], [[75, 29]], [[2, 59]], [[75, 20]], [[87, 59]], [[14, 11]], [[83, 37]], [[28, 59]], [[75, 1]], [[28, 15]], [[83, 1]], [[83, 53]], [[7, 15]], [[47, 78]], [[45, 32]], [[83, 37]], [[14, 11]], [[47, 1]], [[28, 32]], [[75, 1]], [[28, 59]], [[87, 101]], [[90, 20]], [[14, 20]], [[87, 37]], [[75, 20]], [[87, 59]], [[83, 1]], [[28, 15]], [[83, 20]], [[87, 11]], [[7, 20]], [[87, 53]], [[100, 59]], [[75, 27]], [[28, 59]], [[75, 1]], [[86, 20]], [[87, 1]], [[21, 32]], [[47, 27]], [[13, 32]], [[47, 66]], [[45, 59]], [[75, 78]], [[83, 66]], [[13, 15]]]\n",
      "\n",
      "\n",
      "\n",
      "Round 8\n",
      "parent1[0]: 76 , parent1[1]: 100, oob: 0.78\n",
      "parent1 =>   oob : 0.8328, best_split: 28,  best_leaf: 1\n",
      "\n",
      "\n",
      "parent2[0]: 15 , parent2[1]: 29, oob: 0.7924\n",
      "parent2 =>   oob : 0.8328, best_split: 28,  best_leaf: 1\n",
      "[[83, 11, 0.8159], [83, 15, 0.8103], [2, 29, 0.7924], [75, 59, 0.7879], [87, 20, 0.8036], [28, 1, 0.8328], [14, 37, 0.7879], [13, 66, 0.7879], [86, 1, 0.8227], [47, 32, 0.7868], [45, 78, 0.7868], [7, 53, 0.7879], [100, 27, 0.7879], [90, 101, 0.78], [21, 27, 0.7946], [85, 54, 0.7879], [76, 100, 0.78], [15, 29, 0.7924]]\n",
      "\n",
      "child:\n",
      "[[[83, 15]], [[83, 11]], [[2, 15]], [[83, 29]], [[83, 29]], [[2, 15]], [[83, 15]], [[83, 11]], [[28, 15]], [[83, 1]], [[28, 20]], [[87, 1]], [[28, 29]], [[2, 1]], [[83, 1]], [[28, 11]], [[28, 59]], [[75, 1]], [[13, 59]], [[75, 66]], [[87, 1]], [[86, 20]], [[14, 1]], [[28, 37]], [[14, 20]], [[87, 37]], [[75, 29]], [[2, 59]], [[75, 20]], [[87, 59]], [[14, 11]], [[83, 37]], [[28, 59]], [[75, 1]], [[28, 15]], [[83, 1]], [[83, 53]], [[7, 15]], [[47, 78]], [[45, 32]], [[83, 37]], [[14, 11]], [[47, 1]], [[28, 32]], [[75, 1]], [[28, 59]], [[87, 101]], [[90, 20]], [[14, 20]], [[87, 37]], [[75, 20]], [[87, 59]], [[83, 1]], [[28, 15]], [[83, 20]], [[87, 11]], [[7, 20]], [[87, 53]], [[100, 59]], [[75, 27]], [[28, 59]], [[75, 1]], [[86, 20]], [[87, 1]], [[21, 32]], [[47, 27]], [[13, 32]], [[47, 66]], [[45, 59]], [[75, 78]], [[83, 66]], [[13, 15]], [[14, 15]], [[83, 37]], [[87, 29]], [[2, 20]], [[86, 100]], [[76, 1]], [[13, 1]], [[28, 66]], [[15, 20]], [[87, 29]], [[85, 66]], [[13, 54]], [[2, 27]], [[21, 29]], [[86, 101]], [[90, 1]], [[15, 54]], [[85, 29]]]\n",
      "\n",
      "\n",
      "\n",
      "Round 9\n",
      "parent1[0]: 60 , parent1[1]: 33, oob: 0.7879\n",
      "parent1 =>   oob : 0.8328, best_split: 28,  best_leaf: 1\n",
      "\n",
      "\n",
      "parent2[0]: 7 , parent2[1]: 67, oob: 0.7879\n",
      "parent2 =>   oob : 0.8328, best_split: 28,  best_leaf: 1\n",
      "[[83, 11, 0.8159], [83, 15, 0.8103], [2, 29, 0.7924], [75, 59, 0.7879], [87, 20, 0.8036], [28, 1, 0.8328], [14, 37, 0.7879], [13, 66, 0.7879], [86, 1, 0.8227], [47, 32, 0.7868], [45, 78, 0.7868], [7, 53, 0.7879], [100, 27, 0.7879], [90, 101, 0.78], [21, 27, 0.7946], [85, 54, 0.7879], [76, 100, 0.78], [15, 29, 0.7924], [60, 33, 0.7879], [7, 67, 0.7879]]\n",
      "\n",
      "child:\n",
      "[[[83, 15]], [[83, 11]], [[2, 15]], [[83, 29]], [[83, 29]], [[2, 15]], [[83, 15]], [[83, 11]], [[28, 15]], [[83, 1]], [[28, 20]], [[87, 1]], [[28, 29]], [[2, 1]], [[83, 1]], [[28, 11]], [[28, 59]], [[75, 1]], [[13, 59]], [[75, 66]], [[87, 1]], [[86, 20]], [[14, 1]], [[28, 37]], [[14, 20]], [[87, 37]], [[75, 29]], [[2, 59]], [[75, 20]], [[87, 59]], [[14, 11]], [[83, 37]], [[28, 59]], [[75, 1]], [[28, 15]], [[83, 1]], [[83, 53]], [[7, 15]], [[47, 78]], [[45, 32]], [[83, 37]], [[14, 11]], [[47, 1]], [[28, 32]], [[75, 1]], [[28, 59]], [[87, 101]], [[90, 20]], [[14, 20]], [[87, 37]], [[75, 20]], [[87, 59]], [[83, 1]], [[28, 15]], [[83, 20]], [[87, 11]], [[7, 20]], [[87, 53]], [[100, 59]], [[75, 27]], [[28, 59]], [[75, 1]], [[86, 20]], [[87, 1]], [[21, 32]], [[47, 27]], [[13, 32]], [[47, 66]], [[45, 59]], [[75, 78]], [[83, 66]], [[13, 15]], [[14, 15]], [[83, 37]], [[87, 29]], [[2, 20]], [[86, 100]], [[76, 1]], [[13, 1]], [[28, 66]], [[15, 20]], [[87, 29]], [[85, 66]], [[13, 54]], [[2, 27]], [[21, 29]], [[86, 101]], [[90, 1]], [[15, 54]], [[85, 29]], [[45, 15]], [[83, 78]], [[83, 27]], [[21, 15]], [[28, 20]], [[87, 1]], [[83, 29]], [[2, 11]], [[75, 11]], [[83, 59]], [[47, 1]], [[86, 32]], [[14, 29]], [[2, 37]], [[83, 67]], [[7, 11]], [[7, 66]], [[13, 53]], [[87, 32]], [[47, 20]]]\n",
      "\n",
      "\n",
      "\n",
      "[[[83, 15, 0.8103]], [[83, 11, 0.8159]], [[2, 15, 0.8182]], [[83, 29, 0.7879]], [[83, 29, 0.7879]], [[2, 15, 0.8182]], [[83, 15, 0.8103]], [[83, 11, 0.8159]], [[28, 15, 0.8182]], [[83, 1, 0.8227]], [[28, 20, 0.8114]], [[87, 1, 0.8215]], [[28, 29, 0.7924]], [[2, 1, 0.8395]], [[83, 1, 0.8227]], [[28, 11, 0.8238]], [[28, 59, 0.7879]], [[75, 1, 0.8305]], [[13, 59, 0.7879]], [[75, 66, 0.7879]], [[87, 1, 0.8215]], [[86, 20, 0.8036]], [[14, 1, 0.835]], [[28, 37, 0.7879]], [[14, 20, 0.8114]], [[87, 37, 0.7879]], [[75, 29, 0.7901]], [[2, 59, 0.7879]], [[75, 20, 0.8047]], [[87, 59, 0.7879]], [[14, 11, 0.8227]], [[83, 37, 0.7879]], [[28, 59, 0.7879]], [[75, 1, 0.8305]], [[28, 15, 0.8182]], [[83, 1, 0.8227]], [[83, 53, 0.7879]], [[7, 15, 0.8182]], [[47, 78, 0.7868]], [[45, 32, 0.7868]], [[83, 37, 0.7879]], [[14, 11, 0.8227]], [[47, 1, 0.8339]], [[28, 32, 0.7868]], [[75, 1, 0.8305]], [[28, 59, 0.7879]], [[87, 101, 0.78]], [[90, 20, 0.7991]], [[14, 20, 0.8114]], [[87, 37, 0.7879]], [[75, 20, 0.8047]], [[87, 59, 0.7879]], [[83, 1, 0.8227]], [[28, 15, 0.8182]], [[83, 20, 0.8047]], [[87, 11, 0.8114]], [[7, 20, 0.8114]], [[87, 53, 0.7879]], [[100, 59, 0.7879]], [[75, 27, 0.7935]], [[28, 59, 0.7879]], [[75, 1, 0.8305]], [[86, 20, 0.8036]], [[87, 1, 0.8215]], [[21, 32, 0.7868]], [[47, 27, 0.7946]], [[13, 32, 0.7868]], [[47, 66, 0.7879]], [[45, 59, 0.7879]], [[75, 78, 0.7868]], [[83, 66, 0.7879]], [[13, 15, 0.8182]], [[14, 15, 0.8182]], [[83, 37, 0.7879]], [[87, 29, 0.7879]], [[2, 20, 0.8114]], [[86, 100, 0.78]], [[76, 1, 0.826]], [[13, 1, 0.8328]], [[28, 66, 0.7879]], [[15, 20, 0.8114]], [[87, 29, 0.7879]], [[85, 66, 0.7879]], [[13, 54, 0.7879]], [[2, 27, 0.7946]], [[21, 29, 0.7924]], [[86, 101, 0.78]], [[90, 1, 0.8171]], [[15, 54, 0.7879]], [[85, 29, 0.7868]], [[45, 15, 0.8215]], [[83, 78, 0.7868]], [[83, 27, 0.7879]], [[21, 15, 0.8182]], [[28, 20, 0.8114]], [[87, 1, 0.8215]], [[83, 29, 0.7879]], [[2, 11, 0.8227]], [[75, 11, 0.8193]], [[83, 59, 0.7879]], [[47, 1, 0.8339]], [[86, 32, 0.7879]], [[14, 29, 0.7924]], [[2, 37, 0.7879]], [[83, 67, 0.7879]], [[7, 11, 0.8227]], [[7, 66, 0.7879]], [[13, 53, 0.7879]], [[87, 32, 0.7879]], [[47, 20, 0.8148]]]\n",
      "\n",
      "Mutation :D\n",
      "\n",
      "Mutation :D\n",
      "\n",
      "Mutation :D\n",
      "\n",
      "Mutation :D\n",
      "\n",
      "Mutation :D\n",
      "\n",
      "Mutation :D\n",
      "\n",
      "Mutation :D\n",
      "\n",
      "Mutation :D\n",
      "\n",
      "Mutation :D\n",
      "\n",
      "Mutation :D\n",
      "\n",
      "Mutation :D\n",
      "[[[83, 15, 0.8103]], [[83, 93, 0.7823]], [[2, 15, 0.8182]], [[83, 29, 0.7879]], [[83, 29, 0.7879]], [[2, 15, 0.8182]], [[83, 15, 0.8103]], [[83, 11, 0.8159]], [[28, 15, 0.8182]], [[83, 100, 0.78]], [[28, 20, 0.8114]], [[87, 1, 0.8215]], [[28, 29, 0.7924]], [[2, 1, 0.8395]], [[83, 1, 0.8227]], [[28, 32, 0.7868]], [[28, 59, 0.7879]], [[75, 1, 0.8305]], [[13, 59, 0.7879]], [[75, 66, 0.7879]], [[87, 1, 0.8215]], [[86, 20, 0.8036]], [[14, 1, 0.835]], [[28, 37, 0.7879]], [[14, 20, 0.8114]], [[87, 37, 0.7879]], [[75, 29, 0.7901]], [[2, 46, 0.7879]], [[75, 20, 0.8047]], [[87, 59, 0.7879]], [[14, 11, 0.8227]], [[83, 67, 0.7879]], [[28, 59, 0.7879]], [[75, 1, 0.8305]], [[28, 15, 0.8182]], [[83, 30, 0.7879]], [[83, 53, 0.7879]], [[7, 15, 0.8182]], [[47, 78, 0.7868]], [[45, 32, 0.7868]], [[83, 37, 0.7879]], [[14, 11, 0.8227]], [[47, 1, 0.8339]], [[28, 32, 0.7868]], [[75, 1, 0.8305]], [[28, 59, 0.7879]], [[87, 101, 0.78]], [[90, 20, 0.7991]], [[14, 20, 0.8114]], [[87, 37, 0.7879]], [[75, 20, 0.8047]], [[87, 59, 0.7879]], [[83, 1, 0.8227]], [[28, 15, 0.8182]], [[83, 20, 0.8047]], [[87, 11, 0.8114]], [[7, 20, 0.8114]], [[87, 53, 0.7879]], [[100, 6, 0.8114]], [[75, 27, 0.7935]], [[28, 59, 0.7879]], [[75, 1, 0.8305]], [[86, 20, 0.8036]], [[87, 1, 0.8215]], [[21, 32, 0.7868]], [[47, 20, 0.8148]], [[13, 32, 0.7868]], [[47, 66, 0.7879]], [[45, 59, 0.7879]], [[75, 78, 0.7868]], [[83, 66, 0.7879]], [[13, 15, 0.8182]], [[14, 15, 0.8182]], [[83, 37, 0.7879]], [[87, 29, 0.7879]], [[2, 20, 0.8114]], [[86, 100, 0.78]], [[76, 1, 0.826]], [[13, 1, 0.8328]], [[28, 66, 0.7879]], [[15, 20, 0.8114]], [[87, 29, 0.7879]], [[85, 98, 0.78]], [[13, 54, 0.7879]], [[2, 27, 0.7946]], [[21, 29, 0.7924]], [[86, 101, 0.78]], [[90, 1, 0.8171]], [[15, 54, 0.7879]], [[85, 29, 0.7868]], [[45, 15, 0.8215]], [[83, 78, 0.7868]], [[83, 27, 0.7879]], [[21, 15, 0.8182]], [[28, 20, 0.8114]], [[87, 1, 0.8215]], [[83, 29, 0.7879]], [[2, 90, 0.7823]], [[75, 59, 0.7879]], [[83, 59, 0.7879]], [[47, 1, 0.8339]], [[86, 32, 0.7879]], [[14, 29, 0.7924]], [[2, 37, 0.7879]], [[83, 67, 0.7879]], [[7, 11, 0.8227]], [[7, 66, 0.7879]], [[13, 53, 0.7879]], [[87, 32, 0.7879]], [[47, 20, 0.8148]]]\n"
     ]
    }
   ],
   "source": [
    "GAstart = time.time()\n",
    "GAbest_split, GAbest_leaf, GAbest_oob = twoParameterByGA(n_esti)\n",
    "GAend = time.time()"
   ]
  },
  {
   "cell_type": "code",
   "execution_count": 80,
   "metadata": {
    "colab": {
     "base_uri": "https://localhost:8080/",
     "height": 52
    },
    "colab_type": "code",
    "executionInfo": {
     "elapsed": 220539,
     "status": "ok",
     "timestamp": 1574773089320,
     "user": {
      "displayName": "吳韋成",
      "photoUrl": "",
      "userId": "04906925710104432369"
     },
     "user_tz": -480
    },
    "id": "9cOya9WYHA5b",
    "outputId": "610e2813-9093-4fb8-8991-591f15b6832f"
   },
   "outputs": [
    {
     "name": "stdout",
     "output_type": "stream",
     "text": [
      "min_samples_split: 2 ; min_samples_leaf: 1 ; oob_score: 0.8395\n",
      "Period: 218.96920895576477 sec\n"
     ]
    }
   ],
   "source": [
    "print('min_samples_split: ' + str(GAbest_split) + \" ; \" + 'min_samples_leaf: '  + str(GAbest_leaf) + \" ; \" + 'oob_score: ' + str(GAbest_oob))\n",
    "print('Period: ' + str(GAend-GAstart) + ' sec')"
   ]
  },
  {
   "cell_type": "markdown",
   "metadata": {
    "colab_type": "text",
    "id": "PxnWiro1SHwJ"
   },
   "source": [
    "# Model Estimation and Evaluation"
   ]
  },
  {
   "cell_type": "code",
   "execution_count": 81,
   "metadata": {
    "colab": {
     "base_uri": "https://localhost:8080/",
     "height": 125
    },
    "colab_type": "code",
    "executionInfo": {
     "elapsed": 220532,
     "status": "ok",
     "timestamp": 1574773089322,
     "user": {
      "displayName": "吳韋成",
      "photoUrl": "",
      "userId": "04906925710104432369"
     },
     "user_tz": -480
    },
    "id": "Iozx4gskSDvO",
    "outputId": "6a7266de-aabb-4ead-ed41-e00f8be7279e"
   },
   "outputs": [
    {
     "name": "stdout",
     "output_type": "stream",
     "text": [
      "0.7856\n"
     ]
    },
    {
     "name": "stderr",
     "output_type": "stream",
     "text": [
      "/usr/local/lib/python3.6/dist-packages/sklearn/ensemble/forest.py:460: UserWarning: Some inputs do not have OOB scores. This probably means too few trees were used to compute any reliable oob estimates.\n",
      "  warn(\"Some inputs do not have OOB scores. \"\n",
      "/usr/local/lib/python3.6/dist-packages/sklearn/ensemble/forest.py:465: RuntimeWarning: invalid value encountered in true_divide\n",
      "  predictions[k].sum(axis=1)[:, np.newaxis])\n"
     ]
    }
   ],
   "source": [
    "rf = RandomForestClassifier(criterion='gini', \n",
    "                             n_estimators=10,\n",
    "                             min_samples_split=2,\n",
    "                             min_samples_leaf=1,\n",
    "                             max_features='auto',\n",
    "                             oob_score=True,\n",
    "                             random_state=1,\n",
    "                             n_jobs=-1)\n",
    "rf.fit(train.iloc[:, 1:], train.iloc[:, 0])\n",
    "print(\"%.4f\" % rf.oob_score_)"
   ]
  },
  {
   "cell_type": "code",
   "execution_count": 82,
   "metadata": {
    "colab": {
     "base_uri": "https://localhost:8080/",
     "height": 647
    },
    "colab_type": "code",
    "executionInfo": {
     "elapsed": 220523,
     "status": "ok",
     "timestamp": 1574773089323,
     "user": {
      "displayName": "吳韋成",
      "photoUrl": "",
      "userId": "04906925710104432369"
     },
     "user_tz": -480
    },
    "id": "-gJNePnlSKQw",
    "outputId": "66b57921-8291-475e-81e3-f64bc7e92e7a"
   },
   "outputs": [
    {
     "data": {
      "text/html": [
       "<div>\n",
       "<style scoped>\n",
       "    .dataframe tbody tr th:only-of-type {\n",
       "        vertical-align: middle;\n",
       "    }\n",
       "\n",
       "    .dataframe tbody tr th {\n",
       "        vertical-align: top;\n",
       "    }\n",
       "\n",
       "    .dataframe thead th {\n",
       "        text-align: right;\n",
       "    }\n",
       "</style>\n",
       "<table border=\"1\" class=\"dataframe\">\n",
       "  <thead>\n",
       "    <tr style=\"text-align: right;\">\n",
       "      <th></th>\n",
       "      <th>variable</th>\n",
       "      <th>importance</th>\n",
       "    </tr>\n",
       "  </thead>\n",
       "  <tbody>\n",
       "    <tr>\n",
       "      <th>2</th>\n",
       "      <td>Name_Len</td>\n",
       "      <td>0.140863</td>\n",
       "    </tr>\n",
       "    <tr>\n",
       "      <th>0</th>\n",
       "      <td>Age</td>\n",
       "      <td>0.131210</td>\n",
       "    </tr>\n",
       "    <tr>\n",
       "      <th>12</th>\n",
       "      <td>Sex_female</td>\n",
       "      <td>0.128734</td>\n",
       "    </tr>\n",
       "    <tr>\n",
       "      <th>1</th>\n",
       "      <td>Fare</td>\n",
       "      <td>0.097018</td>\n",
       "    </tr>\n",
       "    <tr>\n",
       "      <th>11</th>\n",
       "      <td>Sex_male</td>\n",
       "      <td>0.083497</td>\n",
       "    </tr>\n",
       "    <tr>\n",
       "      <th>8</th>\n",
       "      <td>Pclass_3</td>\n",
       "      <td>0.046345</td>\n",
       "    </tr>\n",
       "    <tr>\n",
       "      <th>33</th>\n",
       "      <td>Name_Title_Mr.</td>\n",
       "      <td>0.040105</td>\n",
       "    </tr>\n",
       "    <tr>\n",
       "      <th>7</th>\n",
       "      <td>Ticket_Len</td>\n",
       "      <td>0.032396</td>\n",
       "    </tr>\n",
       "    <tr>\n",
       "      <th>41</th>\n",
       "      <td>Fam_Size_Nuclear</td>\n",
       "      <td>0.022572</td>\n",
       "    </tr>\n",
       "    <tr>\n",
       "      <th>34</th>\n",
       "      <td>Name_Title_Mrs.</td>\n",
       "      <td>0.022496</td>\n",
       "    </tr>\n",
       "    <tr>\n",
       "      <th>43</th>\n",
       "      <td>Fam_Size_Big</td>\n",
       "      <td>0.022476</td>\n",
       "    </tr>\n",
       "    <tr>\n",
       "      <th>25</th>\n",
       "      <td>Cabin_Letter_n</td>\n",
       "      <td>0.021924</td>\n",
       "    </tr>\n",
       "    <tr>\n",
       "      <th>35</th>\n",
       "      <td>Name_Title_Miss.</td>\n",
       "      <td>0.020259</td>\n",
       "    </tr>\n",
       "    <tr>\n",
       "      <th>13</th>\n",
       "      <td>Embarked_S</td>\n",
       "      <td>0.016629</td>\n",
       "    </tr>\n",
       "    <tr>\n",
       "      <th>3</th>\n",
       "      <td>Age_Null_Flag</td>\n",
       "      <td>0.015851</td>\n",
       "    </tr>\n",
       "    <tr>\n",
       "      <th>20</th>\n",
       "      <td>Ticket_Lett_3</td>\n",
       "      <td>0.014009</td>\n",
       "    </tr>\n",
       "    <tr>\n",
       "      <th>42</th>\n",
       "      <td>Fam_Size_Solo</td>\n",
       "      <td>0.012258</td>\n",
       "    </tr>\n",
       "    <tr>\n",
       "      <th>9</th>\n",
       "      <td>Pclass_1</td>\n",
       "      <td>0.011665</td>\n",
       "    </tr>\n",
       "    <tr>\n",
       "      <th>19</th>\n",
       "      <td>Ticket_Lett_1</td>\n",
       "      <td>0.009662</td>\n",
       "    </tr>\n",
       "    <tr>\n",
       "      <th>36</th>\n",
       "      <td>Name_Title_Master.</td>\n",
       "      <td>0.009438</td>\n",
       "    </tr>\n",
       "  </tbody>\n",
       "</table>\n",
       "</div>"
      ],
      "text/plain": [
       "              variable  importance\n",
       "2             Name_Len    0.140863\n",
       "0                  Age    0.131210\n",
       "12          Sex_female    0.128734\n",
       "1                 Fare    0.097018\n",
       "11            Sex_male    0.083497\n",
       "8             Pclass_3    0.046345\n",
       "33      Name_Title_Mr.    0.040105\n",
       "7           Ticket_Len    0.032396\n",
       "41    Fam_Size_Nuclear    0.022572\n",
       "34     Name_Title_Mrs.    0.022496\n",
       "43        Fam_Size_Big    0.022476\n",
       "25      Cabin_Letter_n    0.021924\n",
       "35    Name_Title_Miss.    0.020259\n",
       "13          Embarked_S    0.016629\n",
       "3        Age_Null_Flag    0.015851\n",
       "20       Ticket_Lett_3    0.014009\n",
       "42       Fam_Size_Solo    0.012258\n",
       "9             Pclass_1    0.011665\n",
       "19       Ticket_Lett_1    0.009662\n",
       "36  Name_Title_Master.    0.009438"
      ]
     },
     "execution_count": 82,
     "metadata": {
      "tags": []
     },
     "output_type": "execute_result"
    }
   ],
   "source": [
    "pd.concat((pd.DataFrame(train.iloc[:, 1:].columns, columns = ['variable']), \n",
    "           pd.DataFrame(rf.feature_importances_, columns = ['importance'])), \n",
    "          axis = 1).sort_values(by='importance', ascending = False)[:20]"
   ]
  },
  {
   "cell_type": "code",
   "execution_count": null,
   "metadata": {
    "colab": {},
    "colab_type": "code",
    "id": "5OKO1vFZSMVM"
   },
   "outputs": [],
   "source": [
    "predictions = rf.predict(test)\n",
    "predictions = pd.DataFrame(predictions, columns=['Survived'])\n",
    "test = pd.read_csv('/content/drive/My Drive/colab/titanic/test.csv')\n",
    "predictions = pd.concat((test.iloc[:, 0], predictions), axis = 1)\n",
    "predictions.to_csv('/content/drive/My Drive/colab/titanic/y_test15.csv', sep=\",\", index = False)"
   ]
  },
  {
   "cell_type": "code",
   "execution_count": null,
   "metadata": {
    "colab": {},
    "colab_type": "code",
    "id": "vL_fGbSbSNv5"
   },
   "outputs": [],
   "source": [
    "predictions_csv = pd.read_csv('/content/drive/My Drive/colab/titanic/y_test15.csv')"
   ]
  },
  {
   "cell_type": "code",
   "execution_count": 85,
   "metadata": {
    "colab": {
     "base_uri": "https://localhost:8080/",
     "height": 347
    },
    "colab_type": "code",
    "executionInfo": {
     "elapsed": 220941,
     "status": "ok",
     "timestamp": 1574773089775,
     "user": {
      "displayName": "吳韋成",
      "photoUrl": "",
      "userId": "04906925710104432369"
     },
     "user_tz": -480
    },
    "id": "z8xGC2nkTMx7",
    "outputId": "6a5a2de0-062f-4d3a-c6ce-fff07f4de357"
   },
   "outputs": [
    {
     "data": {
      "text/html": [
       "<div>\n",
       "<style scoped>\n",
       "    .dataframe tbody tr th:only-of-type {\n",
       "        vertical-align: middle;\n",
       "    }\n",
       "\n",
       "    .dataframe tbody tr th {\n",
       "        vertical-align: top;\n",
       "    }\n",
       "\n",
       "    .dataframe thead th {\n",
       "        text-align: right;\n",
       "    }\n",
       "</style>\n",
       "<table border=\"1\" class=\"dataframe\">\n",
       "  <thead>\n",
       "    <tr style=\"text-align: right;\">\n",
       "      <th></th>\n",
       "      <th>PassengerId</th>\n",
       "      <th>Survived</th>\n",
       "    </tr>\n",
       "  </thead>\n",
       "  <tbody>\n",
       "    <tr>\n",
       "      <th>0</th>\n",
       "      <td>892</td>\n",
       "      <td>0</td>\n",
       "    </tr>\n",
       "    <tr>\n",
       "      <th>1</th>\n",
       "      <td>893</td>\n",
       "      <td>0</td>\n",
       "    </tr>\n",
       "    <tr>\n",
       "      <th>2</th>\n",
       "      <td>894</td>\n",
       "      <td>0</td>\n",
       "    </tr>\n",
       "    <tr>\n",
       "      <th>3</th>\n",
       "      <td>895</td>\n",
       "      <td>0</td>\n",
       "    </tr>\n",
       "    <tr>\n",
       "      <th>4</th>\n",
       "      <td>896</td>\n",
       "      <td>1</td>\n",
       "    </tr>\n",
       "    <tr>\n",
       "      <th>5</th>\n",
       "      <td>897</td>\n",
       "      <td>0</td>\n",
       "    </tr>\n",
       "    <tr>\n",
       "      <th>6</th>\n",
       "      <td>898</td>\n",
       "      <td>0</td>\n",
       "    </tr>\n",
       "    <tr>\n",
       "      <th>7</th>\n",
       "      <td>899</td>\n",
       "      <td>1</td>\n",
       "    </tr>\n",
       "    <tr>\n",
       "      <th>8</th>\n",
       "      <td>900</td>\n",
       "      <td>1</td>\n",
       "    </tr>\n",
       "    <tr>\n",
       "      <th>9</th>\n",
       "      <td>901</td>\n",
       "      <td>0</td>\n",
       "    </tr>\n",
       "  </tbody>\n",
       "</table>\n",
       "</div>"
      ],
      "text/plain": [
       "   PassengerId  Survived\n",
       "0          892         0\n",
       "1          893         0\n",
       "2          894         0\n",
       "3          895         0\n",
       "4          896         1\n",
       "5          897         0\n",
       "6          898         0\n",
       "7          899         1\n",
       "8          900         1\n",
       "9          901         0"
      ]
     },
     "execution_count": 85,
     "metadata": {
      "tags": []
     },
     "output_type": "execute_result"
    }
   ],
   "source": [
    "predictions_csv.head(10)"
   ]
  },
  {
   "cell_type": "code",
   "execution_count": null,
   "metadata": {
    "colab": {},
    "colab_type": "code",
    "id": "gxYEAm2aTOnN"
   },
   "outputs": [],
   "source": []
  }
 ],
 "metadata": {
  "colab": {
   "collapsed_sections": [
    "g00pnZn80izs",
    "Xxa0-jO70qcr",
    "wHIXumn0PwpC",
    "zmQQ6-vdQA-a",
    "OOZZUg-NQIL_",
    "ntMUdi5nQe8_",
    "ykryML-_Qo-_",
    "MCtYVZPRRVL9",
    "_DD7A7KVRgpI"
   ],
   "name": "AAI_HW5.ipynb",
   "provenance": []
  },
  "kernelspec": {
   "display_name": "Python 3",
   "language": "python",
   "name": "python3"
  },
  "language_info": {
   "codemirror_mode": {
    "name": "ipython",
    "version": 3
   },
   "file_extension": ".py",
   "mimetype": "text/x-python",
   "name": "python",
   "nbconvert_exporter": "python",
   "pygments_lexer": "ipython3",
   "version": "3.7.3"
  }
 },
 "nbformat": 4,
 "nbformat_minor": 4
}

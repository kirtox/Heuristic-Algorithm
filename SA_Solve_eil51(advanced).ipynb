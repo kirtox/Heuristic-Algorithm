{
 "cells": [
  {
   "cell_type": "markdown",
   "metadata": {},
   "source": [
    "# Simulate Annealing for TSP problem"
   ]
  },
  {
   "cell_type": "markdown",
   "metadata": {},
   "source": [
    "## Algorithm\n",
    "\n",
    "<left><img src=\"https://www.researchgate.net/profile/Mohamad_Ivan_Fanany/publication/288496956/figure/fig1/AS:614317309296655@1523476068780/Pseudo-code-for-Simulated-Annealing-algorithm.png\" />\n",
    "\n",
    "<left><img src=\"https://ars.els-cdn.com/content/image/3-s2.0-B9780128150108000028-f02-14-9780128150108.jpg?_\" />\n",
    "    "
   ]
  },
  {
   "cell_type": "markdown",
   "metadata": {},
   "source": [
    "# Step 0: utility function"
   ]
  },
  {
   "cell_type": "code",
   "execution_count": 1,
   "metadata": {},
   "outputs": [],
   "source": [
    "%matplotlib inline\n",
    "import sys\n",
    "import math\n",
    "import random\n",
    "import matplotlib.pyplot as plt\n",
    "import numpy as np\n",
    "import itertools\n",
    "import random\n",
    "\n",
    "# 1 readfile utility function\n",
    "def readfile(filename):\n",
    "    with open(filename) as f:\n",
    "        r = f.read()\n",
    "        read_line = r.split('\\n')   \n",
    "        dic={}\n",
    "        for i in range(len(read_line)):         \n",
    "            read_element = read_line[i].split()\n",
    "            dic[int(read_element[0])] = [int(read_element[1])]\n",
    "            dic[int(read_element[0])].append(int(read_element[2]))\n",
    "        f.close()\n",
    "        return dic\n",
    "\n",
    "# 2 initize a new sequence\n",
    "def init(numCities): ## generate init city sequence\n",
    "    seq = []\n",
    "    while len(seq) < numCities:\n",
    "        temp = random.randint(1,numCities)\n",
    "        if temp not in seq:\n",
    "            seq.append(temp)\n",
    "    \n",
    "    return seq\n",
    "\n",
    "# 3 Compute distance given two cities (given d=(dx,dy) for two cities)\n",
    "def distance(d):\n",
    "    return math.sqrt(d[0]*d[0]+d[1]*d[1])\n",
    "\n",
    "# 4 compute all distance of a sequence\n",
    "def totalDistance(seq,dic):\n",
    "    dist = 0\n",
    "    for i in range(len(seq)):\n",
    "        dx = dic[seq[i]][0] - dic[seq[(i+1)%51]][0]\n",
    "        dy = dic[seq[i]][1] - dic[seq[(i+1)%51]][1]\n",
    "        d = [dx,dy]\n",
    "        dist += distance(d)\n",
    "    return dist\n",
    "\n",
    "# 5 get two cities to swap\n",
    "def ran2num(maxsize):\n",
    "    num = []\n",
    "    num.append(random.randint(1,maxsize))\n",
    "    num.append(random.randint(1,maxsize))\n",
    "    return num\n",
    "\n",
    "# 6 generate a neightbor using ran2num function\n",
    "def transform(seq):\n",
    "    new = seq[:]\n",
    "    index = ran2num(len(seq))\n",
    "    t = new[index[0]-1]\n",
    "    new[index[0]-1] = new[index[1]-1]\n",
    "    new[index[1]-1] = t\n",
    "    \n",
    "    return new\n",
    "\n",
    "# 7 determine new neighbors or old is better\n",
    "def determineSA(neighbors,seq_current,dic,temperature,seq_best):\n",
    "    index = random.randint(0,len(neighbors)-1)\n",
    "    value = totalDistance(neighbors[index],dic) - totalDistance(seq_current,dic)\n",
    "    #print('chosen neighbor distance',evalu(neighbor[index],dic))\n",
    "    if value <= 0:\n",
    "        seq_current = neighbors[index] # local center move to there\n",
    "        seq_best = seq_current[:]\n",
    "        #print('changed !',evalu(seq_current,dic))\n",
    "    else:\n",
    "        r = random.random()\n",
    "        if math.exp((-10)*value/temperature) >= r:\n",
    "            seq_current = neighbors[index]\n",
    "            \n",
    "    return seq_current,seq_best\n",
    "\n",
    "# 8 generate list of neighbors\n",
    "def neighbor_f(seq,num_neighbor):\n",
    "    neighbors = []\n",
    "    n = num_neighbor # neighbors\n",
    "    \n",
    "\n",
    "    for i in range(n):\n",
    "        min_seq = []\n",
    "        min_seq = seq[:]\n",
    "        minVal = 0\n",
    "        temp_min_seq = []\n",
    "        temp_minVal = 0\n",
    "        i = 0\n",
    "        \n",
    "        if seq not in neighbors:\n",
    "            seq_C32 = SwapC32(seq,CombinationC32(min_seq)) # for combination\n",
    "            for seq_j in seq_C32:\n",
    "                if i==0:\n",
    "                    #min_seq = seq_j[:]\n",
    "                    #minVal = totalDistance(min_seq,dic)\n",
    "                    min_seq, minVal= determineC32(seq_j,min_seq,dic)\n",
    "\n",
    "                temp_min_seq,temp_minVal = determineC32(seq_j,min_seq,dic)\n",
    "            \n",
    "                if minVal > temp_minVal:\n",
    "                    min_seq = temp_min_seq\n",
    "                    #minVal = temp_minVal\n",
    "                i = i+1\n",
    "            neighbors.append(min_seq)\n",
    "            \n",
    "    return neighbors\n",
    "\n",
    "# 9 used in HC_Solve_TSP(advanced) in order to generate 3 random numbers\n",
    "def ran3num(domain): # generate three numbers  that in range to  swap  (ex: if answer is [4, 1, 5] means city 4 and city 1 , city 5 seq. order swap)\n",
    "    num = []\n",
    "    ok_flag1=0\n",
    "    ok_flag2=0\n",
    "    First = random.randint(1,domain)\n",
    "    num.append(First)\n",
    "    Second = random.randint(1,domain)\n",
    "    Third = random.randint(1,domain)\n",
    "    while(ok_flag1==0):\n",
    "        if Second in num:\n",
    "            Second=random.randint(1,domain)\n",
    "        else:\n",
    "            num.append(Second)\n",
    "            ok_flag1=1\n",
    "    while(ok_flag2==0):\n",
    "        if Third in num:\n",
    "            Third=random.randint(1,domain)\n",
    "        else:\n",
    "            num.append(Third)\n",
    "            ok_flag2=1\n",
    "    return num\n",
    "\n",
    "# 10 used in HC_Solve_TSP(advanced) in order to generate the coordinate in list_origin\n",
    "def CombinationC32(list_origin):\n",
    "    list_ran3num = ran3num(51)\n",
    "    list_ran3num.sort()\n",
    "    list_ran3 = list_ran3num\n",
    "    #print('list_ran3: ',list_ran3)\n",
    "    \n",
    "    CombinListb = list(itertools.combinations(list_ran3,2))\n",
    "    #print('CombinListb: ',CombinListb,'\\n')\n",
    "    \n",
    "    list_cor = []\n",
    "    for x in CombinListb:\n",
    "        list_tmp = []\n",
    "        for y in list_ran3:\n",
    "            #print(x,\" \",y)\n",
    "            if y in x:\n",
    "                #print(y in x)\n",
    "                #print(list_origin.index(y))\n",
    "                list_tmp.append(list_origin.index(y))\n",
    "        list_cor.append(list_tmp)\n",
    "    \n",
    "    return list_cor\n",
    "\n",
    "# 11 used in HC_Solve_TSP(advanced) in order to swap the number in list_input by using list_coor as index\n",
    "def SwapC32(list_input,list_cor):\n",
    "    list_swapped = []\n",
    "    for x in list_cor:\n",
    "        #print(x)\n",
    "        list_copy = list_input[:]\n",
    "        temp = list_copy[x[0]]\n",
    "        list_copy[x[0]] = list_input[x[1]]\n",
    "        list_copy[x[1]] = temp\n",
    "        #print(list_copy)\n",
    "        \n",
    "        list_swapped.append(list_copy)\n",
    "    return list_swapped\n",
    "\n",
    "# 12 \n",
    "def determineC32(temp,min_seq,dic):\n",
    "    if totalDistance(temp,dic) < totalDistance(min_seq,dic):\n",
    "        min_seq = temp[:]\n",
    "        #print(min_seq, totalDistance(min_seq,dic))\n",
    "  \n",
    "    return min_seq,totalDistance(min_seq,dic)"
   ]
  },
  {
   "cell_type": "code",
   "execution_count": 2,
   "metadata": {},
   "outputs": [],
   "source": [
    "def get_average(list):\n",
    "    sum = 0\n",
    "    for item in list:\n",
    "        sum += item\n",
    "    return sum/len(list)\n",
    "\n",
    "def get_stddev(list):\n",
    "    average = get_average(list)\n",
    "    sdsq = sum([(i - average) ** 2 for i in list])\n",
    "    stdev = (sdsq / (len(list) - 1)) ** .5\n",
    "    return stdev\n"
   ]
  },
  {
   "cell_type": "markdown",
   "metadata": {},
   "source": [
    "# Step 1: Read eil51.txt (load cities)"
   ]
  },
  {
   "cell_type": "code",
   "execution_count": 3,
   "metadata": {},
   "outputs": [
    {
     "name": "stdout",
     "output_type": "stream",
     "text": [
      "{1: [37, 52], 2: [49, 49], 3: [52, 64], 4: [20, 26], 5: [40, 30], 6: [21, 47], 7: [17, 63], 8: [31, 62], 9: [52, 33], 10: [51, 21], 11: [42, 41], 12: [31, 32], 13: [5, 25], 14: [12, 42], 15: [36, 16], 16: [52, 41], 17: [27, 23], 18: [17, 33], 19: [13, 13], 20: [57, 58], 21: [62, 42], 22: [42, 57], 23: [16, 57], 24: [8, 52], 25: [7, 38], 26: [27, 68], 27: [30, 48], 28: [43, 67], 29: [58, 48], 30: [58, 27], 31: [37, 69], 32: [38, 46], 33: [46, 10], 34: [61, 33], 35: [62, 63], 36: [63, 69], 37: [32, 22], 38: [45, 35], 39: [59, 15], 40: [5, 6], 41: [10, 17], 42: [21, 10], 43: [5, 64], 44: [30, 15], 45: [39, 10], 46: [32, 39], 47: [25, 32], 48: [25, 55], 49: [48, 28], 50: [56, 37], 51: [30, 40]}\n"
     ]
    }
   ],
   "source": [
    "filename='eil51.txt'\n",
    "dic = readfile(filename)\n",
    "print(dic)"
   ]
  },
  {
   "cell_type": "markdown",
   "metadata": {},
   "source": [
    "# Step 2: Random a new sequence"
   ]
  },
  {
   "cell_type": "code",
   "execution_count": 4,
   "metadata": {},
   "outputs": [
    {
     "name": "stdout",
     "output_type": "stream",
     "text": [
      "[6, 51, 23, 36, 1, 49, 41, 47, 46, 30, 38, 39, 21, 31, 15, 8, 27, 20, 28, 11, 5, 44, 4, 35, 45, 13, 43, 24, 19, 42, 17, 22, 7, 3, 50, 18, 48, 40, 33, 12, 37, 16, 14, 34, 32, 25, 10, 29, 9, 26, 2]\n",
      "seq_current:  [6, 51, 23, 36, 1, 49, 41, 47, 46, 30, 38, 39, 21, 31, 15, 8, 27, 20, 28, 11, 5, 44, 4, 35, 45, 13, 43, 24, 19, 42, 17, 22, 7, 3, 50, 18, 48, 40, 33, 12, 37, 16, 14, 34, 32, 25, 10, 29, 9, 26, 2]\n"
     ]
    }
   ],
   "source": [
    "seq = init(51) # a list for 51 cities\n",
    "print(seq)\n",
    "\n",
    "seq_current = seq\n",
    "seq_best = seq\n",
    "\n",
    "print('seq_current: ',seq_current)"
   ]
  },
  {
   "cell_type": "markdown",
   "metadata": {},
   "source": [
    "# Step 3: calculate total distance of a given city sequence"
   ]
  },
  {
   "cell_type": "code",
   "execution_count": 5,
   "metadata": {},
   "outputs": [
    {
     "name": "stdout",
     "output_type": "stream",
     "text": [
      "total_distance:  1521.466439149182\n"
     ]
    }
   ],
   "source": [
    "total_distance = totalDistance(seq,dic)\n",
    "print('total_distance: ',total_distance)"
   ]
  },
  {
   "cell_type": "markdown",
   "metadata": {},
   "source": [
    "# Step 4: get (all) or n samples new neighbors[]"
   ]
  },
  {
   "cell_type": "code",
   "execution_count": 6,
   "metadata": {},
   "outputs": [
    {
     "name": "stdout",
     "output_type": "stream",
     "text": [
      "[[6, 51, 23, 36, 1, 49, 41, 47, 46, 30, 38, 39, 7, 31, 15, 8, 27, 20, 28, 11, 5, 44, 4, 35, 45, 13, 43, 24, 19, 42, 17, 22, 21, 3, 50, 18, 48, 40, 33, 12, 37, 16, 14, 34, 32, 25, 10, 29, 9, 26, 2], [6, 51, 23, 36, 1, 49, 41, 47, 46, 30, 38, 39, 21, 31, 15, 8, 27, 20, 28, 11, 5, 44, 4, 35, 45, 13, 43, 24, 19, 42, 17, 22, 7, 3, 50, 18, 48, 40, 33, 12, 37, 16, 14, 34, 2, 25, 10, 29, 9, 26, 32], [6, 51, 23, 36, 1, 49, 41, 47, 46, 30, 38, 39, 4, 31, 15, 8, 27, 20, 28, 11, 5, 44, 21, 35, 45, 13, 43, 24, 19, 42, 17, 22, 7, 3, 50, 18, 48, 40, 33, 12, 37, 16, 14, 34, 32, 25, 10, 29, 9, 26, 2], [6, 51, 23, 36, 1, 49, 41, 47, 46, 30, 38, 39, 21, 31, 15, 8, 27, 20, 28, 11, 5, 44, 4, 35, 45, 13, 43, 24, 19, 42, 17, 22, 7, 3, 50, 14, 48, 40, 33, 12, 37, 16, 18, 34, 32, 25, 10, 29, 9, 26, 2], [6, 51, 23, 36, 1, 49, 41, 47, 46, 30, 38, 39, 21, 31, 15, 8, 27, 20, 28, 11, 5, 43, 4, 35, 45, 13, 44, 24, 19, 42, 17, 22, 7, 3, 50, 18, 48, 40, 33, 12, 37, 16, 14, 34, 32, 25, 10, 29, 9, 26, 2], [6, 51, 23, 36, 1, 49, 41, 47, 46, 30, 38, 39, 21, 31, 15, 8, 28, 20, 27, 11, 5, 44, 4, 35, 45, 13, 43, 24, 19, 42, 17, 22, 7, 3, 50, 18, 48, 40, 33, 12, 37, 16, 14, 34, 32, 25, 10, 29, 9, 26, 2], [6, 51, 23, 36, 1, 49, 41, 47, 46, 30, 38, 39, 13, 31, 15, 8, 27, 20, 28, 11, 5, 44, 4, 35, 45, 21, 43, 24, 19, 42, 17, 22, 7, 3, 50, 18, 48, 40, 33, 12, 37, 16, 14, 34, 32, 25, 10, 29, 9, 26, 2], [6, 51, 23, 36, 1, 49, 41, 47, 46, 30, 38, 39, 21, 31, 15, 8, 27, 20, 28, 13, 5, 44, 4, 35, 45, 11, 43, 24, 19, 42, 17, 22, 7, 3, 50, 18, 48, 40, 33, 12, 37, 16, 14, 34, 32, 25, 10, 29, 9, 26, 2], [6, 51, 23, 36, 1, 49, 41, 47, 46, 30, 38, 39, 21, 31, 15, 8, 27, 20, 28, 11, 5, 44, 4, 35, 45, 13, 3, 24, 19, 42, 17, 22, 7, 43, 50, 18, 48, 40, 33, 12, 37, 16, 14, 34, 32, 25, 10, 29, 9, 26, 2], [6, 51, 23, 36, 1, 49, 41, 47, 46, 30, 38, 39, 21, 31, 15, 8, 27, 20, 28, 11, 5, 44, 4, 35, 45, 13, 43, 24, 19, 42, 17, 22, 7, 3, 50, 18, 10, 40, 33, 12, 37, 16, 14, 34, 32, 25, 48, 29, 9, 26, 2]]\n",
      "10\n"
     ]
    }
   ],
   "source": [
    "neighbors = []\n",
    "n = 10 # neighbors\n",
    "for i in range(n):\n",
    "    if seq not in neighbors:\n",
    "        neighbors.append(transform(seq))\n",
    "print(neighbors)\n",
    "print(len(neighbors))"
   ]
  },
  {
   "cell_type": "markdown",
   "metadata": {},
   "source": [
    "# Step 5: compare whether the new neighbor or the old is better?"
   ]
  },
  {
   "cell_type": "code",
   "execution_count": 7,
   "metadata": {},
   "outputs": [
    {
     "data": {
      "text/plain": [
       "\"\\nf_current = totalDistance(seq,dic)\\nprint('f_current: ',f_current)\\n\\nf_neighbors=[]\\nsignals=[]\\n\\nfor i in range(n):\\n    f_neighbors.append(totalDistance(neighbors[i],dic))\\n    signals.append(f_neighbors[i] > f_current)\\n    \\nprint('f_neighbors: ',f_neighbors)\\nprint(signals)\\n\""
      ]
     },
     "execution_count": 7,
     "metadata": {},
     "output_type": "execute_result"
    }
   ],
   "source": [
    "\"\"\"\n",
    "f_current = totalDistance(seq,dic)\n",
    "print('f_current: ',f_current)\n",
    "\n",
    "f_neighbors=[]\n",
    "signals=[]\n",
    "\n",
    "for i in range(n):\n",
    "    f_neighbors.append(totalDistance(neighbors[i],dic))\n",
    "    signals.append(f_neighbors[i] > f_current)\n",
    "    \n",
    "print('f_neighbors: ',f_neighbors)\n",
    "print(signals)\n",
    "\"\"\""
   ]
  },
  {
   "cell_type": "code",
   "execution_count": 8,
   "metadata": {},
   "outputs": [
    {
     "name": "stdout",
     "output_type": "stream",
     "text": [
      "total iterations=  10\n",
      "iteration=  0 ------>\n",
      "seq_best evaluation= 522.5515055841616\n",
      "iteration=  1 ------>\n",
      "seq_best evaluation= 595.7486022012023\n",
      "iteration=  2 ------>\n",
      "seq_best evaluation= 549.8377902666022\n",
      "iteration=  3 ------>\n",
      "seq_best evaluation= 595.3936641378034\n",
      "iteration=  4 ------>\n",
      "seq_best evaluation= 640.4397832381163\n",
      "iteration=  5 ------>\n",
      "seq_best evaluation= 491.77510046475476\n",
      "iteration=  6 ------>\n",
      "seq_best evaluation= 520.9784614299128\n",
      "iteration=  7 ------>\n",
      "seq_best evaluation= 584.1526044249309\n",
      "iteration=  8 ------>\n",
      "seq_best evaluation= 498.12998879528055\n",
      "iteration=  9 ------>\n",
      "seq_best evaluation= 639.6153840491294\n",
      "           average: 563.8622884591896\n",
      "Standard deciation: 55.06046536948076\n",
      "The Best Seq_value: 491.77510046475476\n"
     ]
    },
    {
     "data": {
      "text/plain": [
       "Text(0, 0.5, 'Distance')"
      ]
     },
     "execution_count": 8,
     "metadata": {},
     "output_type": "execute_result"
    },
    {
     "data": {
      "image/png": "[encoded data removed]",
      "text/plain": [
       "<Figure size 432x288 with 1 Axes>"
      ]
     },
     "metadata": {
      "needs_background": "light"
     },
     "output_type": "display_data"
    }
   ],
   "source": [
    "# make a history list #####\n",
    "history = []\n",
    "the_best_seq = 0\n",
    "\n",
    "\n",
    "# do iteration-n times #########\n",
    "iteration = 10\n",
    "print(\"total iterations= \",iteration)\n",
    "for i in range(iteration):\n",
    "\n",
    "    print('iteration= ',i,'------>')\n",
    "    seq_current = init(51)\n",
    "    neighbor = []\n",
    "    \n",
    "    #temp will drop from t_max=100 to t_min=10\n",
    "    count = 0\n",
    "    t_max = 100 # temperature max in SA\n",
    "    t_min = 10\n",
    "    seq_best = []\n",
    "    \n",
    "    while t_max > t_min:\n",
    "        #print('t_max=',t_max,' perform local search for 10 neighbors===')\n",
    "        best_value = totalDistance(seq_best,dic)\n",
    "        #neighbors = neighbor_f(seq_current,10)\n",
    "        neighbors = neighbor_f(seq_current,10)\n",
    "        #print('current seq distance',evalu(seq_current,dic))\n",
    "        (seq_current,seq_best) = determineSA(neighbors,seq_current,dic,t_max,seq_best)\n",
    "        \n",
    "        ### 降溫機制: #########################################\n",
    "        if totalDistance(seq_current,dic) >= best_value:\n",
    "            count += 1\n",
    "        else:\n",
    "            count = 0\n",
    "            #print(best_value)\n",
    "        if count == 10:\n",
    "            t_max *= 0.999\n",
    "            count = 0\n",
    "            #print(t_max)\n",
    "        #if time.time() > t1+50:\n",
    "        #    break\n",
    "        ##############################################\n",
    "    #Output each iteration\n",
    "    #print('current seq distance', evalu(seq_current,dic))\n",
    "    #print('seq_current',seq_current)\n",
    "    #print('seq_current evaluation=',evalu(seq_current,dic))\n",
    "    print('seq_best evaluation=',totalDistance(seq_best,dic))\n",
    "    \n",
    "    history.append(totalDistance(seq_current,dic))\n",
    "    if i == 0:\n",
    "        the_best_seq = totalDistance(seq_best,dic)\n",
    "    else:\n",
    "        if the_best_seq > totalDistance(seq_best,dic):\n",
    "            the_best_seq = totalDistance(seq_best,dic)\n",
    "#output for final result\n",
    "\n",
    "print('           average:',get_average(history))\n",
    "print('Standard deciation:',get_stddev(history))\n",
    "print('The Best Seq_value:',the_best_seq)\n",
    "\n",
    "y = history\n",
    "\n",
    "plt.plot(y,color=\"blue\")\n",
    "plt.xlabel(\"Iteration times\")\n",
    "plt.ylabel(\"Distance\")"
   ]
  }
 ],
 "metadata": {
  "kernelspec": {
   "display_name": "Python 3",
   "language": "python",
   "name": "python3"
  },
  "language_info": {
   "codemirror_mode": {
    "name": "ipython",
    "version": 3
   },
   "file_extension": ".py",
   "mimetype": "text/x-python",
   "name": "python",
   "nbconvert_exporter": "python",
   "pygments_lexer": "ipython3",
   "version": "3.7.3"
  }
 },
 "nbformat": 4,
 "nbformat_minor": 4
}

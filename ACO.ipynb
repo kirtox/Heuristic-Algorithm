{
 "cells": [
  {
   "cell_type": "markdown",
   "metadata": {},
   "source": [
    "# Ant Colony Optimization algorithm (ACO)\n",
    "\n",
    "<h4>ACO</h4>\n",
    "<img src=\"https://image.slidesharecdn.com/antcolonyoptimization-120221190648-phpapp02/95/ant-colony-optimization-7-728.jpg?cb=1329853247\">\n",
    "\n",
    "<h4>ACO pseudocode</h4>\n",
    "<img src=\"https://www.researchgate.net/profile/D_Nagesh_Kumar/publication/28600558/figure/fig1/AS:309983502716949@1450917234786/Pseudo-code-for-the-Ant-Colony-System-ACS-algorithm.png\">\n"
   ]
  },
  {
   "cell_type": "code",
   "execution_count": 1,
   "metadata": {},
   "outputs": [],
   "source": [
    "## 載入Library\n",
    "import pandas as pd\n",
    "import numpy as np\n",
    "import sys\n",
    "import time\n"
   ]
  },
  {
   "cell_type": "code",
   "execution_count": 2,
   "metadata": {},
   "outputs": [],
   "source": [
    "'''ACO parameter'''\n",
    "#資料集名稱\n",
    "dataset_name = 'dataset/iris.data'\n",
    "hasAns = True\n",
    "#分群數\n",
    "cluster_num = 3\n",
    "#螞蟻數量\n",
    "ants_num = 20\n",
    "#學習參數 α\n",
    "alpha = 1.0\n",
    "#學習參數 β\n",
    "beta = 2\n",
    "#揮發係數 ρ\n",
    "rho = 0.02\n",
    "#最小費洛值/起始費洛蒙\n",
    "minPheromones = 0.000167\n",
    "#回合數\n",
    "run_num = 1\n",
    "#迭代數\n",
    "iteration_num = 30\n",
    "\n",
    "\n",
    "'''資料集分析'''\n",
    "#讀取資料集\n",
    "dataset = pd.read_csv(dataset_name , header=None)\n",
    "### Note dataset[col][row]\n",
    "#資料集資料筆數\n",
    "instance_num= dataset.shape[0]\n",
    "#資料維度\n",
    "if hasAns:\n",
    "    dim_num = dataset.shape[1] - 1\n",
    "else:\n",
    "    dim_num = dataset.shape[1]\n",
    "#解\n",
    "#ants_pass =pd.DataFrame()\n",
    "ants_pass=np.array([])\n",
    "#解的形心\n",
    "ants_centroid=np.array([])\n",
    "#解的資訊\n",
    "ants_detail=np.array([])\n",
    "'''計算輔助'''\n",
    "#費洛蒙表 pheromones_table[Instance][Cluster]\n",
    "pheromones_table = np.full((instance_num,cluster_num),minPheromones)\n",
    "#transferProbability = np.zeros((cluster_num,3))\n",
    "\n",
    "'''Output'''\n",
    "BestSol = pd.DataFrame()\n",
    "BestSSE = sys.float_info.max\n",
    "\n",
    "Output_SSE=np.zeros((run_num,iteration_num))\n",
    "\n"
   ]
  },
  {
   "cell_type": "code",
   "execution_count": 3,
   "metadata": {},
   "outputs": [],
   "source": [
    "def rollDice():\n",
    "    return np.random.ranf()"
   ]
  },
  {
   "cell_type": "code",
   "execution_count": 4,
   "metadata": {},
   "outputs": [],
   "source": [
    "def getCentroid(indicate):\n",
    "    solution = ants_pass[indicate]\n",
    "    centroid = pd.DataFrame(0.0,index=range(cluster_num),columns=range(dim_num))\n",
    "    centroid_point_num = pd.DataFrame(0,index=['num'],columns=range(cluster_num))\n",
    "    ### Note centroid[dim][cluster]\n",
    "    \n",
    "    counts=0\n",
    "    for x in solution:\n",
    "        centroid_point_num[x]['num'] +=1\n",
    "        for y in range(dim_num):\n",
    "            centroid[y][x] += dataset[y][counts]\n",
    "        counts+=1\n",
    "    \n",
    "    for x in range(cluster_num):\n",
    "        for y in range(dim_num):\n",
    "            centroid[y][x] /= centroid_point_num[x]['num']\n",
    "    \n",
    "    return centroid.values"
   ]
  },
  {
   "cell_type": "code",
   "execution_count": 5,
   "metadata": {},
   "outputs": [],
   "source": [
    "## getALLCentroid\n",
    "def getALLCentroid():\n",
    "    res = getCentroid(0)\n",
    "    for x in range(1,ants_num):\n",
    "        temp=getCentroid(x)\n",
    "        #res = pd.concat([res,temp],axis=1,ignore_index=True)\n",
    "        res=np.append(res, temp, axis=0)\n",
    "    res=res.reshape(ants_num,cluster_num,dim_num)\n",
    "    return res"
   ]
  },
  {
   "cell_type": "code",
   "execution_count": 6,
   "metadata": {},
   "outputs": [],
   "source": [
    "## getDistance\n",
    "def getDistance(indicate):\n",
    "    solution = ants_pass[indicate]\n",
    "    centroid = ants_centroid[indicate]\n",
    "    count=0\n",
    "    distance = 0.0\n",
    "    for x in solution:\n",
    "        temp=0.0\n",
    "        for y in range(dim_num):\n",
    "            temp += pow(dataset[y][count]-centroid[x][y],2)\n",
    "        distance += pow(temp,0.5)\n",
    "        count +=1\n",
    "    return distance"
   ]
  },
  {
   "cell_type": "code",
   "execution_count": 7,
   "metadata": {},
   "outputs": [],
   "source": [
    "## getSSE\n",
    "def getSSE(indicate):\n",
    "    solution = ants_pass[indicate]\n",
    "    centroid = ants_centroid[indicate]\n",
    "    count=0\n",
    "    SSE = 0.0\n",
    "    for x in solution:\n",
    "        for y in range(dim_num):\n",
    "            SSE += pow(dataset[y][count]-centroid[x][y],2)\n",
    "        count +=1\n",
    "    return SSE"
   ]
  },
  {
   "cell_type": "code",
   "execution_count": 8,
   "metadata": {},
   "outputs": [],
   "source": [
    "#getALLDetail\n",
    "def getALLDetail():\n",
    "    # res[Distance][SSE][Pheromones]\n",
    "    res = np.zeros((ants_num,3))\n",
    "    for i in range(ants_num):\n",
    "        res[i][0] = getDistance(i)\n",
    "        res[i][1] = getSSE(i)\n",
    "        res[i][2] = 1/res[i][0]\n",
    "    return res"
   ]
  },
  {
   "cell_type": "code",
   "execution_count": 9,
   "metadata": {},
   "outputs": [],
   "source": [
    "# get point2centroidDistance\n",
    "def p2cDistance(ants,point,cluster):\n",
    "    distance = 0.0\n",
    "    datapoint=dataset.loc[point]\n",
    "    centroid_temp=ants_centroid[ants][cluster]\n",
    "    for x in range(dim_num):\n",
    "        distance += pow(centroid_temp[x]-datapoint[x],2)\n",
    "    \n",
    "    return pow(distance,0.5)"
   ]
  },
  {
   "cell_type": "code",
   "execution_count": 10,
   "metadata": {},
   "outputs": [],
   "source": [
    "def findBestSol():\n",
    "    global BestSol\n",
    "    global BestSSE\n",
    "    temp=pd.DataFrame(ants_detail)\n",
    "    localbest = temp[1].idxmin()\n",
    "    localbest_val = temp[1].min()\n",
    "    \n",
    "    if BestSSE >= localbest_val:\n",
    "        BestSSE = localbest_val\n",
    "        BestSol=ants_pass[localbest]"
   ]
  },
  {
   "cell_type": "code",
   "execution_count": 11,
   "metadata": {},
   "outputs": [],
   "source": [
    "'''init'''\n",
    "def init():\n",
    "    #根據螞蟻數量與資料集大小 \"隨機\"產生結果\n",
    "    global ants_pass\n",
    "    global ants_centroid\n",
    "    global ants_detail\n",
    "    global pheromones_table\n",
    "    #ants_pass = pd.DataFrame(np.random.choice(cluster_num, size=(ants_num,instance_num)))\n",
    "    ants_pass=np.random.randint(cluster_num, size=(ants_num,instance_num))\n",
    "    ### Note: dataset[dim][instance]\n",
    "    ants_centroid=getALLCentroid()\n",
    "    pheromones_table = np.full((instance_num,cluster_num),minPheromones)"
   ]
  },
  {
   "cell_type": "code",
   "execution_count": 12,
   "metadata": {},
   "outputs": [],
   "source": [
    "'''SolutionConstruct'''\n",
    "def SolutionConstruct():\n",
    "    #TODO\n",
    "    global ants_pass\n",
    "    global ants_centroid\n",
    "    global ants_detail\n",
    "    global pheromones_table\n",
    "\n",
    "    for x in range(ants_num):\n",
    "        for y in range(instance_num):\n",
    "            sum_P = 0.0\n",
    "            sum_roll = 0.0\n",
    "            transferProbability = np.zeros((cluster_num, 3))\n",
    "            \n",
    "            for z in range(cluster_num):\n",
    "                distance_tmp = p2cDistance(x,y,z)\n",
    "                if distance_tmp == 0:\n",
    "                    transferProbability[z][0] = pow(pheromones_table[y][z], alpha) * sys.maxint\n",
    "                else:\n",
    "                    transferProbability[z][0] = pow(pheromones_table[y][z], alpha) * pow(1/distance_tmp, beta)\n",
    "                sum_P += transferProbability[z][0]\n",
    "        \n",
    "            for z in range(cluster_num):\n",
    "                transferProbability[z][1] = transferProbability[z][0]/sum_P\n",
    "                sum_roll += transferProbability[z][1]\n",
    "                transferProbability[z][2] = sum_roll\n",
    "\n",
    "            temp_roll = rollDice()\n",
    "            select_cluster = -1\n",
    "            for z in range(cluster_num):\n",
    "                if temp_roll <= transferProbability[z][2]:\n",
    "                    select_cluster = z\n",
    "                    break\n",
    "            ants_pass[x][y] = select_cluster\n",
    "            "
   ]
  },
  {
   "cell_type": "code",
   "execution_count": 13,
   "metadata": {},
   "outputs": [],
   "source": [
    "'''PheromonesUpdate'''\n",
    "def PheromonesUpdate():\n",
    "    #TODO\n",
    "    global ants_pass\n",
    "    global ants_centroid\n",
    "    global ants_detail\n",
    "    global pheromones_table\n",
    "    \n",
    "    ants_centroid = getALLCentroid()\n",
    "    ants_detail = np.array([])\n",
    "    ants_detail = getALLDetail()\n",
    "    \n",
    "    for x in range(instance_num):\n",
    "        for y in range(cluster_num):\n",
    "            pheromones_table[x][y] = (1-rho)*pheromones_table[x][y]\n",
    "            \n",
    "    for x in range(ants_num):\n",
    "        for y in range(instance_num):\n",
    "            temp_sol = ants_pass[x]\n",
    "            pheromones_table[y][temp_sol[y]] += rho*ants_detail[x][2]\n"
   ]
  },
  {
   "cell_type": "code",
   "execution_count": 14,
   "metadata": {},
   "outputs": [
    {
     "name": "stdout",
     "output_type": "stream",
     "text": [
      "582.7367125621594\n",
      "\n",
      "424.18261623609965\n",
      "\n",
      "289.5079761965183\n",
      "\n",
      "231.3019967793878\n",
      "\n",
      "200.38192099792093\n",
      "\n",
      "171.342765866209\n",
      "\n",
      "159.2281234629444\n",
      "\n",
      "141.22706757931334\n",
      "\n",
      "116.26751758843092\n",
      "\n",
      "113.98194314944301\n",
      "\n",
      "113.98194314944301\n",
      "\n",
      "92.73373083778978\n",
      "\n",
      "92.73373083778978\n",
      "\n",
      "92.73373083778978\n",
      "\n",
      "92.73373083778978\n",
      "\n",
      "84.37640000000003\n",
      "\n",
      "84.37640000000003\n",
      "\n",
      "84.37640000000003\n",
      "\n",
      "84.37640000000003\n",
      "\n",
      "84.37640000000003\n",
      "\n",
      "84.37640000000003\n",
      "\n",
      "84.37640000000003\n",
      "\n",
      "84.37640000000003\n",
      "\n",
      "84.37640000000003\n",
      "\n",
      "83.16953965586234\n",
      "\n",
      "83.16953965586234\n",
      "\n",
      "83.16953965586234\n",
      "\n",
      "83.16953965586234\n",
      "\n",
      "83.16953965586234\n",
      "\n",
      "83.16953965586234\n",
      "\n",
      "It costs 118.39040946960449 sec\n"
     ]
    }
   ],
   "source": [
    "\n",
    "# main function\n",
    "if __name__ == '__main__':\n",
    "    tStart = time.time()\n",
    "    for run in range(run_num):\n",
    "        init()\n",
    "        for iteration in range(iteration_num):\n",
    "            SolutionConstruct()\n",
    "            PheromonesUpdate()\n",
    "            findBestSol()\n",
    "            Output_SSE[run][iteration] = BestSSE\n",
    "            print (str(BestSSE)+\"\\n\")\n",
    "    tEnd = time.time()\n",
    "    print (\"It costs \"+str(tEnd-tStart)+\" sec\")\n",
    "            \n",
    " "
   ]
  },
  {
   "cell_type": "code",
   "execution_count": 15,
   "metadata": {},
   "outputs": [],
   "source": [
    "import matplotlib.pyplot as plt"
   ]
  },
  {
   "cell_type": "code",
   "execution_count": 16,
   "metadata": {},
   "outputs": [
    {
     "data": {
      "image/png": "[encoded data removed]",
      "text/plain": [
       "<Figure size 432x288 with 1 Axes>"
      ]
     },
     "metadata": {
      "needs_background": "light"
     },
     "output_type": "display_data"
    }
   ],
   "source": [
    "iteration_array=np.arange(30)\n",
    "plt.plot(iteration_array,Output_SSE[0])\n",
    "plt.show()"
   ]
  },
  {
   "cell_type": "code",
   "execution_count": null,
   "metadata": {},
   "outputs": [],
   "source": []
  }
 ],
 "metadata": {
  "kernelspec": {
   "display_name": "Python 3",
   "language": "python",
   "name": "python3"
  },
  "language_info": {
   "codemirror_mode": {
    "name": "ipython",
    "version": 3
   },
   "file_extension": ".py",
   "mimetype": "text/x-python",
   "name": "python",
   "nbconvert_exporter": "python",
   "pygments_lexer": "ipython3",
   "version": "3.7.3"
  }
 },
 "nbformat": 4,
 "nbformat_minor": 4
}

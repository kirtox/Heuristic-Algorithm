{
 "cells": [
  {
   "cell_type": "markdown",
   "metadata": {},
   "source": [
    "# Hill Climbing Algorithm \n",
    "\n",
    "### 原理可參考 https://www.javatpoint.com/hill-climbing-algorithm-in-ai\n",
    "\n",
    "<left><img src=\"https://www.researchgate.net/profile/Burak_Eksioglu/publication/221787181/figure/fig1/AS:393982577266688@1470944174043/Hill-climbing-algorithm.png\" />\n",
    "\n",
    "<left><img src=\"https://i.stack.imgur.com/HISbC.png\" />\n"
   ]
  },
  {
   "cell_type": "markdown",
   "metadata": {},
   "source": [
    "# Step 1: Functions that we will use"
   ]
  },
  {
   "cell_type": "code",
   "execution_count": 1,
   "metadata": {},
   "outputs": [],
   "source": [
    "%matplotlib inline\n",
    "import sys\n",
    "import time\n",
    "import math\n",
    "import random\n",
    "import matplotlib.pyplot as plt\n",
    "import numpy as np\n",
    "import itertools\n",
    "import random\n",
    "\n",
    "# 1 generate random 2 numbers\n",
    "def ran(domain): # generate two numbers  that in range to  swap  (ex: if answer is [4,7] means city 4 and city 7 seq. order swap)\n",
    "    num = []\n",
    "    ok_flag=0\n",
    "    First = random.randint(1,domain)\n",
    "    num.append(First)\n",
    "    Second = random.randint(1,domain)\n",
    "    \n",
    "    while(ok_flag==0):\n",
    "        if Second in num:\n",
    "            Second=random.randint(1,domain)\n",
    "        else:\n",
    "            num.append(Second)\n",
    "            ok_flag=1\n",
    "    \n",
    "    return num\n",
    "\n",
    "# 2 used in HC_Solve_TSP(advanced) in order to generate 3 random numbers\n",
    "def ran3num(domain): # generate three numbers  that in range to  swap  (ex: if answer is [4, 1, 5] means city 4 and city 1 , city 5 seq. order swap)\n",
    "    num = []\n",
    "    ok_flag1=0\n",
    "    ok_flag2=0\n",
    "    First = random.randint(1,domain)\n",
    "    num.append(First)\n",
    "    Second = random.randint(1,domain)\n",
    "    Third = random.randint(1,domain)\n",
    "    while(ok_flag1==0):\n",
    "        if Second in num:\n",
    "            Second=random.randint(1,domain)\n",
    "        else:\n",
    "            num.append(Second)\n",
    "            ok_flag1=1\n",
    "    while(ok_flag2==0):\n",
    "        if Third in num:\n",
    "            Third=random.randint(1,domain)\n",
    "        else:\n",
    "            num.append(Third)\n",
    "            ok_flag2=1\n",
    "    return num\n",
    "\n",
    "# 3 used in HC_Solve_TSP(advanced) in order to generate the coordinate in list_origin\n",
    "def CombinationC32(list_origin):\n",
    "    list_ran3num = ran3num(51)\n",
    "    list_ran3num.sort()\n",
    "    list_ran3 = list_ran3num\n",
    "    #print('list_ran3: ',list_ran3)\n",
    "    \n",
    "    CombinListb = list(itertools.combinations(list_ran3,2))\n",
    "    #print('CombinListb: ',CombinListb,'\\n')\n",
    "    \n",
    "    list_coor = []\n",
    "    for x in CombinListb:\n",
    "        list_tmp = []\n",
    "        for y in list_ran3:\n",
    "            #print(x,\" \",y)\n",
    "            if y in x:\n",
    "                #print(y in x)\n",
    "                #print(list_origin.index(y))\n",
    "                list_tmp.append(list_origin.index(y))\n",
    "        list_coor.append(list_tmp)\n",
    "    \n",
    "    return list_coor\n",
    "\n",
    "# 4 used in HC_Solve_TSP(advanced) in order to swap the number in list_input by using list_coor as index\n",
    "def SwapC32(list_input,list_coor):\n",
    "    list_swapped = []\n",
    "    for x in list_coor:\n",
    "        #print(x)\n",
    "        list_copy = list_input[:]\n",
    "        temp = list_copy[x[0]]\n",
    "        list_copy[x[0]] = list_input[x[1]]\n",
    "        list_copy[x[1]] = temp\n",
    "        #print(list_copy)\n",
    "        \n",
    "        list_swapped.append(list_copy)\n",
    "    return list_swapped\n",
    "\n",
    "# 5 generate init city sequence\n",
    "def init(num):\n",
    "    seq = []\n",
    "    while len(seq) < num:\n",
    "        temp = random.randint(1,num)\n",
    "        if temp not in seq:\n",
    "            seq.append(temp)\n",
    "    return seq\n",
    "\n",
    "# 6 swap 2 cities\n",
    "def trans(seq):\n",
    "    ok_flag=0\n",
    "    temp = seq[:]\n",
    "    index = ran(len(seq))\n",
    "    \n",
    "    while (ok_flag ==0) : \n",
    "        if index[0]!=index[1]:\n",
    "            ok_flag =1\n",
    "        else:\n",
    "            index = ran(len(seq))\n",
    "        \n",
    "        \n",
    "    t = temp[index[0]-1]\n",
    "    temp[index[0]-1] = temp[index[1]-1]\n",
    "    temp[index[1]-1] = t\n",
    "    \n",
    "    return temp\n",
    "\n",
    "# 7 calculate the distance ex: (x1,y1)&(x2,y2)\n",
    "def distance(axis):\n",
    "    return math.sqrt(axis[0]*axis[0]+axis[1]*axis[1])\n",
    "\n",
    "# 8 calculate the total distance\n",
    "def evalu(seq,dic):\n",
    "    dist = 0\n",
    "    for i in range(len(seq)):\n",
    "        d = [ dic[seq[i]][0]-dic[seq[(i+1)%len(seq)]][0],dic[seq[i]][1]-dic[seq[(i+1)%len(seq)]][1]]\n",
    "        dist += distance(d)\n",
    "\n",
    "    return dist\n",
    "\n",
    "# 9 determine which is min_seq & evalu\n",
    "def determine(temp,min_seq,dic):\n",
    "    if evalu(temp,dic) < evalu(min_seq,dic):\n",
    "        min_seq = temp[:]\n",
    "        print(min_seq, evalu(min_seq,dic))\n",
    "  \n",
    "    return min_seq,evalu(min_seq,dic)\n",
    "    \n",
    "# 10 read the eil51.txt file      \n",
    "def readfile(dic):\n",
    "    with open('eil51.txt') as f:\n",
    "        r = f.read()\n",
    "        read_line = r.split('\\n')               \n",
    "        for i in range(len(read_line)):         \n",
    "            read_element = read_line[i].split()\n",
    "            dic[int(read_element[0])] = [int(read_element[1])]\n",
    "            dic[int(read_element[0])].append(int(read_element[2]))\n",
    "        f.close()"
   ]
  },
  {
   "cell_type": "markdown",
   "metadata": {},
   "source": [
    "## function explain and test"
   ]
  },
  {
   "cell_type": "markdown",
   "metadata": {},
   "source": [
    "### 1. ran() function :  generate two numbers  that in range to  swap  (ex: if answer is [4,7] means city 4 and city 7 seq. order swap)"
   ]
  },
  {
   "cell_type": "code",
   "execution_count": 2,
   "metadata": {},
   "outputs": [
    {
     "name": "stdout",
     "output_type": "stream",
     "text": [
      "[1, 2]\n"
     ]
    }
   ],
   "source": [
    "print(ran(2))\n"
   ]
  },
  {
   "cell_type": "markdown",
   "metadata": {},
   "source": [
    "### 2. init(51) function :  generate an initial city sequence"
   ]
  },
  {
   "cell_type": "code",
   "execution_count": 3,
   "metadata": {},
   "outputs": [
    {
     "name": "stdout",
     "output_type": "stream",
     "text": [
      "[3, 2, 1]\n"
     ]
    }
   ],
   "source": [
    "seq = init(3)\n",
    "print(seq)"
   ]
  },
  {
   "cell_type": "markdown",
   "metadata": {},
   "source": [
    "### 3 function trans(seq) can swap cities"
   ]
  },
  {
   "cell_type": "code",
   "execution_count": 4,
   "metadata": {},
   "outputs": [
    {
     "name": "stdout",
     "output_type": "stream",
     "text": [
      "[2, 3, 1]\n"
     ]
    }
   ],
   "source": [
    "new_seq = trans(seq)\n",
    "print(new_seq) #it swap 2 random cities"
   ]
  },
  {
   "cell_type": "markdown",
   "metadata": {},
   "source": [
    "### function 4 read file eil5 51 cities\n"
   ]
  },
  {
   "cell_type": "code",
   "execution_count": 5,
   "metadata": {},
   "outputs": [
    {
     "name": "stdout",
     "output_type": "stream",
     "text": [
      "read_line= ['1 37 52', '2 49 49', '3 52 64', '4 20 26', '5 40 30', '6 21 47', '7 17 63', '8 31 62', '9 52 33', '10 51 21', '11 42 41', '12 31 32', '13 5 25', '14 12 42', '15 36 16', '16 52 41', '17 27 23', '18 17 33', '19 13 13', '20 57 58', '21 62 42', '22 42 57', '23 16 57', '24 8 52', '25 7 38', '26 27 68', '27 30 48', '28 43 67', '29 58 48', '30 58 27', '31 37 69', '32 38 46', '33 46 10', '34 61 33', '35 62 63', '36 63 69', '37 32 22', '38 45 35', '39 59 15', '40 5 6', '41 10 17', '42 21 10', '43 5 64', '44 30 15', '45 39 10', '46 32 39', '47 25 32', '48 25 55', '49 48 28', '50 56 37', '51 30 40']\n",
      "len of lines= 51\n",
      "{1: [37, 52], 2: [49, 49], 3: [52, 64], 4: [20, 26], 5: [40, 30], 6: [21, 47], 7: [17, 63], 8: [31, 62], 9: [52, 33], 10: [51, 21], 11: [42, 41], 12: [31, 32], 13: [5, 25], 14: [12, 42], 15: [36, 16], 16: [52, 41], 17: [27, 23], 18: [17, 33], 19: [13, 13], 20: [57, 58], 21: [62, 42], 22: [42, 57], 23: [16, 57], 24: [8, 52], 25: [7, 38], 26: [27, 68], 27: [30, 48], 28: [43, 67], 29: [58, 48], 30: [58, 27], 31: [37, 69], 32: [38, 46], 33: [46, 10], 34: [61, 33], 35: [62, 63], 36: [63, 69], 37: [32, 22], 38: [45, 35], 39: [59, 15], 40: [5, 6], 41: [10, 17], 42: [21, 10], 43: [5, 64], 44: [30, 15], 45: [39, 10], 46: [32, 39], 47: [25, 32], 48: [25, 55], 49: [48, 28], 50: [56, 37], 51: [30, 40]}\n"
     ]
    }
   ],
   "source": [
    "### function 4 readfile\n",
    "dic={}\n",
    "with open('eil51.txt') as f:\n",
    "    r=f.read()\n",
    "    read_line = r.split('\\n')              \n",
    "    print('read_line=',read_line)\n",
    "    print('len of lines=', len(read_line))\n",
    "    \n",
    "    for i in range(len(read_line)):         \n",
    "        read_element = read_line[i].split()\n",
    "        dic[int(read_element[0])] = [int(read_element[1])]\n",
    "        dic[int(read_element[0])].append(int(read_element[2]))\n",
    "    \n",
    "    print(dic)\n",
    "    f.close()"
   ]
  },
  {
   "cell_type": "markdown",
   "metadata": {},
   "source": [
    "### function 5 distance evalu determine\n",
    "> distance (x,y) to (0,0)"
   ]
  },
  {
   "cell_type": "code",
   "execution_count": 6,
   "metadata": {},
   "outputs": [
    {
     "name": "stdout",
     "output_type": "stream",
     "text": [
      "test for diff [1, 1]  distance_test:1.4142135623730951\n",
      "==================================================================\n",
      "dic_test[seq[0]][0],dic_test[seq[0]][1]== 71 2\n",
      "dic_test {1: [1, 10], 2: [71, 2], 3: [22, 2], 4: [60, 3]}\n",
      "seq_test [2, 1, 3, 4]\n",
      "seq_test distance for evalu(seq,dic): 141.98638150416207\n",
      "==================================================================\n",
      "============ test 5 times =======\n",
      "temp_test [4, 1, 3, 2]\n",
      "temp_test for evalu(temp_test,dic_temp): 141.93136918148326\n",
      "[4, 1, 3, 2] 141.93136918148326\n",
      "new_seq= ([4, 1, 3, 2], 141.93136918148326)\n",
      "temp_test [2, 4, 3, 1]\n",
      "temp_test for evalu(temp_test,dic_temp): 141.98638150416207\n",
      "new_seq= ([2, 1, 3, 4], 141.98638150416207)\n",
      "temp_test [1, 2, 3, 4]\n",
      "temp_test for evalu(temp_test,dic_temp): 216.88261854278235\n",
      "new_seq= ([2, 1, 3, 4], 141.98638150416207)\n",
      "temp_test [3, 1, 2, 4]\n",
      "temp_test for evalu(temp_test,dic_temp): 141.98638150416207\n",
      "new_seq= ([2, 1, 3, 4], 141.98638150416207)\n",
      "temp_test [3, 1, 2, 4]\n",
      "temp_test for evalu(temp_test,dic_temp): 141.98638150416207\n",
      "new_seq= ([2, 1, 3, 4], 141.98638150416207)\n"
     ]
    }
   ],
   "source": [
    "#diff = (x_diff,y_diff)\n",
    "#def distance(axis):\n",
    "#    return math.sqrt(axis[0]*axis[0]+axis[1]*axis[1])\n",
    "\n",
    "diff=[1,1] #dx,dy\n",
    "distance_test=distance(diff) \n",
    "\n",
    "print('test for diff {}  distance_test:{}'.format(diff,distance_test))\n",
    "\n",
    "print(\"==================================================================\")\n",
    "\n",
    "seq_test=[2,1,3,4]\n",
    "dic_test={1: [1, 10], 2: [71, 2],3:[22,2],4:[60,3]}\n",
    "print('dic_test[seq[0]][0],dic_test[seq[0]][1]==',dic_test[seq_test[0]][0],dic_test[seq_test[0]][1])\n",
    "print('dic_test',dic_test)\n",
    "print('seq_test',seq_test)\n",
    "print('seq_test distance for evalu(seq,dic):',evalu(seq_test,dic_test))\n",
    "\n",
    "print(\"==================================================================\")\n",
    "\n",
    "print(\"============ test 5 times =======\")\n",
    "\n",
    "for i in range(5):\n",
    "    temp_test =trans(seq_test)\n",
    "    print('temp_test',temp_test)\n",
    "    print('temp_test for evalu(temp_test,dic_temp):',evalu(temp_test,dic_test))\n",
    "    new_seq = determine(temp_test,seq_test,dic_test)\n",
    "    print('new_seq=',new_seq)\n",
    "\n",
    "\n"
   ]
  },
  {
   "cell_type": "markdown",
   "metadata": {},
   "source": []
  },
  {
   "cell_type": "markdown",
   "metadata": {},
   "source": [
    "# Step 2: Main Function  把所有code 都放在一起\n",
    "> 加上 iteration n 次\n",
    "\n",
    "> 有比較好的就印出"
   ]
  },
  {
   "cell_type": "code",
   "execution_count": 7,
   "metadata": {},
   "outputs": [
    {
     "name": "stdin",
     "output_type": "stream",
     "text": [
      "Please enter the iteration: 100\n"
     ]
    },
    {
     "name": "stdout",
     "output_type": "stream",
     "text": [
      "[14, 6, 1, 51, 45, 47, 50, 17, 26, 39, 10, 43, 21, 29, 2, 46, 4, 35, 22, 8, 16, 27, 34, 12, 38, 31, 30, 42, 19, 5, 44, 15, 13, 7, 28, 40, 11, 49, 24, 41, 23, 48, 9, 37, 18, 3, 25, 32, 20, 33, 36] 1629.014732294039\n",
      "[24, 6, 1, 51, 45, 47, 50, 17, 26, 39, 49, 43, 21, 29, 2, 46, 4, 35, 22, 8, 16, 27, 34, 12, 38, 31, 30, 42, 19, 5, 44, 15, 13, 7, 28, 40, 11, 10, 14, 41, 23, 48, 9, 37, 18, 3, 25, 32, 20, 33, 36] 1627.9336513553362\n",
      "[14, 6, 1, 51, 45, 47, 50, 17, 26, 39, 49, 43, 21, 29, 2, 46, 4, 35, 22, 8, 18, 27, 34, 12, 38, 31, 30, 42, 19, 5, 44, 15, 13, 7, 28, 40, 11, 10, 24, 41, 23, 48, 9, 37, 16, 3, 25, 32, 20, 33, 36] 1627.6289957124059\n",
      "[14, 6, 1, 51, 45, 47, 25, 17, 26, 39, 49, 43, 21, 29, 2, 46, 4, 35, 22, 8, 16, 27, 34, 12, 38, 31, 30, 42, 19, 5, 44, 15, 13, 7, 28, 40, 11, 10, 24, 41, 23, 48, 9, 37, 18, 3, 50, 32, 20, 33, 36] 1586.9349589117849\n",
      "[14, 6, 1, 51, 45, 47, 50, 17, 26, 39, 49, 43, 21, 29, 2, 46, 4, 35, 22, 8, 16, 27, 34, 12, 38, 31, 30, 42, 19, 5, 44, 15, 13, 7, 28, 20, 11, 10, 24, 41, 23, 48, 9, 37, 18, 3, 25, 32, 40, 33, 36] 1580.9812401267127\n",
      "[14, 6, 1, 51, 45, 47, 4, 17, 26, 39, 49, 43, 21, 29, 2, 46, 50, 35, 22, 8, 16, 27, 34, 12, 38, 31, 30, 42, 19, 5, 44, 15, 13, 7, 28, 40, 11, 10, 24, 41, 23, 48, 9, 37, 18, 3, 25, 32, 20, 33, 36] 1572.0562862313006\n",
      "Final sequence: [14, 6, 1, 51, 45, 47, 4, 17, 26, 39, 49, 43, 21, 29, 2, 46, 50, 35, 22, 8, 16, 27, 34, 12, 38, 31, 30, 42, 19, 5, 44, 15, 13, 7, 28, 40, 11, 10, 24, 41, 23, 48, 9, 37, 18, 3, 25, 32, 20, 33, 36]\n",
      "Final distance: 1572.0562862313006\n"
     ]
    },
    {
     "data": {
      "text/plain": [
       "Text(0, 0.5, 'Distance')"
      ]
     },
     "execution_count": 7,
     "metadata": {},
     "output_type": "execute_result"
    },
    {
     "data": {
      "image/png": "[encoded data removed]",
      "text/plain": [
       "<Figure size 432x288 with 1 Axes>"
      ]
     },
     "metadata": {
      "needs_background": "light"
     },
     "output_type": "display_data"
    }
   ],
   "source": [
    "\n",
    "#initial   \n",
    "num_cities =51\n",
    "global minVal \n",
    "minVal=0\n",
    "global min_seq\n",
    "min_seq= init(num_cities)\n",
    "seq = min_seq\n",
    "temp = []\n",
    "dic = {}\n",
    "readfile(dic)\n",
    "min_dist = 0\n",
    "iter_num = input('Please enter the iteration:')\n",
    "iter_num = int(iter_num)\n",
    "history_list = []\n",
    "\n",
    "#Execute\n",
    "import pandas as pd\n",
    "\n",
    "\n",
    "for i in range(iter_num): # iteration iter_num =10000次看看\n",
    "    \n",
    "    temp = trans(seq)\n",
    "    min_seq, minVal= determine(temp,min_seq,dic)\n",
    "    history_list.append(minVal)\n",
    "    \n",
    "\n",
    "#Output\n",
    "\n",
    "print('Final sequence:',min_seq)\n",
    "print('Final distance:',minVal)\n",
    "\n",
    "#x = np.linspace(0, iter_num, iter_num)\n",
    "y = history_list\n",
    "\n",
    "\n",
    "plt.plot(y,color=\"blue\")\n",
    "plt.xlabel(\"Iteration times\")\n",
    "plt.ylabel(\"Distance\")\n"
   ]
  }
 ],
 "metadata": {
  "kernelspec": {
   "display_name": "Python 3",
   "language": "python",
   "name": "python3"
  },
  "language_info": {
   "codemirror_mode": {
    "name": "ipython",
    "version": 3
   },
   "file_extension": ".py",
   "mimetype": "text/x-python",
   "name": "python",
   "nbconvert_exporter": "python",
   "pygments_lexer": "ipython3",
   "version": "3.7.3"
  }
 },
 "nbformat": 4,
 "nbformat_minor": 4
}

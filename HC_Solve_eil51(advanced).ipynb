{
 "cells": [
  {
   "cell_type": "markdown",
   "metadata": {},
   "source": [
    "# Hill Climbing Algorithm \n",
    "\n",
    "### 原理可參考 https://www.javatpoint.com/hill-climbing-algorithm-in-ai\n",
    "\n",
    "<left><img src=\"https://www.researchgate.net/profile/Burak_Eksioglu/publication/221787181/figure/fig1/AS:393982577266688@1470944174043/Hill-climbing-algorithm.png\" />\n",
    "\n",
    "<left><img src=\"https://i.stack.imgur.com/HISbC.png\" />\n"
   ]
  },
  {
   "cell_type": "markdown",
   "metadata": {},
   "source": [
    "# Step 1: Functions that we will use"
   ]
  },
  {
   "cell_type": "code",
   "execution_count": 1,
   "metadata": {},
   "outputs": [],
   "source": [
    "%matplotlib inline\n",
    "import sys\n",
    "import time\n",
    "import math\n",
    "import random\n",
    "import matplotlib.pyplot as plt\n",
    "import numpy as np\n",
    "import itertools\n",
    "import random\n",
    "\n",
    "# 1 generate random 2 numbers\n",
    "def ran(domain): # generate two numbers  that in range to  swap  (ex: if answer is [4,7] means city 4 and city 7 seq. order swap)\n",
    "    num = []\n",
    "    ok_flag=0\n",
    "    First = random.randint(1,domain)\n",
    "    num.append(First)\n",
    "    Second = random.randint(1,domain)\n",
    "    \n",
    "    while(ok_flag==0):\n",
    "        if Second in num:\n",
    "            Second=random.randint(1,domain)\n",
    "        else:\n",
    "            num.append(Second)\n",
    "            ok_flag=1\n",
    "    \n",
    "    return num\n",
    "\n",
    "# 2 used in HC_Solve_TSP(advanced) in order to generate 3 random numbers\n",
    "def ran3num(domain): # generate three numbers  that in range to  swap  (ex: if answer is [4, 1, 5] means city 4 and city 1 , city 5 seq. order swap)\n",
    "    num = []\n",
    "    ok_flag1=0\n",
    "    ok_flag2=0\n",
    "    First = random.randint(1,domain)\n",
    "    num.append(First)\n",
    "    Second = random.randint(1,domain)\n",
    "    Third = random.randint(1,domain)\n",
    "    while(ok_flag1==0):\n",
    "        if Second in num:\n",
    "            Second=random.randint(1,domain)\n",
    "        else:\n",
    "            num.append(Second)\n",
    "            ok_flag1=1\n",
    "    while(ok_flag2==0):\n",
    "        if Third in num:\n",
    "            Third=random.randint(1,domain)\n",
    "        else:\n",
    "            num.append(Third)\n",
    "            ok_flag2=1\n",
    "    return num\n",
    "\n",
    "# 3 used in HC_Solve_TSP(advanced) in order to generate the coordinate in list_origin\n",
    "def CombinationC32(list_origin):\n",
    "    list_ran3num = ran3num(51)\n",
    "    list_ran3num.sort()\n",
    "    list_ran3 = list_ran3num\n",
    "    #print('list_ran3: ',list_ran3)\n",
    "    \n",
    "    CombinListb = list(itertools.combinations(list_ran3,2))\n",
    "    #print('CombinListb: ',CombinListb,'\\n')\n",
    "    \n",
    "    list_cor = []\n",
    "    for x in CombinListb:\n",
    "        list_tmp = []\n",
    "        for y in list_ran3:\n",
    "            #print(x,\" \",y)\n",
    "            if y in x:\n",
    "                #print(y in x)\n",
    "                #print(list_origin.index(y))\n",
    "                list_tmp.append(list_origin.index(y))\n",
    "        list_cor.append(list_tmp)\n",
    "    \n",
    "    return list_cor\n",
    "\n",
    "# 4 used in HC_Solve_TSP(advanced) in order to swap the number in list_input by using list_coor as index\n",
    "def SwapC32(list_input,list_cor):\n",
    "    list_swapped = []\n",
    "    for x in list_cor:\n",
    "        #print(x)\n",
    "        list_copy = list_input[:]\n",
    "        temp = list_copy[x[0]]\n",
    "        list_copy[x[0]] = list_input[x[1]]\n",
    "        list_copy[x[1]] = temp\n",
    "        #print(list_copy)\n",
    "        \n",
    "        list_swapped.append(list_copy)\n",
    "    return list_swapped\n",
    "\n",
    "# 5 generate init city sequence\n",
    "def init(num): ## generate init city sequence\n",
    "    seq = []\n",
    "    while len(seq) < num:\n",
    "        temp = random.randint(1,num)\n",
    "        if temp not in seq:\n",
    "            seq.append(temp)\n",
    "    return seq\n",
    "\n",
    "# 6 swap 2 cities\n",
    "def trans(seq):\n",
    "    ok_flag=0\n",
    "    temp = seq[:]\n",
    "    index = ran(len(seq))\n",
    "    \n",
    "    while (ok_flag ==0) : \n",
    "        if index[0]!=index[1]:\n",
    "            ok_flag =1\n",
    "        else:\n",
    "            index = ran(len(seq))\n",
    "        \n",
    "        \n",
    "    t = temp[index[0]-1]\n",
    "    temp[index[0]-1] = temp[index[1]-1]\n",
    "    temp[index[1]-1] = t\n",
    "    \n",
    "    return temp\n",
    "\n",
    "# 7 calculate the distance ex: (x1,y1)&(x2,y2)\n",
    "def distance(axis):\n",
    "    return math.sqrt(axis[0]*axis[0]+axis[1]*axis[1])\n",
    "\n",
    "# 8 calculate the total distance\n",
    "def evalu(seq,dic):\n",
    "    dist = 0\n",
    "    for i in range(len(seq)):\n",
    "        d = [ dic[seq[i]][0]-dic[seq[(i+1)%len(seq)]][0],dic[seq[i]][1]-dic[seq[(i+1)%len(seq)]][1]]\n",
    "        dist += distance(d)\n",
    "        \n",
    "    \n",
    "    return dist\n",
    "\n",
    "# 9 determine which is min_seq & evalu\n",
    "def determine(temp,min_seq,dic):\n",
    "    if evalu(temp,dic) < evalu(min_seq,dic):\n",
    "        min_seq = temp[:]\n",
    "        print(min_seq, evalu(min_seq,dic))\n",
    "  \n",
    "    return min_seq,evalu(min_seq,dic)\n",
    "    \n",
    "# 10 read the eil51.txt file   \n",
    "def readfile(dic):\n",
    "    with open('eil51.txt') as f:\n",
    "        r = f.read()\n",
    "        read_line = r.split('\\n')               \n",
    "        for i in range(len(read_line)):         \n",
    "            read_element = read_line[i].split()\n",
    "            dic[int(read_element[0])] = [int(read_element[1])]\n",
    "            dic[int(read_element[0])].append(int(read_element[2]))\n",
    "        f.close()"
   ]
  },
  {
   "cell_type": "markdown",
   "metadata": {},
   "source": [
    "## function explain and test"
   ]
  },
  {
   "cell_type": "markdown",
   "metadata": {},
   "source": [
    "### 1. ran() function :  generate two numbers  that in range to  swap  (ex: if answer is [4,7] means city 4 and city 7 seq. order swap)"
   ]
  },
  {
   "cell_type": "code",
   "execution_count": 2,
   "metadata": {},
   "outputs": [
    {
     "name": "stdout",
     "output_type": "stream",
     "text": [
      "[2, 1]\n"
     ]
    }
   ],
   "source": [
    "print(ran(2))\n"
   ]
  },
  {
   "cell_type": "markdown",
   "metadata": {},
   "source": [
    "### 2. init(51) function :  generate an initial city sequence"
   ]
  },
  {
   "cell_type": "code",
   "execution_count": 3,
   "metadata": {},
   "outputs": [
    {
     "name": "stdout",
     "output_type": "stream",
     "text": [
      "[2, 3, 1]\n"
     ]
    }
   ],
   "source": [
    "seq = init(3)\n",
    "print(seq)"
   ]
  },
  {
   "cell_type": "markdown",
   "metadata": {},
   "source": [
    "### 3 function trans(seq) can swap cities"
   ]
  },
  {
   "cell_type": "code",
   "execution_count": 4,
   "metadata": {},
   "outputs": [
    {
     "name": "stdout",
     "output_type": "stream",
     "text": [
      "[3, 2, 1]\n"
     ]
    }
   ],
   "source": [
    "new_seq = trans(seq)\n",
    "print(new_seq) #it swap 2 random cities"
   ]
  },
  {
   "cell_type": "markdown",
   "metadata": {},
   "source": [
    "### function 4 read file eil5 51 cities\n"
   ]
  },
  {
   "cell_type": "code",
   "execution_count": 5,
   "metadata": {},
   "outputs": [
    {
     "name": "stdout",
     "output_type": "stream",
     "text": [
      "read_line= ['1 37 52', '2 49 49', '3 52 64', '4 20 26', '5 40 30', '6 21 47', '7 17 63', '8 31 62', '9 52 33', '10 51 21', '11 42 41', '12 31 32', '13 5 25', '14 12 42', '15 36 16', '16 52 41', '17 27 23', '18 17 33', '19 13 13', '20 57 58', '21 62 42', '22 42 57', '23 16 57', '24 8 52', '25 7 38', '26 27 68', '27 30 48', '28 43 67', '29 58 48', '30 58 27', '31 37 69', '32 38 46', '33 46 10', '34 61 33', '35 62 63', '36 63 69', '37 32 22', '38 45 35', '39 59 15', '40 5 6', '41 10 17', '42 21 10', '43 5 64', '44 30 15', '45 39 10', '46 32 39', '47 25 32', '48 25 55', '49 48 28', '50 56 37', '51 30 40']\n",
      "len of lines= 51\n",
      "{1: [37, 52], 2: [49, 49], 3: [52, 64], 4: [20, 26], 5: [40, 30], 6: [21, 47], 7: [17, 63], 8: [31, 62], 9: [52, 33], 10: [51, 21], 11: [42, 41], 12: [31, 32], 13: [5, 25], 14: [12, 42], 15: [36, 16], 16: [52, 41], 17: [27, 23], 18: [17, 33], 19: [13, 13], 20: [57, 58], 21: [62, 42], 22: [42, 57], 23: [16, 57], 24: [8, 52], 25: [7, 38], 26: [27, 68], 27: [30, 48], 28: [43, 67], 29: [58, 48], 30: [58, 27], 31: [37, 69], 32: [38, 46], 33: [46, 10], 34: [61, 33], 35: [62, 63], 36: [63, 69], 37: [32, 22], 38: [45, 35], 39: [59, 15], 40: [5, 6], 41: [10, 17], 42: [21, 10], 43: [5, 64], 44: [30, 15], 45: [39, 10], 46: [32, 39], 47: [25, 32], 48: [25, 55], 49: [48, 28], 50: [56, 37], 51: [30, 40]}\n"
     ]
    }
   ],
   "source": [
    "### function 4 readfile\n",
    "dic={}\n",
    "with open('eil51.txt') as f:\n",
    "    r=f.read()\n",
    "    read_line = r.split('\\n')              \n",
    "    print('read_line=',read_line)\n",
    "    print('len of lines=', len(read_line))\n",
    "    \n",
    "    for i in range(len(read_line)):         \n",
    "        read_element = read_line[i].split()\n",
    "        dic[int(read_element[0])] = [int(read_element[1])]\n",
    "        dic[int(read_element[0])].append(int(read_element[2]))\n",
    "    \n",
    "    print(dic)\n",
    "    f.close()"
   ]
  },
  {
   "cell_type": "markdown",
   "metadata": {},
   "source": [
    "### function 5 distance evalu determine\n",
    "> distance (x,y) to (0,0)"
   ]
  },
  {
   "cell_type": "code",
   "execution_count": 6,
   "metadata": {},
   "outputs": [
    {
     "name": "stdout",
     "output_type": "stream",
     "text": [
      "test for diff [1, 1]  distance_test:1.4142135623730951\n",
      "==================================================================\n",
      "dic_test[seq[0]][0],dic_test[seq[0]][1]== 71 2\n",
      "dic_test {1: [1, 10], 2: [71, 2], 3: [22, 2], 4: [60, 3]}\n",
      "seq_test [2, 1, 3, 4]\n",
      "seq_test distance for evalu(seq,dic): 141.98638150416207\n",
      "==================================================================\n",
      "============ test 5 times =======\n",
      "temp_test [3, 1, 2, 4]\n",
      "temp_test for evalu(temp_test,dic_temp): 141.98638150416207\n",
      "new_seq= ([2, 1, 3, 4], 141.98638150416207)\n",
      "temp_test [2, 1, 4, 3]\n",
      "temp_test for evalu(temp_test,dic_temp): 216.88261854278238\n",
      "new_seq= ([2, 1, 3, 4], 141.98638150416207)\n",
      "temp_test [4, 1, 3, 2]\n",
      "temp_test for evalu(temp_test,dic_temp): 141.93136918148326\n",
      "[4, 1, 3, 2] 141.93136918148326\n",
      "new_seq= ([4, 1, 3, 2], 141.93136918148326)\n",
      "temp_test [3, 1, 2, 4]\n",
      "temp_test for evalu(temp_test,dic_temp): 141.98638150416207\n",
      "new_seq= ([2, 1, 3, 4], 141.98638150416207)\n",
      "temp_test [2, 3, 1, 4]\n",
      "temp_test for evalu(temp_test,dic_temp): 141.93136918148326\n",
      "[2, 3, 1, 4] 141.93136918148326\n",
      "new_seq= ([2, 3, 1, 4], 141.93136918148326)\n"
     ]
    }
   ],
   "source": [
    "#diff = (x_diff,y_diff)\n",
    "#def distance(axis):\n",
    "#    return math.sqrt(axis[0]*axis[0]+axis[1]*axis[1])\n",
    "\n",
    "diff=[1,1] #dx,dy\n",
    "distance_test=distance(diff) \n",
    "\n",
    "print('test for diff {}  distance_test:{}'.format(diff,distance_test))\n",
    "\n",
    "print(\"==================================================================\")\n",
    "\n",
    "seq_test=[2,1,3,4]\n",
    "dic_test={1: [1, 10], 2: [71, 2],3:[22,2],4:[60,3]}\n",
    "print('dic_test[seq[0]][0],dic_test[seq[0]][1]==',dic_test[seq_test[0]][0],dic_test[seq_test[0]][1])\n",
    "print('dic_test',dic_test)\n",
    "print('seq_test',seq_test)\n",
    "print('seq_test distance for evalu(seq,dic):',evalu(seq_test,dic_test))\n",
    "\n",
    "print(\"==================================================================\")\n",
    "\n",
    "print(\"============ test 5 times =======\")\n",
    "\n",
    "for i in range(5):\n",
    "    temp_test =trans(seq_test)\n",
    "    print('temp_test',temp_test)\n",
    "    print('temp_test for evalu(temp_test,dic_temp):',evalu(temp_test,dic_test))\n",
    "    new_seq = determine(temp_test,seq_test,dic_test)\n",
    "    print('new_seq=',new_seq)\n",
    "\n",
    "\n"
   ]
  },
  {
   "cell_type": "markdown",
   "metadata": {},
   "source": []
  },
  {
   "cell_type": "markdown",
   "metadata": {},
   "source": [
    "# Step 2: Main Function  把所有code 都放在一起\n",
    "> 加上 iteration n 次\n",
    "\n",
    "> 有比較好的就印出"
   ]
  },
  {
   "cell_type": "code",
   "execution_count": 7,
   "metadata": {},
   "outputs": [
    {
     "name": "stdin",
     "output_type": "stream",
     "text": [
      "Please enter the iteration: 100\n"
     ]
    },
    {
     "name": "stdout",
     "output_type": "stream",
     "text": [
      "[15, 27, 33, 3, 40, 14, 41, 11, 16, 19, 30, 6, 23, 48, 21, 34, 49, 9, 8, 2, 36, 1, 26, 7, 31, 47, 28, 38, 29, 17, 50, 10, 22, 20, 46, 51, 5, 25, 24, 12, 43, 42, 18, 39, 35, 37, 45, 13, 44, 4, 32] 1516.3360145407044\n",
      "[15, 27, 33, 3, 40, 14, 41, 11, 16, 19, 30, 6, 23, 48, 21, 34, 49, 9, 8, 2, 36, 1, 26, 7, 31, 47, 28, 38, 29, 17, 50, 10, 22, 20, 46, 51, 5, 25, 24, 12, 43, 42, 18, 39, 35, 37, 45, 4, 44, 13, 32] 1516.2216572223972\n",
      "[15, 27, 33, 3, 40, 4, 41, 11, 16, 19, 30, 6, 23, 48, 21, 34, 49, 9, 8, 2, 36, 1, 26, 7, 31, 47, 28, 38, 29, 17, 50, 10, 22, 20, 46, 51, 5, 25, 24, 12, 43, 42, 18, 39, 35, 37, 45, 13, 44, 14, 32] 1510.0180620516664\n",
      "[15, 27, 33, 3, 40, 13, 41, 11, 16, 19, 30, 6, 23, 48, 21, 34, 49, 9, 8, 2, 36, 1, 26, 7, 31, 47, 28, 38, 29, 17, 50, 10, 22, 20, 46, 51, 5, 25, 24, 12, 43, 42, 18, 39, 35, 37, 45, 14, 44, 4, 32] 1493.2470535453035\n",
      "[15, 27, 33, 3, 40, 13, 41, 11, 16, 19, 30, 6, 23, 48, 21, 34, 49, 9, 8, 2, 36, 1, 26, 7, 31, 47, 28, 38, 29, 10, 50, 17, 22, 20, 46, 51, 5, 25, 24, 12, 43, 42, 18, 39, 35, 37, 45, 14, 44, 4, 32] 1481.3689471253517\n",
      "[15, 27, 33, 3, 40, 13, 41, 11, 16, 19, 30, 6, 23, 48, 21, 34, 49, 9, 8, 2, 36, 1, 26, 7, 31, 47, 28, 38, 10, 17, 50, 29, 22, 20, 46, 51, 5, 25, 24, 12, 43, 42, 18, 39, 35, 37, 45, 14, 44, 4, 32] 1450.0192914936715\n",
      "[15, 27, 33, 3, 40, 13, 41, 11, 16, 19, 30, 42, 23, 48, 21, 34, 49, 9, 8, 2, 36, 1, 26, 7, 31, 47, 28, 38, 10, 17, 50, 29, 22, 20, 46, 51, 5, 25, 24, 12, 43, 6, 18, 39, 35, 37, 45, 14, 44, 4, 32] 1443.0029336691832\n",
      "[15, 27, 33, 3, 40, 19, 41, 11, 16, 13, 30, 42, 23, 48, 21, 34, 49, 9, 8, 2, 36, 1, 26, 7, 31, 47, 28, 38, 10, 17, 50, 29, 22, 20, 46, 51, 5, 25, 24, 12, 43, 6, 18, 39, 35, 37, 45, 14, 44, 4, 32] 1437.7476849153675\n",
      "[15, 27, 33, 3, 40, 13, 41, 11, 16, 32, 30, 42, 23, 48, 21, 34, 49, 9, 8, 2, 36, 1, 26, 7, 31, 47, 28, 38, 10, 17, 50, 29, 22, 20, 46, 51, 5, 25, 24, 12, 43, 6, 18, 39, 35, 37, 45, 14, 44, 4, 19] 1371.3031378751716\n",
      "[15, 27, 33, 3, 40, 13, 41, 11, 16, 32, 30, 42, 23, 48, 21, 34, 49, 9, 8, 2, 20, 1, 26, 7, 31, 47, 28, 38, 10, 17, 50, 29, 22, 36, 46, 51, 5, 25, 24, 12, 43, 6, 18, 39, 35, 37, 45, 14, 44, 4, 19] 1369.639934256853\n",
      "[15, 27, 33, 3, 40, 13, 41, 11, 16, 21, 30, 42, 23, 48, 32, 34, 49, 9, 8, 2, 20, 1, 26, 7, 31, 47, 28, 38, 10, 17, 50, 29, 22, 36, 46, 51, 5, 25, 24, 12, 43, 6, 18, 39, 35, 37, 45, 14, 44, 4, 19] 1346.7200370663431\n",
      "[15, 27, 33, 25, 40, 13, 41, 11, 16, 21, 30, 42, 23, 48, 32, 34, 49, 9, 8, 2, 20, 1, 26, 7, 31, 47, 28, 38, 10, 17, 50, 29, 22, 36, 46, 51, 5, 3, 24, 12, 43, 6, 18, 39, 35, 37, 45, 14, 44, 4, 19] 1331.4790596528446\n",
      "[15, 27, 33, 25, 40, 13, 41, 11, 16, 21, 30, 42, 23, 48, 28, 34, 49, 9, 8, 2, 20, 1, 26, 7, 31, 47, 32, 38, 10, 17, 50, 29, 22, 36, 46, 51, 5, 3, 24, 12, 43, 6, 18, 39, 35, 37, 45, 14, 44, 4, 19] 1310.0756590937594\n",
      "[15, 17, 33, 25, 40, 13, 41, 11, 16, 21, 30, 42, 23, 48, 28, 34, 49, 9, 8, 2, 20, 1, 26, 7, 31, 47, 32, 38, 10, 27, 50, 29, 22, 36, 46, 51, 5, 3, 24, 12, 43, 6, 18, 39, 35, 37, 45, 14, 44, 4, 19] 1276.8612224089843\n",
      "[15, 44, 33, 25, 40, 13, 41, 11, 16, 21, 30, 42, 23, 48, 28, 34, 49, 9, 8, 2, 20, 1, 26, 7, 31, 47, 32, 38, 10, 17, 50, 29, 22, 36, 46, 51, 5, 3, 24, 12, 43, 6, 18, 39, 35, 37, 45, 14, 27, 4, 19] 1254.956506471627\n",
      "[15, 44, 33, 25, 40, 13, 41, 11, 16, 21, 30, 42, 23, 48, 28, 34, 49, 9, 8, 2, 20, 1, 26, 7, 31, 47, 39, 38, 10, 17, 50, 29, 22, 36, 46, 51, 5, 3, 24, 12, 43, 6, 18, 32, 35, 37, 45, 14, 27, 4, 19] 1245.5601584849778\n",
      "[15, 44, 33, 25, 40, 13, 41, 37, 16, 21, 30, 42, 23, 48, 28, 34, 49, 9, 8, 2, 20, 1, 26, 7, 31, 47, 39, 38, 10, 17, 50, 29, 22, 36, 46, 51, 5, 3, 24, 12, 43, 6, 18, 32, 35, 11, 45, 14, 27, 4, 19] 1241.8883886050621\n",
      "[15, 44, 33, 25, 40, 13, 41, 37, 16, 21, 30, 42, 23, 48, 28, 34, 49, 9, 12, 2, 20, 1, 26, 7, 31, 47, 39, 38, 10, 17, 50, 29, 22, 36, 46, 51, 5, 3, 24, 8, 43, 6, 18, 32, 35, 11, 45, 14, 27, 4, 19] 1209.1085150262065\n",
      "[15, 44, 33, 25, 40, 13, 41, 37, 16, 21, 30, 42, 23, 48, 20, 34, 49, 9, 12, 2, 28, 1, 26, 7, 31, 47, 39, 38, 10, 17, 50, 29, 22, 36, 46, 51, 5, 3, 24, 8, 43, 6, 18, 32, 35, 11, 45, 14, 27, 4, 19] 1208.6696871982008\n",
      "[15, 44, 33, 25, 40, 13, 41, 37, 47, 21, 30, 42, 23, 48, 20, 34, 49, 9, 12, 2, 28, 1, 26, 7, 31, 16, 39, 38, 10, 17, 50, 29, 22, 36, 46, 51, 5, 3, 24, 8, 43, 6, 18, 32, 35, 11, 45, 14, 27, 4, 19] 1203.3478026271796\n",
      "[15, 44, 33, 25, 40, 13, 41, 37, 16, 21, 30, 42, 23, 48, 20, 34, 49, 9, 12, 2, 28, 1, 26, 7, 31, 36, 39, 38, 10, 17, 50, 29, 22, 47, 46, 51, 5, 3, 24, 8, 43, 6, 18, 32, 35, 11, 45, 14, 27, 4, 19] 1184.7130217730064\n",
      "[15, 44, 33, 25, 40, 13, 41, 37, 16, 21, 30, 42, 23, 48, 20, 34, 49, 10, 12, 2, 28, 1, 26, 7, 31, 36, 39, 38, 9, 17, 50, 29, 22, 47, 46, 51, 5, 3, 24, 8, 43, 6, 18, 32, 35, 11, 45, 14, 27, 4, 19] 1182.6184975764763\n",
      "[15, 44, 33, 25, 40, 13, 41, 37, 16, 21, 30, 19, 23, 48, 20, 34, 49, 10, 12, 2, 28, 1, 26, 7, 31, 36, 39, 38, 9, 17, 50, 29, 22, 47, 46, 51, 5, 3, 24, 8, 43, 6, 18, 32, 35, 11, 45, 14, 27, 4, 42] 1180.0914469488437\n",
      "[15, 44, 33, 25, 40, 13, 41, 37, 16, 21, 30, 19, 23, 48, 12, 34, 49, 10, 20, 2, 28, 1, 26, 7, 31, 36, 39, 38, 9, 17, 50, 29, 22, 47, 46, 51, 5, 3, 24, 8, 43, 6, 18, 32, 35, 11, 45, 14, 27, 4, 42] 1178.3602054536082\n",
      "[15, 44, 33, 25, 40, 13, 41, 37, 16, 21, 30, 6, 23, 48, 12, 34, 49, 10, 20, 2, 28, 1, 26, 7, 31, 36, 39, 38, 9, 17, 50, 29, 22, 47, 46, 51, 5, 3, 24, 8, 43, 19, 18, 32, 35, 11, 45, 14, 27, 4, 42] 1174.4846474290543\n",
      "[15, 44, 33, 25, 40, 13, 41, 37, 50, 21, 30, 6, 23, 48, 12, 34, 49, 10, 20, 2, 28, 1, 26, 7, 31, 36, 39, 38, 9, 17, 16, 29, 22, 47, 46, 51, 5, 3, 24, 8, 43, 19, 18, 32, 35, 11, 45, 14, 27, 4, 42] 1169.603300226826\n",
      "[15, 44, 33, 25, 40, 13, 41, 37, 16, 21, 30, 6, 23, 48, 12, 34, 49, 10, 50, 2, 28, 1, 26, 7, 31, 36, 39, 38, 9, 17, 20, 29, 22, 47, 46, 51, 5, 3, 24, 8, 43, 19, 18, 32, 35, 11, 45, 14, 27, 4, 42] 1168.3799954698466\n",
      "[15, 44, 33, 25, 40, 13, 41, 37, 16, 21, 30, 6, 23, 48, 12, 34, 49, 10, 50, 2, 28, 1, 26, 7, 31, 29, 39, 38, 9, 17, 20, 36, 22, 47, 46, 51, 5, 3, 24, 8, 43, 19, 18, 32, 35, 11, 45, 14, 27, 4, 42] 1159.254984794627\n",
      "[15, 44, 33, 25, 40, 13, 41, 37, 16, 21, 30, 6, 23, 48, 12, 11, 49, 10, 50, 2, 28, 1, 26, 7, 31, 29, 39, 38, 9, 17, 20, 36, 22, 47, 46, 51, 5, 3, 24, 8, 43, 19, 18, 32, 35, 34, 45, 14, 27, 4, 42] 1144.8077884105185\n",
      "[15, 44, 33, 25, 40, 13, 41, 37, 16, 21, 30, 6, 23, 48, 12, 11, 49, 10, 50, 2, 28, 1, 26, 7, 31, 29, 39, 38, 9, 17, 20, 36, 22, 47, 46, 51, 5, 3, 24, 8, 43, 27, 18, 32, 35, 34, 45, 14, 19, 4, 42] 1122.9614511693046\n",
      "[15, 44, 33, 25, 40, 13, 41, 37, 16, 21, 30, 6, 23, 48, 12, 11, 49, 10, 50, 2, 28, 1, 26, 7, 31, 17, 39, 38, 9, 29, 20, 36, 22, 47, 46, 51, 5, 3, 24, 8, 43, 27, 18, 32, 35, 34, 45, 14, 19, 4, 42] 1093.488896230119\n",
      "[15, 44, 33, 25, 40, 13, 41, 37, 16, 21, 30, 6, 23, 48, 12, 9, 49, 10, 50, 2, 28, 1, 26, 7, 31, 17, 39, 38, 11, 29, 20, 36, 22, 47, 46, 51, 5, 3, 24, 8, 43, 27, 18, 32, 35, 34, 45, 14, 19, 4, 42] 1093.1221738607405\n",
      "[15, 44, 33, 25, 40, 13, 41, 37, 16, 21, 30, 6, 23, 48, 12, 39, 49, 10, 50, 2, 28, 1, 26, 7, 31, 17, 9, 38, 11, 29, 20, 36, 22, 47, 46, 51, 5, 3, 24, 8, 43, 27, 18, 32, 35, 34, 45, 14, 19, 4, 42] 1092.2892963444683\n",
      "[15, 39, 33, 25, 40, 13, 41, 37, 16, 21, 30, 6, 23, 48, 12, 9, 49, 10, 50, 2, 28, 1, 26, 7, 31, 17, 44, 38, 11, 29, 20, 36, 22, 47, 46, 51, 5, 3, 24, 8, 43, 27, 18, 32, 35, 34, 45, 14, 19, 4, 42] 1083.3725213687378\n",
      "[15, 39, 33, 25, 40, 13, 41, 37, 16, 21, 30, 6, 23, 48, 12, 9, 49, 10, 50, 2, 28, 1, 26, 7, 31, 17, 44, 45, 11, 29, 20, 36, 22, 47, 46, 51, 5, 3, 24, 8, 43, 27, 18, 32, 35, 34, 38, 14, 19, 4, 42] 1069.267037908888\n",
      "[15, 39, 33, 25, 40, 13, 41, 37, 16, 21, 30, 27, 23, 48, 12, 9, 49, 10, 50, 2, 28, 1, 26, 7, 31, 17, 44, 45, 11, 29, 20, 36, 22, 47, 46, 51, 5, 3, 24, 8, 43, 6, 18, 32, 35, 34, 38, 14, 19, 4, 42] 1056.0449107466836\n",
      "[15, 39, 33, 25, 40, 13, 41, 37, 16, 21, 30, 6, 23, 48, 12, 9, 49, 10, 50, 2, 28, 1, 26, 7, 31, 17, 44, 45, 11, 29, 20, 36, 22, 47, 46, 51, 5, 3, 24, 8, 43, 14, 18, 32, 35, 34, 38, 27, 19, 4, 42] 1049.1264777245215\n",
      "[15, 39, 33, 25, 40, 13, 41, 37, 16, 21, 30, 6, 23, 48, 12, 9, 49, 10, 50, 2, 28, 1, 26, 7, 31, 17, 44, 45, 11, 29, 20, 36, 22, 47, 46, 51, 27, 3, 24, 8, 43, 14, 18, 32, 35, 34, 38, 5, 19, 4, 42] 1014.3493642846079\n",
      "[15, 39, 33, 25, 40, 13, 41, 37, 16, 21, 30, 6, 23, 24, 12, 9, 49, 10, 50, 2, 28, 1, 26, 7, 31, 17, 44, 45, 11, 29, 20, 36, 22, 47, 46, 51, 27, 3, 48, 8, 43, 14, 18, 32, 35, 34, 38, 5, 19, 4, 42] 988.2667276064922\n",
      "[15, 39, 33, 25, 40, 13, 41, 37, 16, 21, 9, 6, 23, 24, 12, 30, 49, 10, 50, 2, 28, 1, 26, 7, 31, 17, 44, 45, 11, 29, 20, 36, 22, 47, 46, 51, 27, 3, 48, 8, 43, 14, 18, 32, 35, 34, 38, 5, 19, 4, 42] 988.2334137486209\n",
      "[15, 39, 33, 25, 40, 13, 41, 37, 16, 21, 50, 6, 23, 24, 12, 9, 49, 10, 30, 2, 28, 1, 26, 7, 31, 17, 44, 45, 11, 29, 20, 36, 22, 47, 46, 51, 27, 3, 48, 8, 43, 14, 18, 32, 35, 34, 38, 5, 19, 4, 42] 977.2276448445275\n",
      "[15, 39, 33, 17, 40, 13, 41, 37, 16, 21, 50, 6, 23, 24, 12, 9, 49, 10, 30, 2, 28, 1, 26, 7, 31, 25, 44, 45, 11, 29, 20, 36, 22, 47, 46, 51, 27, 3, 48, 8, 43, 14, 18, 32, 35, 34, 38, 5, 19, 4, 42] 968.0272048652423\n",
      "[15, 39, 33, 17, 40, 13, 41, 37, 16, 21, 50, 6, 23, 24, 46, 9, 49, 10, 30, 2, 28, 1, 26, 7, 31, 25, 44, 45, 11, 29, 20, 36, 22, 47, 12, 51, 27, 3, 48, 8, 43, 14, 18, 32, 35, 34, 38, 5, 19, 4, 42] 966.6259034952777\n",
      "[15, 39, 33, 17, 40, 13, 41, 5, 16, 21, 50, 6, 23, 24, 46, 9, 49, 10, 30, 2, 28, 1, 26, 7, 31, 25, 44, 45, 11, 29, 20, 36, 22, 47, 12, 51, 27, 3, 48, 8, 43, 14, 18, 32, 35, 34, 38, 37, 19, 4, 42] 965.8844250198224\n",
      "[15, 39, 33, 17, 40, 13, 41, 5, 16, 21, 50, 6, 23, 24, 46, 9, 49, 10, 30, 2, 28, 1, 26, 7, 27, 25, 44, 45, 11, 29, 20, 36, 22, 47, 12, 51, 31, 3, 48, 8, 43, 14, 18, 32, 35, 34, 38, 37, 19, 4, 42] 957.2351234947271\n",
      "Final sequence: [15, 39, 33, 17, 40, 13, 41, 5, 16, 21, 50, 6, 23, 24, 46, 9, 49, 10, 30, 2, 28, 1, 26, 7, 27, 25, 44, 45, 11, 29, 20, 36, 22, 47, 12, 51, 31, 3, 48, 8, 43, 14, 18, 32, 35, 34, 38, 37, 19, 4, 42]\n",
      "Final distance: 957.2351234947271\n"
     ]
    },
    {
     "data": {
      "text/plain": [
       "Text(0, 0.5, 'Distance')"
      ]
     },
     "execution_count": 7,
     "metadata": {},
     "output_type": "execute_result"
    },
    {
     "data": {
      "image/png": "[encoded data removed]",
      "text/plain": [
       "<Figure size 432x288 with 1 Axes>"
      ]
     },
     "metadata": {
      "needs_background": "light"
     },
     "output_type": "display_data"
    }
   ],
   "source": [
    "#initial   \n",
    "num_cities =51\n",
    "global minVal \n",
    "minVal=0\n",
    "global min_seq\n",
    "min_seq= init(num_cities)\n",
    "seq = min_seq\n",
    "temp_min_seq = []\n",
    "temp_minVal = 0\n",
    "dic = {}\n",
    "readfile(dic)\n",
    "min_dist = 0\n",
    "iter_num = input('Please enter the iteration:')\n",
    "iter_num = int(iter_num)\n",
    "history_list = []\n",
    "i = 0\n",
    "#Execute\n",
    "import pandas as pd\n",
    "\n",
    "\n",
    "for i in range(iter_num): # iteration iter_num =10000次看看\n",
    "    seq_C32 = SwapC32(min_seq,CombinationC32(min_seq))\n",
    "    for seq_j in seq_C32:\n",
    "        if i==0:\n",
    "            #min_seq = seq_j[:]\n",
    "            #minVal = evalu(min_seq,dic)\n",
    "            min_seq, minVal= determine(seq_j,min_seq,dic)\n",
    "\n",
    "        temp_min_seq,temp_minVal = determine(seq_j,min_seq,dic)\n",
    "            \n",
    "        if minVal > temp_minVal:\n",
    "            min_seq = temp_min_seq\n",
    "            minVal = temp_minVal\n",
    "        i = i+1\n",
    "    history_list.append(minVal)\n",
    "    \n",
    "\n",
    "#Output\n",
    "\n",
    "print('Final sequence:',min_seq)\n",
    "print('Final distance:',minVal)\n",
    "\n",
    "#x = np.linspace(0, iter_num, iter_num)\n",
    "y = history_list\n",
    "\n",
    "\n",
    "plt.plot(y,color=\"blue\")\n",
    "plt.xlabel(\"Iteration times\")\n",
    "plt.ylabel(\"Distance\")\n"
   ]
  }
 ],
 "metadata": {
  "kernelspec": {
   "display_name": "Python 3",
   "language": "python",
   "name": "python3"
  },
  "language_info": {
   "codemirror_mode": {
    "name": "ipython",
    "version": 3
   },
   "file_extension": ".py",
   "mimetype": "text/x-python",
   "name": "python",
   "nbconvert_exporter": "python",
   "pygments_lexer": "ipython3",
   "version": "3.7.3"
  }
 },
 "nbformat": 4,
 "nbformat_minor": 4
}
